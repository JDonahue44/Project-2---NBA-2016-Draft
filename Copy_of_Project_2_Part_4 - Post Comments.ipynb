{
  "nbformat": 4,
  "nbformat_minor": 0,
  "metadata": {
    "colab": {
      "name": "Copy of Project 2 - Part 2",
      "provenance": [],
      "include_colab_link": true
    },
    "kernelspec": {
      "name": "python3",
      "display_name": "Python 3"
    },
    "language_info": {
      "name": "python"
    }
  },
  "cells": [
    {
      "cell_type": "markdown",
      "metadata": {
        "id": "view-in-github",
        "colab_type": "text"
      },
      "source": [
        "<a href=\"https://colab.research.google.com/github/JDonahue44/Project-2---NBA-2016-Draft/blob/main/Copy_of_Project_2_Part_4%20-%20Post%20Comments.ipynb\" target=\"_parent\"><img src=\"https://colab.research.google.com/assets/colab-badge.svg\" alt=\"Open In Colab\"/></a>"
      ]
    },
    {
      "cell_type": "code",
      "source": [
        "from sklearn.model_selection import train_test_split\n",
        "import pandas as pd\n",
        "import numpy as np\n",
        "from sklearn.compose import make_column_transformer, make_column_selector\n",
        "from sklearn.impute import SimpleImputer\n",
        "from sklearn.metrics import mean_absolute_error, mean_squared_error, r2_score\n",
        "from sklearn import set_config\n",
        "set_config(display='diagram')\n",
        "import seaborn as sns\n",
        "import matplotlib.pyplot as plt\n",
        "from sklearn.preprocessing import StandardScaler, OneHotEncoder\n",
        "from sklearn.cluster import KMeans\n",
        "from sklearn.model_selection import train_test_split\n",
        "from sklearn.linear_model import LinearRegression\n",
        "from sklearn.pipeline import make_pipeline\n",
        "from sklearn.neighbors import KNeighborsRegressor\n",
        "from sklearn.tree import DecisionTreeRegressor\n",
        "from sklearn.ensemble import BaggingRegressor\n",
        "from sklearn.decomposition import PCA"
      ],
      "metadata": {
        "id": "xpAfgFyNQVs3"
      },
      "execution_count": 1,
      "outputs": []
    },
    {
      "cell_type": "code",
      "source": [
        "from google.colab import drive\n",
        "drive.mount('/content/drive')"
      ],
      "metadata": {
        "colab": {
          "base_uri": "https://localhost:8080/"
        },
        "id": "RyyAjUlTEDId",
        "outputId": "885ad348-f73d-4a76-f416-97e17649528e"
      },
      "execution_count": 2,
      "outputs": [
        {
          "output_type": "stream",
          "name": "stdout",
          "text": [
            "Drive already mounted at /content/drive; to attempt to forcibly remount, call drive.mount(\"/content/drive\", force_remount=True).\n"
          ]
        }
      ]
    },
    {
      "cell_type": "code",
      "execution_count": 3,
      "metadata": {
        "id": "IJFBd17LNrIg"
      },
      "outputs": [],
      "source": [
        "filename = '/content/2016_nba_draft_combine.csv'"
      ]
    },
    {
      "cell_type": "code",
      "source": [
        "df = pd.read_csv(filename)\n",
        "df"
      ],
      "metadata": {
        "colab": {
          "base_uri": "https://localhost:8080/",
          "height": 661
        },
        "id": "JltJg-ION6XO",
        "outputId": "dadf7afa-1272-45e8-ef18-080d89704587"
      },
      "execution_count": 4,
      "outputs": [
        {
          "output_type": "execute_result",
          "data": {
            "text/plain": [
              "    Unnamed: 0          Player  Year  Draft pick  Height (No Shoes)  \\\n",
              "0            0    A.J. English  2016         NaN              74.00   \n",
              "1            1      Ben Bentil  2016        51.0              79.25   \n",
              "2            2   Brice Johnson  2016        25.0              81.00   \n",
              "3            3     Buddy Hield  2016         6.0              75.75   \n",
              "4            4  Caleb Swanigan  2016         NaN              79.50   \n",
              "..         ...             ...   ...         ...                ...   \n",
              "56          56   Troy Williams  2016         NaN              77.75   \n",
              "57          57      Tyler Ulis  2016        34.0              68.75   \n",
              "58          58    Wade Baldwin  2016        17.0              74.50   \n",
              "59          59    Wayne Selden  2016         NaN              76.25   \n",
              "60          60         Zhou Qi  2016        43.0              85.25   \n",
              "\n",
              "    Height (With Shoes)  Wingspan  Standing reach  Vertical (Max)  \\\n",
              "0                 75.00     82.00            98.5            35.5   \n",
              "1                 80.25     85.50           105.0            33.0   \n",
              "2                 82.50     84.50           106.5            38.0   \n",
              "3                 77.00     81.25           101.0             NaN   \n",
              "4                 80.50     87.50           107.0            29.0   \n",
              "..                  ...       ...             ...             ...   \n",
              "56                78.75     80.25           102.0            36.0   \n",
              "57                70.00     74.00            88.5            38.0   \n",
              "58                76.00     83.25           100.0            38.0   \n",
              "59                77.75     82.50           101.0             NaN   \n",
              "60                86.25     91.75           112.5            32.0   \n",
              "\n",
              "    Vertical (Max Reach)  Vertical (No Step)  Vertical (No Step Reach)  \\\n",
              "0                  134.0                29.5                     128.0   \n",
              "1                  138.0                29.0                     134.0   \n",
              "2                  144.5                33.5                     140.0   \n",
              "3                    NaN                 NaN                       NaN   \n",
              "4                  136.0                26.0                     133.0   \n",
              "..                   ...                 ...                       ...   \n",
              "56                 138.0                30.0                     132.0   \n",
              "57                 126.5                32.5                     121.0   \n",
              "58                 138.0                32.5                     132.5   \n",
              "59                   NaN                 NaN                       NaN   \n",
              "60                 144.5                31.5                     144.0   \n",
              "\n",
              "    Weight  Body Fat  Hand (Length)  Hand (Width)  Bench  Agility  Sprint  \n",
              "0    182.0       5.3           8.75          8.50    NaN    12.27    3.28  \n",
              "1    229.0       9.7           9.50         10.00    NaN    11.16    3.30  \n",
              "2    209.0       7.5           9.00          8.25    NaN    11.88    3.20  \n",
              "3    212.0       6.1           8.50          9.00    NaN      NaN     NaN  \n",
              "4    247.0      12.6           9.00         10.25    NaN    12.80     NaN  \n",
              "..     ...       ...            ...           ...    ...      ...     ...  \n",
              "56   218.0      10.0           8.25          9.25    NaN    10.72    3.35  \n",
              "57   149.0       5.2           7.50          7.50    NaN    10.80    3.20  \n",
              "58   202.0       5.2           9.00          9.75    NaN    10.45    3.19  \n",
              "59   232.0       7.3           9.00          9.25    NaN      NaN     NaN  \n",
              "60   218.0       4.9           9.25          9.50    NaN    11.27    3.46  \n",
              "\n",
              "[61 rows x 19 columns]"
            ],
            "text/html": [
              "\n",
              "  <div id=\"df-7d5211e5-7c3c-4a6e-a60a-f090c1840911\">\n",
              "    <div class=\"colab-df-container\">\n",
              "      <div>\n",
              "<style scoped>\n",
              "    .dataframe tbody tr th:only-of-type {\n",
              "        vertical-align: middle;\n",
              "    }\n",
              "\n",
              "    .dataframe tbody tr th {\n",
              "        vertical-align: top;\n",
              "    }\n",
              "\n",
              "    .dataframe thead th {\n",
              "        text-align: right;\n",
              "    }\n",
              "</style>\n",
              "<table border=\"1\" class=\"dataframe\">\n",
              "  <thead>\n",
              "    <tr style=\"text-align: right;\">\n",
              "      <th></th>\n",
              "      <th>Unnamed: 0</th>\n",
              "      <th>Player</th>\n",
              "      <th>Year</th>\n",
              "      <th>Draft pick</th>\n",
              "      <th>Height (No Shoes)</th>\n",
              "      <th>Height (With Shoes)</th>\n",
              "      <th>Wingspan</th>\n",
              "      <th>Standing reach</th>\n",
              "      <th>Vertical (Max)</th>\n",
              "      <th>Vertical (Max Reach)</th>\n",
              "      <th>Vertical (No Step)</th>\n",
              "      <th>Vertical (No Step Reach)</th>\n",
              "      <th>Weight</th>\n",
              "      <th>Body Fat</th>\n",
              "      <th>Hand (Length)</th>\n",
              "      <th>Hand (Width)</th>\n",
              "      <th>Bench</th>\n",
              "      <th>Agility</th>\n",
              "      <th>Sprint</th>\n",
              "    </tr>\n",
              "  </thead>\n",
              "  <tbody>\n",
              "    <tr>\n",
              "      <th>0</th>\n",
              "      <td>0</td>\n",
              "      <td>A.J. English</td>\n",
              "      <td>2016</td>\n",
              "      <td>NaN</td>\n",
              "      <td>74.00</td>\n",
              "      <td>75.00</td>\n",
              "      <td>82.00</td>\n",
              "      <td>98.5</td>\n",
              "      <td>35.5</td>\n",
              "      <td>134.0</td>\n",
              "      <td>29.5</td>\n",
              "      <td>128.0</td>\n",
              "      <td>182.0</td>\n",
              "      <td>5.3</td>\n",
              "      <td>8.75</td>\n",
              "      <td>8.50</td>\n",
              "      <td>NaN</td>\n",
              "      <td>12.27</td>\n",
              "      <td>3.28</td>\n",
              "    </tr>\n",
              "    <tr>\n",
              "      <th>1</th>\n",
              "      <td>1</td>\n",
              "      <td>Ben Bentil</td>\n",
              "      <td>2016</td>\n",
              "      <td>51.0</td>\n",
              "      <td>79.25</td>\n",
              "      <td>80.25</td>\n",
              "      <td>85.50</td>\n",
              "      <td>105.0</td>\n",
              "      <td>33.0</td>\n",
              "      <td>138.0</td>\n",
              "      <td>29.0</td>\n",
              "      <td>134.0</td>\n",
              "      <td>229.0</td>\n",
              "      <td>9.7</td>\n",
              "      <td>9.50</td>\n",
              "      <td>10.00</td>\n",
              "      <td>NaN</td>\n",
              "      <td>11.16</td>\n",
              "      <td>3.30</td>\n",
              "    </tr>\n",
              "    <tr>\n",
              "      <th>2</th>\n",
              "      <td>2</td>\n",
              "      <td>Brice Johnson</td>\n",
              "      <td>2016</td>\n",
              "      <td>25.0</td>\n",
              "      <td>81.00</td>\n",
              "      <td>82.50</td>\n",
              "      <td>84.50</td>\n",
              "      <td>106.5</td>\n",
              "      <td>38.0</td>\n",
              "      <td>144.5</td>\n",
              "      <td>33.5</td>\n",
              "      <td>140.0</td>\n",
              "      <td>209.0</td>\n",
              "      <td>7.5</td>\n",
              "      <td>9.00</td>\n",
              "      <td>8.25</td>\n",
              "      <td>NaN</td>\n",
              "      <td>11.88</td>\n",
              "      <td>3.20</td>\n",
              "    </tr>\n",
              "    <tr>\n",
              "      <th>3</th>\n",
              "      <td>3</td>\n",
              "      <td>Buddy Hield</td>\n",
              "      <td>2016</td>\n",
              "      <td>6.0</td>\n",
              "      <td>75.75</td>\n",
              "      <td>77.00</td>\n",
              "      <td>81.25</td>\n",
              "      <td>101.0</td>\n",
              "      <td>NaN</td>\n",
              "      <td>NaN</td>\n",
              "      <td>NaN</td>\n",
              "      <td>NaN</td>\n",
              "      <td>212.0</td>\n",
              "      <td>6.1</td>\n",
              "      <td>8.50</td>\n",
              "      <td>9.00</td>\n",
              "      <td>NaN</td>\n",
              "      <td>NaN</td>\n",
              "      <td>NaN</td>\n",
              "    </tr>\n",
              "    <tr>\n",
              "      <th>4</th>\n",
              "      <td>4</td>\n",
              "      <td>Caleb Swanigan</td>\n",
              "      <td>2016</td>\n",
              "      <td>NaN</td>\n",
              "      <td>79.50</td>\n",
              "      <td>80.50</td>\n",
              "      <td>87.50</td>\n",
              "      <td>107.0</td>\n",
              "      <td>29.0</td>\n",
              "      <td>136.0</td>\n",
              "      <td>26.0</td>\n",
              "      <td>133.0</td>\n",
              "      <td>247.0</td>\n",
              "      <td>12.6</td>\n",
              "      <td>9.00</td>\n",
              "      <td>10.25</td>\n",
              "      <td>NaN</td>\n",
              "      <td>12.80</td>\n",
              "      <td>NaN</td>\n",
              "    </tr>\n",
              "    <tr>\n",
              "      <th>...</th>\n",
              "      <td>...</td>\n",
              "      <td>...</td>\n",
              "      <td>...</td>\n",
              "      <td>...</td>\n",
              "      <td>...</td>\n",
              "      <td>...</td>\n",
              "      <td>...</td>\n",
              "      <td>...</td>\n",
              "      <td>...</td>\n",
              "      <td>...</td>\n",
              "      <td>...</td>\n",
              "      <td>...</td>\n",
              "      <td>...</td>\n",
              "      <td>...</td>\n",
              "      <td>...</td>\n",
              "      <td>...</td>\n",
              "      <td>...</td>\n",
              "      <td>...</td>\n",
              "      <td>...</td>\n",
              "    </tr>\n",
              "    <tr>\n",
              "      <th>56</th>\n",
              "      <td>56</td>\n",
              "      <td>Troy Williams</td>\n",
              "      <td>2016</td>\n",
              "      <td>NaN</td>\n",
              "      <td>77.75</td>\n",
              "      <td>78.75</td>\n",
              "      <td>80.25</td>\n",
              "      <td>102.0</td>\n",
              "      <td>36.0</td>\n",
              "      <td>138.0</td>\n",
              "      <td>30.0</td>\n",
              "      <td>132.0</td>\n",
              "      <td>218.0</td>\n",
              "      <td>10.0</td>\n",
              "      <td>8.25</td>\n",
              "      <td>9.25</td>\n",
              "      <td>NaN</td>\n",
              "      <td>10.72</td>\n",
              "      <td>3.35</td>\n",
              "    </tr>\n",
              "    <tr>\n",
              "      <th>57</th>\n",
              "      <td>57</td>\n",
              "      <td>Tyler Ulis</td>\n",
              "      <td>2016</td>\n",
              "      <td>34.0</td>\n",
              "      <td>68.75</td>\n",
              "      <td>70.00</td>\n",
              "      <td>74.00</td>\n",
              "      <td>88.5</td>\n",
              "      <td>38.0</td>\n",
              "      <td>126.5</td>\n",
              "      <td>32.5</td>\n",
              "      <td>121.0</td>\n",
              "      <td>149.0</td>\n",
              "      <td>5.2</td>\n",
              "      <td>7.50</td>\n",
              "      <td>7.50</td>\n",
              "      <td>NaN</td>\n",
              "      <td>10.80</td>\n",
              "      <td>3.20</td>\n",
              "    </tr>\n",
              "    <tr>\n",
              "      <th>58</th>\n",
              "      <td>58</td>\n",
              "      <td>Wade Baldwin</td>\n",
              "      <td>2016</td>\n",
              "      <td>17.0</td>\n",
              "      <td>74.50</td>\n",
              "      <td>76.00</td>\n",
              "      <td>83.25</td>\n",
              "      <td>100.0</td>\n",
              "      <td>38.0</td>\n",
              "      <td>138.0</td>\n",
              "      <td>32.5</td>\n",
              "      <td>132.5</td>\n",
              "      <td>202.0</td>\n",
              "      <td>5.2</td>\n",
              "      <td>9.00</td>\n",
              "      <td>9.75</td>\n",
              "      <td>NaN</td>\n",
              "      <td>10.45</td>\n",
              "      <td>3.19</td>\n",
              "    </tr>\n",
              "    <tr>\n",
              "      <th>59</th>\n",
              "      <td>59</td>\n",
              "      <td>Wayne Selden</td>\n",
              "      <td>2016</td>\n",
              "      <td>NaN</td>\n",
              "      <td>76.25</td>\n",
              "      <td>77.75</td>\n",
              "      <td>82.50</td>\n",
              "      <td>101.0</td>\n",
              "      <td>NaN</td>\n",
              "      <td>NaN</td>\n",
              "      <td>NaN</td>\n",
              "      <td>NaN</td>\n",
              "      <td>232.0</td>\n",
              "      <td>7.3</td>\n",
              "      <td>9.00</td>\n",
              "      <td>9.25</td>\n",
              "      <td>NaN</td>\n",
              "      <td>NaN</td>\n",
              "      <td>NaN</td>\n",
              "    </tr>\n",
              "    <tr>\n",
              "      <th>60</th>\n",
              "      <td>60</td>\n",
              "      <td>Zhou Qi</td>\n",
              "      <td>2016</td>\n",
              "      <td>43.0</td>\n",
              "      <td>85.25</td>\n",
              "      <td>86.25</td>\n",
              "      <td>91.75</td>\n",
              "      <td>112.5</td>\n",
              "      <td>32.0</td>\n",
              "      <td>144.5</td>\n",
              "      <td>31.5</td>\n",
              "      <td>144.0</td>\n",
              "      <td>218.0</td>\n",
              "      <td>4.9</td>\n",
              "      <td>9.25</td>\n",
              "      <td>9.50</td>\n",
              "      <td>NaN</td>\n",
              "      <td>11.27</td>\n",
              "      <td>3.46</td>\n",
              "    </tr>\n",
              "  </tbody>\n",
              "</table>\n",
              "<p>61 rows × 19 columns</p>\n",
              "</div>\n",
              "      <button class=\"colab-df-convert\" onclick=\"convertToInteractive('df-7d5211e5-7c3c-4a6e-a60a-f090c1840911')\"\n",
              "              title=\"Convert this dataframe to an interactive table.\"\n",
              "              style=\"display:none;\">\n",
              "        \n",
              "  <svg xmlns=\"http://www.w3.org/2000/svg\" height=\"24px\"viewBox=\"0 0 24 24\"\n",
              "       width=\"24px\">\n",
              "    <path d=\"M0 0h24v24H0V0z\" fill=\"none\"/>\n",
              "    <path d=\"M18.56 5.44l.94 2.06.94-2.06 2.06-.94-2.06-.94-.94-2.06-.94 2.06-2.06.94zm-11 1L8.5 8.5l.94-2.06 2.06-.94-2.06-.94L8.5 2.5l-.94 2.06-2.06.94zm10 10l.94 2.06.94-2.06 2.06-.94-2.06-.94-.94-2.06-.94 2.06-2.06.94z\"/><path d=\"M17.41 7.96l-1.37-1.37c-.4-.4-.92-.59-1.43-.59-.52 0-1.04.2-1.43.59L10.3 9.45l-7.72 7.72c-.78.78-.78 2.05 0 2.83L4 21.41c.39.39.9.59 1.41.59.51 0 1.02-.2 1.41-.59l7.78-7.78 2.81-2.81c.8-.78.8-2.07 0-2.86zM5.41 20L4 18.59l7.72-7.72 1.47 1.35L5.41 20z\"/>\n",
              "  </svg>\n",
              "      </button>\n",
              "      \n",
              "  <style>\n",
              "    .colab-df-container {\n",
              "      display:flex;\n",
              "      flex-wrap:wrap;\n",
              "      gap: 12px;\n",
              "    }\n",
              "\n",
              "    .colab-df-convert {\n",
              "      background-color: #E8F0FE;\n",
              "      border: none;\n",
              "      border-radius: 50%;\n",
              "      cursor: pointer;\n",
              "      display: none;\n",
              "      fill: #1967D2;\n",
              "      height: 32px;\n",
              "      padding: 0 0 0 0;\n",
              "      width: 32px;\n",
              "    }\n",
              "\n",
              "    .colab-df-convert:hover {\n",
              "      background-color: #E2EBFA;\n",
              "      box-shadow: 0px 1px 2px rgba(60, 64, 67, 0.3), 0px 1px 3px 1px rgba(60, 64, 67, 0.15);\n",
              "      fill: #174EA6;\n",
              "    }\n",
              "\n",
              "    [theme=dark] .colab-df-convert {\n",
              "      background-color: #3B4455;\n",
              "      fill: #D2E3FC;\n",
              "    }\n",
              "\n",
              "    [theme=dark] .colab-df-convert:hover {\n",
              "      background-color: #434B5C;\n",
              "      box-shadow: 0px 1px 3px 1px rgba(0, 0, 0, 0.15);\n",
              "      filter: drop-shadow(0px 1px 2px rgba(0, 0, 0, 0.3));\n",
              "      fill: #FFFFFF;\n",
              "    }\n",
              "  </style>\n",
              "\n",
              "      <script>\n",
              "        const buttonEl =\n",
              "          document.querySelector('#df-7d5211e5-7c3c-4a6e-a60a-f090c1840911 button.colab-df-convert');\n",
              "        buttonEl.style.display =\n",
              "          google.colab.kernel.accessAllowed ? 'block' : 'none';\n",
              "\n",
              "        async function convertToInteractive(key) {\n",
              "          const element = document.querySelector('#df-7d5211e5-7c3c-4a6e-a60a-f090c1840911');\n",
              "          const dataTable =\n",
              "            await google.colab.kernel.invokeFunction('convertToInteractive',\n",
              "                                                     [key], {});\n",
              "          if (!dataTable) return;\n",
              "\n",
              "          const docLinkHtml = 'Like what you see? Visit the ' +\n",
              "            '<a target=\"_blank\" href=https://colab.research.google.com/notebooks/data_table.ipynb>data table notebook</a>'\n",
              "            + ' to learn more about interactive tables.';\n",
              "          element.innerHTML = '';\n",
              "          dataTable['output_type'] = 'display_data';\n",
              "          await google.colab.output.renderOutput(dataTable, element);\n",
              "          const docLink = document.createElement('div');\n",
              "          docLink.innerHTML = docLinkHtml;\n",
              "          element.appendChild(docLink);\n",
              "        }\n",
              "      </script>\n",
              "    </div>\n",
              "  </div>\n",
              "  "
            ]
          },
          "metadata": {},
          "execution_count": 4
        }
      ]
    },
    {
      "cell_type": "code",
      "source": [
        "df.info()"
      ],
      "metadata": {
        "colab": {
          "base_uri": "https://localhost:8080/"
        },
        "id": "lI8vQta4OHN3",
        "outputId": "a3c572f2-02ae-47a0-98f1-a4c5bc73be29"
      },
      "execution_count": 5,
      "outputs": [
        {
          "output_type": "stream",
          "name": "stdout",
          "text": [
            "<class 'pandas.core.frame.DataFrame'>\n",
            "RangeIndex: 61 entries, 0 to 60\n",
            "Data columns (total 19 columns):\n",
            " #   Column                    Non-Null Count  Dtype  \n",
            "---  ------                    --------------  -----  \n",
            " 0   Unnamed: 0                61 non-null     int64  \n",
            " 1   Player                    61 non-null     object \n",
            " 2   Year                      61 non-null     int64  \n",
            " 3   Draft pick                38 non-null     float64\n",
            " 4   Height (No Shoes)         61 non-null     float64\n",
            " 5   Height (With Shoes)       61 non-null     float64\n",
            " 6   Wingspan                  61 non-null     float64\n",
            " 7   Standing reach            61 non-null     float64\n",
            " 8   Vertical (Max)            49 non-null     float64\n",
            " 9   Vertical (Max Reach)      49 non-null     float64\n",
            " 10  Vertical (No Step)        49 non-null     float64\n",
            " 11  Vertical (No Step Reach)  49 non-null     float64\n",
            " 12  Weight                    60 non-null     float64\n",
            " 13  Body Fat                  60 non-null     float64\n",
            " 14  Hand (Length)             61 non-null     float64\n",
            " 15  Hand (Width)              61 non-null     float64\n",
            " 16  Bench                     0 non-null      float64\n",
            " 17  Agility                   49 non-null     float64\n",
            " 18  Sprint                    48 non-null     float64\n",
            "dtypes: float64(16), int64(2), object(1)\n",
            "memory usage: 9.2+ KB\n"
          ]
        }
      ]
    },
    {
      "cell_type": "code",
      "source": [
        "df.duplicated().sum()"
      ],
      "metadata": {
        "colab": {
          "base_uri": "https://localhost:8080/"
        },
        "id": "qYfqV-dZOJnL",
        "outputId": "0062c973-a450-47d4-faf8-fdf0ad739158"
      },
      "execution_count": 6,
      "outputs": [
        {
          "output_type": "execute_result",
          "data": {
            "text/plain": [
              "0"
            ]
          },
          "metadata": {},
          "execution_count": 6
        }
      ]
    },
    {
      "cell_type": "code",
      "source": [
        "df = df.drop('Unnamed: 0', axis = 1)\n",
        "print(df.head())"
      ],
      "metadata": {
        "colab": {
          "base_uri": "https://localhost:8080/"
        },
        "id": "KGGeoTv5OQPr",
        "outputId": "379182f7-58a9-425e-987e-8cab13c0766f"
      },
      "execution_count": 7,
      "outputs": [
        {
          "output_type": "stream",
          "name": "stdout",
          "text": [
            "           Player  Year  Draft pick  Height (No Shoes)  Height (With Shoes)  \\\n",
            "0    A.J. English  2016         NaN              74.00                75.00   \n",
            "1      Ben Bentil  2016        51.0              79.25                80.25   \n",
            "2   Brice Johnson  2016        25.0              81.00                82.50   \n",
            "3     Buddy Hield  2016         6.0              75.75                77.00   \n",
            "4  Caleb Swanigan  2016         NaN              79.50                80.50   \n",
            "\n",
            "   Wingspan  Standing reach  Vertical (Max)  Vertical (Max Reach)  \\\n",
            "0     82.00            98.5            35.5                 134.0   \n",
            "1     85.50           105.0            33.0                 138.0   \n",
            "2     84.50           106.5            38.0                 144.5   \n",
            "3     81.25           101.0             NaN                   NaN   \n",
            "4     87.50           107.0            29.0                 136.0   \n",
            "\n",
            "   Vertical (No Step)  Vertical (No Step Reach)  Weight  Body Fat  \\\n",
            "0                29.5                     128.0   182.0       5.3   \n",
            "1                29.0                     134.0   229.0       9.7   \n",
            "2                33.5                     140.0   209.0       7.5   \n",
            "3                 NaN                       NaN   212.0       6.1   \n",
            "4                26.0                     133.0   247.0      12.6   \n",
            "\n",
            "   Hand (Length)  Hand (Width)  Bench  Agility  Sprint  \n",
            "0           8.75          8.50    NaN    12.27    3.28  \n",
            "1           9.50         10.00    NaN    11.16    3.30  \n",
            "2           9.00          8.25    NaN    11.88    3.20  \n",
            "3           8.50          9.00    NaN      NaN     NaN  \n",
            "4           9.00         10.25    NaN    12.80     NaN  \n"
          ]
        }
      ]
    },
    {
      "cell_type": "code",
      "source": [
        "df = df.drop('Year', axis = 1)\n",
        "print(df.head())"
      ],
      "metadata": {
        "colab": {
          "base_uri": "https://localhost:8080/"
        },
        "id": "CiGuLmMhPfR-",
        "outputId": "02de58f0-d512-432e-ca35-a697ffa657fc"
      },
      "execution_count": 8,
      "outputs": [
        {
          "output_type": "stream",
          "name": "stdout",
          "text": [
            "           Player  Draft pick  Height (No Shoes)  Height (With Shoes)  \\\n",
            "0    A.J. English         NaN              74.00                75.00   \n",
            "1      Ben Bentil        51.0              79.25                80.25   \n",
            "2   Brice Johnson        25.0              81.00                82.50   \n",
            "3     Buddy Hield         6.0              75.75                77.00   \n",
            "4  Caleb Swanigan         NaN              79.50                80.50   \n",
            "\n",
            "   Wingspan  Standing reach  Vertical (Max)  Vertical (Max Reach)  \\\n",
            "0     82.00            98.5            35.5                 134.0   \n",
            "1     85.50           105.0            33.0                 138.0   \n",
            "2     84.50           106.5            38.0                 144.5   \n",
            "3     81.25           101.0             NaN                   NaN   \n",
            "4     87.50           107.0            29.0                 136.0   \n",
            "\n",
            "   Vertical (No Step)  Vertical (No Step Reach)  Weight  Body Fat  \\\n",
            "0                29.5                     128.0   182.0       5.3   \n",
            "1                29.0                     134.0   229.0       9.7   \n",
            "2                33.5                     140.0   209.0       7.5   \n",
            "3                 NaN                       NaN   212.0       6.1   \n",
            "4                26.0                     133.0   247.0      12.6   \n",
            "\n",
            "   Hand (Length)  Hand (Width)  Bench  Agility  Sprint  \n",
            "0           8.75          8.50    NaN    12.27    3.28  \n",
            "1           9.50         10.00    NaN    11.16    3.30  \n",
            "2           9.00          8.25    NaN    11.88    3.20  \n",
            "3           8.50          9.00    NaN      NaN     NaN  \n",
            "4           9.00         10.25    NaN    12.80     NaN  \n"
          ]
        }
      ]
    },
    {
      "cell_type": "code",
      "source": [
        "df = df.drop('Height (With Shoes)', axis = 1)\n",
        "print(df.head())"
      ],
      "metadata": {
        "colab": {
          "base_uri": "https://localhost:8080/"
        },
        "id": "hVLkzOqgPorf",
        "outputId": "a4d5177c-ac68-4efe-d27b-a390a5278d60"
      },
      "execution_count": 9,
      "outputs": [
        {
          "output_type": "stream",
          "name": "stdout",
          "text": [
            "           Player  Draft pick  Height (No Shoes)  Wingspan  Standing reach  \\\n",
            "0    A.J. English         NaN              74.00     82.00            98.5   \n",
            "1      Ben Bentil        51.0              79.25     85.50           105.0   \n",
            "2   Brice Johnson        25.0              81.00     84.50           106.5   \n",
            "3     Buddy Hield         6.0              75.75     81.25           101.0   \n",
            "4  Caleb Swanigan         NaN              79.50     87.50           107.0   \n",
            "\n",
            "   Vertical (Max)  Vertical (Max Reach)  Vertical (No Step)  \\\n",
            "0            35.5                 134.0                29.5   \n",
            "1            33.0                 138.0                29.0   \n",
            "2            38.0                 144.5                33.5   \n",
            "3             NaN                   NaN                 NaN   \n",
            "4            29.0                 136.0                26.0   \n",
            "\n",
            "   Vertical (No Step Reach)  Weight  Body Fat  Hand (Length)  Hand (Width)  \\\n",
            "0                     128.0   182.0       5.3           8.75          8.50   \n",
            "1                     134.0   229.0       9.7           9.50         10.00   \n",
            "2                     140.0   209.0       7.5           9.00          8.25   \n",
            "3                       NaN   212.0       6.1           8.50          9.00   \n",
            "4                     133.0   247.0      12.6           9.00         10.25   \n",
            "\n",
            "   Bench  Agility  Sprint  \n",
            "0    NaN    12.27    3.28  \n",
            "1    NaN    11.16    3.30  \n",
            "2    NaN    11.88    3.20  \n",
            "3    NaN      NaN     NaN  \n",
            "4    NaN    12.80     NaN  \n"
          ]
        }
      ]
    },
    {
      "cell_type": "code",
      "source": [
        "df = df.drop('Bench', axis = 1)\n",
        "print(df.head())"
      ],
      "metadata": {
        "colab": {
          "base_uri": "https://localhost:8080/"
        },
        "id": "Hsj0PT6lP-Uh",
        "outputId": "4788b723-b9c6-4758-d460-a2b8ab42e1fe"
      },
      "execution_count": 10,
      "outputs": [
        {
          "output_type": "stream",
          "name": "stdout",
          "text": [
            "           Player  Draft pick  Height (No Shoes)  Wingspan  Standing reach  \\\n",
            "0    A.J. English         NaN              74.00     82.00            98.5   \n",
            "1      Ben Bentil        51.0              79.25     85.50           105.0   \n",
            "2   Brice Johnson        25.0              81.00     84.50           106.5   \n",
            "3     Buddy Hield         6.0              75.75     81.25           101.0   \n",
            "4  Caleb Swanigan         NaN              79.50     87.50           107.0   \n",
            "\n",
            "   Vertical (Max)  Vertical (Max Reach)  Vertical (No Step)  \\\n",
            "0            35.5                 134.0                29.5   \n",
            "1            33.0                 138.0                29.0   \n",
            "2            38.0                 144.5                33.5   \n",
            "3             NaN                   NaN                 NaN   \n",
            "4            29.0                 136.0                26.0   \n",
            "\n",
            "   Vertical (No Step Reach)  Weight  Body Fat  Hand (Length)  Hand (Width)  \\\n",
            "0                     128.0   182.0       5.3           8.75          8.50   \n",
            "1                     134.0   229.0       9.7           9.50         10.00   \n",
            "2                     140.0   209.0       7.5           9.00          8.25   \n",
            "3                       NaN   212.0       6.1           8.50          9.00   \n",
            "4                     133.0   247.0      12.6           9.00         10.25   \n",
            "\n",
            "   Agility  Sprint  \n",
            "0    12.27    3.28  \n",
            "1    11.16    3.30  \n",
            "2    11.88    3.20  \n",
            "3      NaN     NaN  \n",
            "4    12.80     NaN  \n"
          ]
        }
      ]
    },
    {
      "cell_type": "code",
      "source": [
        "df.isna().sum()"
      ],
      "metadata": {
        "id": "J9vCU2FTSy1R",
        "colab": {
          "base_uri": "https://localhost:8080/"
        },
        "outputId": "673b78ab-6ccb-4938-fe97-a68103e1e6da"
      },
      "execution_count": 11,
      "outputs": [
        {
          "output_type": "execute_result",
          "data": {
            "text/plain": [
              "Player                       0\n",
              "Draft pick                  23\n",
              "Height (No Shoes)            0\n",
              "Wingspan                     0\n",
              "Standing reach               0\n",
              "Vertical (Max)              12\n",
              "Vertical (Max Reach)        12\n",
              "Vertical (No Step)          12\n",
              "Vertical (No Step Reach)    12\n",
              "Weight                       1\n",
              "Body Fat                     1\n",
              "Hand (Length)                0\n",
              "Hand (Width)                 0\n",
              "Agility                     12\n",
              "Sprint                      13\n",
              "dtype: int64"
            ]
          },
          "metadata": {},
          "execution_count": 11
        }
      ]
    },
    {
      "cell_type": "code",
      "source": [
        "df['Wingspan'] = df['Wingspan']. astype(int)\n",
        "df.info()"
      ],
      "metadata": {
        "colab": {
          "base_uri": "https://localhost:8080/"
        },
        "id": "1jis7gHxlR4D",
        "outputId": "e706db17-c675-4fb9-83fb-71fe9694aeec"
      },
      "execution_count": 12,
      "outputs": [
        {
          "output_type": "stream",
          "name": "stdout",
          "text": [
            "<class 'pandas.core.frame.DataFrame'>\n",
            "RangeIndex: 61 entries, 0 to 60\n",
            "Data columns (total 15 columns):\n",
            " #   Column                    Non-Null Count  Dtype  \n",
            "---  ------                    --------------  -----  \n",
            " 0   Player                    61 non-null     object \n",
            " 1   Draft pick                38 non-null     float64\n",
            " 2   Height (No Shoes)         61 non-null     float64\n",
            " 3   Wingspan                  61 non-null     int64  \n",
            " 4   Standing reach            61 non-null     float64\n",
            " 5   Vertical (Max)            49 non-null     float64\n",
            " 6   Vertical (Max Reach)      49 non-null     float64\n",
            " 7   Vertical (No Step)        49 non-null     float64\n",
            " 8   Vertical (No Step Reach)  49 non-null     float64\n",
            " 9   Weight                    60 non-null     float64\n",
            " 10  Body Fat                  60 non-null     float64\n",
            " 11  Hand (Length)             61 non-null     float64\n",
            " 12  Hand (Width)              61 non-null     float64\n",
            " 13  Agility                   49 non-null     float64\n",
            " 14  Sprint                    48 non-null     float64\n",
            "dtypes: float64(13), int64(1), object(1)\n",
            "memory usage: 7.3+ KB\n"
          ]
        }
      ]
    },
    {
      "cell_type": "code",
      "source": [
        "pick_to_wingspan = df.groupby(['Wingspan'])['Draft pick'].nunique()"
      ],
      "metadata": {
        "id": "qy_LtIt3jAKk"
      },
      "execution_count": 13,
      "outputs": []
    },
    {
      "cell_type": "code",
      "source": [
        "uniqueDraftpick = np.array(pick_to_wingspan.index)\n",
        "uniqueDraftpick"
      ],
      "metadata": {
        "colab": {
          "base_uri": "https://localhost:8080/"
        },
        "id": "aDZf4Ic1j9ap",
        "outputId": "c8c549f2-6871-4a8a-8bfd-222ebe601a4a"
      },
      "execution_count": 14,
      "outputs": [
        {
          "output_type": "execute_result",
          "data": {
            "text/plain": [
              "array([74, 77, 78, 79, 80, 81, 82, 83, 84, 85, 86, 87, 88, 91])"
            ]
          },
          "metadata": {},
          "execution_count": 14
        }
      ]
    },
    {
      "cell_type": "code",
      "source": [
        "uniqueWingspan = np.array(pick_to_wingspan.index)\n",
        "uniqueWingspan"
      ],
      "metadata": {
        "colab": {
          "base_uri": "https://localhost:8080/"
        },
        "id": "zwsvnDDTkOPN",
        "outputId": "b2dfde61-b943-4fbc-e728-7386528e1551"
      },
      "execution_count": 15,
      "outputs": [
        {
          "output_type": "execute_result",
          "data": {
            "text/plain": [
              "array([74, 77, 78, 79, 80, 81, 82, 83, 84, 85, 86, 87, 88, 91])"
            ]
          },
          "metadata": {},
          "execution_count": 15
        }
      ]
    },
    {
      "cell_type": "code",
      "source": [
        "X = df.drop(columns=['Wingspan'])\n",
        "y = df['Wingspan']"
      ],
      "metadata": {
        "id": "YdCu5KGAQFAm"
      },
      "execution_count": 16,
      "outputs": []
    },
    {
      "cell_type": "code",
      "source": [
        "X_train, X_test, y_train, y_test = train_test_split(X, y, random_state=42)"
      ],
      "metadata": {
        "id": "fRfL5eoRZj-d"
      },
      "execution_count": 17,
      "outputs": []
    },
    {
      "cell_type": "code",
      "source": [
        "num_selector = make_column_selector(dtype_include='number')\n",
        "cat_selector = make_column_selector(dtype_include='object')"
      ],
      "metadata": {
        "id": "NpdOQef9ZF9g"
      },
      "execution_count": 18,
      "outputs": []
    },
    {
      "cell_type": "code",
      "source": [
        "num_columns = num_selector(X_train)\n",
        "cat_columns = cat_selector(X_train)"
      ],
      "metadata": {
        "id": "dhcw-1PrZh4i"
      },
      "execution_count": 19,
      "outputs": []
    },
    {
      "cell_type": "code",
      "source": [
        "print('numeric columns are', num_columns)\n",
        "print('categorical columns are', cat_columns)"
      ],
      "metadata": {
        "colab": {
          "base_uri": "https://localhost:8080/"
        },
        "id": "eokfe2UtZnM-",
        "outputId": "16fe5012-fd3a-40ea-f315-9cc091cc6298"
      },
      "execution_count": 20,
      "outputs": [
        {
          "output_type": "stream",
          "name": "stdout",
          "text": [
            "numeric columns are ['Draft pick', 'Height (No Shoes)', 'Standing reach', 'Vertical (Max)', 'Vertical (Max Reach)', 'Vertical (No Step)', 'Vertical (No Step Reach)', 'Weight', 'Body Fat', 'Hand (Length)', 'Hand (Width)', 'Agility', 'Sprint']\n",
            "categorical columns are ['Player']\n"
          ]
        }
      ]
    },
    {
      "cell_type": "code",
      "source": [
        "mean_imputer = SimpleImputer(strategy = 'mean')\n",
        "mean_imputer.fit(X_train[num_columns])"
      ],
      "metadata": {
        "colab": {
          "base_uri": "https://localhost:8080/",
          "height": 75
        },
        "id": "dq30TTG7ZrWP",
        "outputId": "43e498fb-0a96-4918-f009-127d548a5b4b"
      },
      "execution_count": 21,
      "outputs": [
        {
          "output_type": "execute_result",
          "data": {
            "text/plain": [
              "SimpleImputer()"
            ],
            "text/html": [
              "<style>#sk-5d139423-547f-4818-9b64-b78ee2a93dbc {color: black;background-color: white;}#sk-5d139423-547f-4818-9b64-b78ee2a93dbc pre{padding: 0;}#sk-5d139423-547f-4818-9b64-b78ee2a93dbc div.sk-toggleable {background-color: white;}#sk-5d139423-547f-4818-9b64-b78ee2a93dbc label.sk-toggleable__label {cursor: pointer;display: block;width: 100%;margin-bottom: 0;padding: 0.3em;box-sizing: border-box;text-align: center;}#sk-5d139423-547f-4818-9b64-b78ee2a93dbc label.sk-toggleable__label-arrow:before {content: \"▸\";float: left;margin-right: 0.25em;color: #696969;}#sk-5d139423-547f-4818-9b64-b78ee2a93dbc label.sk-toggleable__label-arrow:hover:before {color: black;}#sk-5d139423-547f-4818-9b64-b78ee2a93dbc div.sk-estimator:hover label.sk-toggleable__label-arrow:before {color: black;}#sk-5d139423-547f-4818-9b64-b78ee2a93dbc div.sk-toggleable__content {max-height: 0;max-width: 0;overflow: hidden;text-align: left;background-color: #f0f8ff;}#sk-5d139423-547f-4818-9b64-b78ee2a93dbc div.sk-toggleable__content pre {margin: 0.2em;color: black;border-radius: 0.25em;background-color: #f0f8ff;}#sk-5d139423-547f-4818-9b64-b78ee2a93dbc input.sk-toggleable__control:checked~div.sk-toggleable__content {max-height: 200px;max-width: 100%;overflow: auto;}#sk-5d139423-547f-4818-9b64-b78ee2a93dbc input.sk-toggleable__control:checked~label.sk-toggleable__label-arrow:before {content: \"▾\";}#sk-5d139423-547f-4818-9b64-b78ee2a93dbc div.sk-estimator input.sk-toggleable__control:checked~label.sk-toggleable__label {background-color: #d4ebff;}#sk-5d139423-547f-4818-9b64-b78ee2a93dbc div.sk-label input.sk-toggleable__control:checked~label.sk-toggleable__label {background-color: #d4ebff;}#sk-5d139423-547f-4818-9b64-b78ee2a93dbc input.sk-hidden--visually {border: 0;clip: rect(1px 1px 1px 1px);clip: rect(1px, 1px, 1px, 1px);height: 1px;margin: -1px;overflow: hidden;padding: 0;position: absolute;width: 1px;}#sk-5d139423-547f-4818-9b64-b78ee2a93dbc div.sk-estimator {font-family: monospace;background-color: #f0f8ff;border: 1px dotted black;border-radius: 0.25em;box-sizing: border-box;margin-bottom: 0.5em;}#sk-5d139423-547f-4818-9b64-b78ee2a93dbc div.sk-estimator:hover {background-color: #d4ebff;}#sk-5d139423-547f-4818-9b64-b78ee2a93dbc div.sk-parallel-item::after {content: \"\";width: 100%;border-bottom: 1px solid gray;flex-grow: 1;}#sk-5d139423-547f-4818-9b64-b78ee2a93dbc div.sk-label:hover label.sk-toggleable__label {background-color: #d4ebff;}#sk-5d139423-547f-4818-9b64-b78ee2a93dbc div.sk-serial::before {content: \"\";position: absolute;border-left: 1px solid gray;box-sizing: border-box;top: 2em;bottom: 0;left: 50%;}#sk-5d139423-547f-4818-9b64-b78ee2a93dbc div.sk-serial {display: flex;flex-direction: column;align-items: center;background-color: white;padding-right: 0.2em;padding-left: 0.2em;}#sk-5d139423-547f-4818-9b64-b78ee2a93dbc div.sk-item {z-index: 1;}#sk-5d139423-547f-4818-9b64-b78ee2a93dbc div.sk-parallel {display: flex;align-items: stretch;justify-content: center;background-color: white;}#sk-5d139423-547f-4818-9b64-b78ee2a93dbc div.sk-parallel::before {content: \"\";position: absolute;border-left: 1px solid gray;box-sizing: border-box;top: 2em;bottom: 0;left: 50%;}#sk-5d139423-547f-4818-9b64-b78ee2a93dbc div.sk-parallel-item {display: flex;flex-direction: column;position: relative;background-color: white;}#sk-5d139423-547f-4818-9b64-b78ee2a93dbc div.sk-parallel-item:first-child::after {align-self: flex-end;width: 50%;}#sk-5d139423-547f-4818-9b64-b78ee2a93dbc div.sk-parallel-item:last-child::after {align-self: flex-start;width: 50%;}#sk-5d139423-547f-4818-9b64-b78ee2a93dbc div.sk-parallel-item:only-child::after {width: 0;}#sk-5d139423-547f-4818-9b64-b78ee2a93dbc div.sk-dashed-wrapped {border: 1px dashed gray;margin: 0 0.4em 0.5em 0.4em;box-sizing: border-box;padding-bottom: 0.4em;background-color: white;position: relative;}#sk-5d139423-547f-4818-9b64-b78ee2a93dbc div.sk-label label {font-family: monospace;font-weight: bold;background-color: white;display: inline-block;line-height: 1.2em;}#sk-5d139423-547f-4818-9b64-b78ee2a93dbc div.sk-label-container {position: relative;z-index: 2;text-align: center;}#sk-5d139423-547f-4818-9b64-b78ee2a93dbc div.sk-container {/* jupyter's `normalize.less` sets `[hidden] { display: none; }` but bootstrap.min.css set `[hidden] { display: none !important; }` so we also need the `!important` here to be able to override the default hidden behavior on the sphinx rendered scikit-learn.org. See: https://github.com/scikit-learn/scikit-learn/issues/21755 */display: inline-block !important;position: relative;}#sk-5d139423-547f-4818-9b64-b78ee2a93dbc div.sk-text-repr-fallback {display: none;}</style><div id=\"sk-5d139423-547f-4818-9b64-b78ee2a93dbc\" class=\"sk-top-container\"><div class=\"sk-text-repr-fallback\"><pre>SimpleImputer()</pre><b>Please rerun this cell to show the HTML repr or trust the notebook.</b></div><div class=\"sk-container\" hidden><div class=\"sk-item\"><div class=\"sk-estimator sk-toggleable\"><input class=\"sk-toggleable__control sk-hidden--visually\" id=\"5d93f49e-7c23-4850-b9d5-492c4718d472\" type=\"checkbox\" checked><label for=\"5d93f49e-7c23-4850-b9d5-492c4718d472\" class=\"sk-toggleable__label sk-toggleable__label-arrow\">SimpleImputer</label><div class=\"sk-toggleable__content\"><pre>SimpleImputer()</pre></div></div></div></div></div>"
            ]
          },
          "metadata": {},
          "execution_count": 21
        }
      ]
    },
    {
      "cell_type": "code",
      "source": [
        "X_train.loc[:, num_columns] = mean_imputer.transform(X_train[num_columns])\n",
        "X_test.loc[:, num_columns] = mean_imputer.transform(X_test[num_columns])"
      ],
      "metadata": {
        "id": "RxCLlH8AgNcX"
      },
      "execution_count": 22,
      "outputs": []
    },
    {
      "cell_type": "code",
      "source": [
        "constant_imputer = SimpleImputer(strategy='constant', fill_value = 'missing')\n",
        "constant_imputer.fit(X_train[cat_columns])"
      ],
      "metadata": {
        "colab": {
          "base_uri": "https://localhost:8080/",
          "height": 75
        },
        "id": "ycCYoj7qgQ0p",
        "outputId": "f0d57622-7287-4144-f917-2bfc0ac272bf"
      },
      "execution_count": 23,
      "outputs": [
        {
          "output_type": "execute_result",
          "data": {
            "text/plain": [
              "SimpleImputer(fill_value='missing', strategy='constant')"
            ],
            "text/html": [
              "<style>#sk-fc3c06cc-530c-444a-a26d-c345744fe44d {color: black;background-color: white;}#sk-fc3c06cc-530c-444a-a26d-c345744fe44d pre{padding: 0;}#sk-fc3c06cc-530c-444a-a26d-c345744fe44d div.sk-toggleable {background-color: white;}#sk-fc3c06cc-530c-444a-a26d-c345744fe44d label.sk-toggleable__label {cursor: pointer;display: block;width: 100%;margin-bottom: 0;padding: 0.3em;box-sizing: border-box;text-align: center;}#sk-fc3c06cc-530c-444a-a26d-c345744fe44d label.sk-toggleable__label-arrow:before {content: \"▸\";float: left;margin-right: 0.25em;color: #696969;}#sk-fc3c06cc-530c-444a-a26d-c345744fe44d label.sk-toggleable__label-arrow:hover:before {color: black;}#sk-fc3c06cc-530c-444a-a26d-c345744fe44d div.sk-estimator:hover label.sk-toggleable__label-arrow:before {color: black;}#sk-fc3c06cc-530c-444a-a26d-c345744fe44d div.sk-toggleable__content {max-height: 0;max-width: 0;overflow: hidden;text-align: left;background-color: #f0f8ff;}#sk-fc3c06cc-530c-444a-a26d-c345744fe44d div.sk-toggleable__content pre {margin: 0.2em;color: black;border-radius: 0.25em;background-color: #f0f8ff;}#sk-fc3c06cc-530c-444a-a26d-c345744fe44d input.sk-toggleable__control:checked~div.sk-toggleable__content {max-height: 200px;max-width: 100%;overflow: auto;}#sk-fc3c06cc-530c-444a-a26d-c345744fe44d input.sk-toggleable__control:checked~label.sk-toggleable__label-arrow:before {content: \"▾\";}#sk-fc3c06cc-530c-444a-a26d-c345744fe44d div.sk-estimator input.sk-toggleable__control:checked~label.sk-toggleable__label {background-color: #d4ebff;}#sk-fc3c06cc-530c-444a-a26d-c345744fe44d div.sk-label input.sk-toggleable__control:checked~label.sk-toggleable__label {background-color: #d4ebff;}#sk-fc3c06cc-530c-444a-a26d-c345744fe44d input.sk-hidden--visually {border: 0;clip: rect(1px 1px 1px 1px);clip: rect(1px, 1px, 1px, 1px);height: 1px;margin: -1px;overflow: hidden;padding: 0;position: absolute;width: 1px;}#sk-fc3c06cc-530c-444a-a26d-c345744fe44d div.sk-estimator {font-family: monospace;background-color: #f0f8ff;border: 1px dotted black;border-radius: 0.25em;box-sizing: border-box;margin-bottom: 0.5em;}#sk-fc3c06cc-530c-444a-a26d-c345744fe44d div.sk-estimator:hover {background-color: #d4ebff;}#sk-fc3c06cc-530c-444a-a26d-c345744fe44d div.sk-parallel-item::after {content: \"\";width: 100%;border-bottom: 1px solid gray;flex-grow: 1;}#sk-fc3c06cc-530c-444a-a26d-c345744fe44d div.sk-label:hover label.sk-toggleable__label {background-color: #d4ebff;}#sk-fc3c06cc-530c-444a-a26d-c345744fe44d div.sk-serial::before {content: \"\";position: absolute;border-left: 1px solid gray;box-sizing: border-box;top: 2em;bottom: 0;left: 50%;}#sk-fc3c06cc-530c-444a-a26d-c345744fe44d div.sk-serial {display: flex;flex-direction: column;align-items: center;background-color: white;padding-right: 0.2em;padding-left: 0.2em;}#sk-fc3c06cc-530c-444a-a26d-c345744fe44d div.sk-item {z-index: 1;}#sk-fc3c06cc-530c-444a-a26d-c345744fe44d div.sk-parallel {display: flex;align-items: stretch;justify-content: center;background-color: white;}#sk-fc3c06cc-530c-444a-a26d-c345744fe44d div.sk-parallel::before {content: \"\";position: absolute;border-left: 1px solid gray;box-sizing: border-box;top: 2em;bottom: 0;left: 50%;}#sk-fc3c06cc-530c-444a-a26d-c345744fe44d div.sk-parallel-item {display: flex;flex-direction: column;position: relative;background-color: white;}#sk-fc3c06cc-530c-444a-a26d-c345744fe44d div.sk-parallel-item:first-child::after {align-self: flex-end;width: 50%;}#sk-fc3c06cc-530c-444a-a26d-c345744fe44d div.sk-parallel-item:last-child::after {align-self: flex-start;width: 50%;}#sk-fc3c06cc-530c-444a-a26d-c345744fe44d div.sk-parallel-item:only-child::after {width: 0;}#sk-fc3c06cc-530c-444a-a26d-c345744fe44d div.sk-dashed-wrapped {border: 1px dashed gray;margin: 0 0.4em 0.5em 0.4em;box-sizing: border-box;padding-bottom: 0.4em;background-color: white;position: relative;}#sk-fc3c06cc-530c-444a-a26d-c345744fe44d div.sk-label label {font-family: monospace;font-weight: bold;background-color: white;display: inline-block;line-height: 1.2em;}#sk-fc3c06cc-530c-444a-a26d-c345744fe44d div.sk-label-container {position: relative;z-index: 2;text-align: center;}#sk-fc3c06cc-530c-444a-a26d-c345744fe44d div.sk-container {/* jupyter's `normalize.less` sets `[hidden] { display: none; }` but bootstrap.min.css set `[hidden] { display: none !important; }` so we also need the `!important` here to be able to override the default hidden behavior on the sphinx rendered scikit-learn.org. See: https://github.com/scikit-learn/scikit-learn/issues/21755 */display: inline-block !important;position: relative;}#sk-fc3c06cc-530c-444a-a26d-c345744fe44d div.sk-text-repr-fallback {display: none;}</style><div id=\"sk-fc3c06cc-530c-444a-a26d-c345744fe44d\" class=\"sk-top-container\"><div class=\"sk-text-repr-fallback\"><pre>SimpleImputer(fill_value=&#x27;missing&#x27;, strategy=&#x27;constant&#x27;)</pre><b>Please rerun this cell to show the HTML repr or trust the notebook.</b></div><div class=\"sk-container\" hidden><div class=\"sk-item\"><div class=\"sk-estimator sk-toggleable\"><input class=\"sk-toggleable__control sk-hidden--visually\" id=\"ad9436f7-d820-4d16-90b7-73447b54ba8b\" type=\"checkbox\" checked><label for=\"ad9436f7-d820-4d16-90b7-73447b54ba8b\" class=\"sk-toggleable__label sk-toggleable__label-arrow\">SimpleImputer</label><div class=\"sk-toggleable__content\"><pre>SimpleImputer(fill_value=&#x27;missing&#x27;, strategy=&#x27;constant&#x27;)</pre></div></div></div></div></div>"
            ]
          },
          "metadata": {},
          "execution_count": 23
        }
      ]
    },
    {
      "cell_type": "code",
      "source": [
        "X_train.loc[:, cat_columns] = constant_imputer.transform(X_train[cat_columns])\n",
        "X_test.loc[:, cat_columns] = constant_imputer.transform(X_test[cat_columns])"
      ],
      "metadata": {
        "id": "QBKvtNORh-YZ"
      },
      "execution_count": 24,
      "outputs": []
    },
    {
      "cell_type": "code",
      "source": [
        "sns.boxplot(data = df.loc[:, ['Height (No Shoes)']], notch = True)"
      ],
      "metadata": {
        "colab": {
          "base_uri": "https://localhost:8080/",
          "height": 282
        },
        "id": "sUgJ832mkDJx",
        "outputId": "1555e6de-e9ca-4bf5-fcf1-7e6b83712dad"
      },
      "execution_count": 25,
      "outputs": [
        {
          "output_type": "execute_result",
          "data": {
            "text/plain": [
              "<matplotlib.axes._subplots.AxesSubplot at 0x7fac463a7a90>"
            ]
          },
          "metadata": {},
          "execution_count": 25
        },
        {
          "output_type": "display_data",
          "data": {
            "text/plain": [
              "<Figure size 432x288 with 1 Axes>"
            ],
            "image/png": "[encoded data removed]"
          },
          "metadata": {
            "needs_background": "light"
          }
        }
      ]
    },
    {
      "cell_type": "code",
      "source": [
        "sns.boxplot(data = df.loc[:, ['Wingspan']], notch = True)"
      ],
      "metadata": {
        "colab": {
          "base_uri": "https://localhost:8080/",
          "height": 282
        },
        "id": "nmKt6bvgkf4C",
        "outputId": "2077ea8c-3c29-4060-a05b-33fdb22181bc"
      },
      "execution_count": 26,
      "outputs": [
        {
          "output_type": "execute_result",
          "data": {
            "text/plain": [
              "<matplotlib.axes._subplots.AxesSubplot at 0x7fac4631ba90>"
            ]
          },
          "metadata": {},
          "execution_count": 26
        },
        {
          "output_type": "display_data",
          "data": {
            "text/plain": [
              "<Figure size 432x288 with 1 Axes>"
            ],
            "image/png": "[encoded data removed]"
          },
          "metadata": {
            "needs_background": "light"
          }
        }
      ]
    },
    {
      "cell_type": "code",
      "source": [
        "sns.boxplot(data = df.loc[:, ['Standing reach']], notch = True)"
      ],
      "metadata": {
        "colab": {
          "base_uri": "https://localhost:8080/",
          "height": 282
        },
        "id": "qaROfDnjkpLv",
        "outputId": "c01a2019-fecf-4503-c35d-ee00622bd908"
      },
      "execution_count": 27,
      "outputs": [
        {
          "output_type": "execute_result",
          "data": {
            "text/plain": [
              "<matplotlib.axes._subplots.AxesSubplot at 0x7fac45e01e90>"
            ]
          },
          "metadata": {},
          "execution_count": 27
        },
        {
          "output_type": "display_data",
          "data": {
            "text/plain": [
              "<Figure size 432x288 with 1 Axes>"
            ],
            "image/png": "[encoded data removed]"
          },
          "metadata": {
            "needs_background": "light"
          }
        }
      ]
    },
    {
      "cell_type": "code",
      "source": [
        "plt.scatter(df.index,df['Vertical (Max)'])\n",
        "plt.show"
      ],
      "metadata": {
        "colab": {
          "base_uri": "https://localhost:8080/",
          "height": 282
        },
        "id": "8_BVnKgsk5w-",
        "outputId": "6d954bf2-26b3-4e9d-c919-865e2d91a6c7"
      },
      "execution_count": 28,
      "outputs": [
        {
          "output_type": "execute_result",
          "data": {
            "text/plain": [
              "<function matplotlib.pyplot.show>"
            ]
          },
          "metadata": {},
          "execution_count": 28
        },
        {
          "output_type": "display_data",
          "data": {
            "text/plain": [
              "<Figure size 432x288 with 1 Axes>"
            ],
            "image/png": "[encoded data removed]"
          },
          "metadata": {
            "needs_background": "light"
          }
        }
      ]
    },
    {
      "cell_type": "code",
      "source": [
        "plt.scatter(df.index,df['Vertical (Max Reach)'])\n",
        "plt.show"
      ],
      "metadata": {
        "colab": {
          "base_uri": "https://localhost:8080/",
          "height": 282
        },
        "id": "Vr-YRkJWlypZ",
        "outputId": "c73f857c-9f5b-4a9e-e616-5236070c602e"
      },
      "execution_count": 29,
      "outputs": [
        {
          "output_type": "execute_result",
          "data": {
            "text/plain": [
              "<function matplotlib.pyplot.show>"
            ]
          },
          "metadata": {},
          "execution_count": 29
        },
        {
          "output_type": "display_data",
          "data": {
            "text/plain": [
              "<Figure size 432x288 with 1 Axes>"
            ],
            "image/png": "[encoded data removed]"
          },
          "metadata": {
            "needs_background": "light"
          }
        }
      ]
    },
    {
      "cell_type": "code",
      "source": [
        "plt.scatter(df.index,df['Vertical (No Step)'])\n",
        "plt.show"
      ],
      "metadata": {
        "colab": {
          "base_uri": "https://localhost:8080/",
          "height": 283
        },
        "id": "8YIXq4yxl3IH",
        "outputId": "30fa2fe9-a692-4e83-8779-3d3eff5bb9ed"
      },
      "execution_count": 30,
      "outputs": [
        {
          "output_type": "execute_result",
          "data": {
            "text/plain": [
              "<function matplotlib.pyplot.show>"
            ]
          },
          "metadata": {},
          "execution_count": 30
        },
        {
          "output_type": "display_data",
          "data": {
            "text/plain": [
              "<Figure size 432x288 with 1 Axes>"
            ],
            "image/png": "[encoded data removed]"
          },
          "metadata": {
            "needs_background": "light"
          }
        }
      ]
    },
    {
      "cell_type": "code",
      "source": [
        "plt.scatter(df.index,df['Vertical (No Step Reach)'])\n",
        "plt.show"
      ],
      "metadata": {
        "colab": {
          "base_uri": "https://localhost:8080/",
          "height": 284
        },
        "id": "oFUB2xVSmAXH",
        "outputId": "41e1aedb-676b-4f13-ab83-99b4caaadeda"
      },
      "execution_count": 31,
      "outputs": [
        {
          "output_type": "execute_result",
          "data": {
            "text/plain": [
              "<function matplotlib.pyplot.show>"
            ]
          },
          "metadata": {},
          "execution_count": 31
        },
        {
          "output_type": "display_data",
          "data": {
            "text/plain": [
              "<Figure size 432x288 with 1 Axes>"
            ],
            "image/png": "[encoded data removed]"
          },
          "metadata": {
            "needs_background": "light"
          }
        }
      ]
    },
    {
      "cell_type": "code",
      "source": [
        "sns.boxplot(data = df.loc[:, ['Weight']], notch = True)"
      ],
      "metadata": {
        "colab": {
          "base_uri": "https://localhost:8080/",
          "height": 282
        },
        "id": "bd2mYy-7mIAG",
        "outputId": "00b0bfdf-dd7d-4493-eedf-b9ad70f2897d"
      },
      "execution_count": 32,
      "outputs": [
        {
          "output_type": "execute_result",
          "data": {
            "text/plain": [
              "<matplotlib.axes._subplots.AxesSubplot at 0x7fac45b95950>"
            ]
          },
          "metadata": {},
          "execution_count": 32
        },
        {
          "output_type": "display_data",
          "data": {
            "text/plain": [
              "<Figure size 432x288 with 1 Axes>"
            ],
            "image/png": "[encoded data removed]"
          },
          "metadata": {
            "needs_background": "light"
          }
        }
      ]
    },
    {
      "cell_type": "code",
      "source": [
        "sns.boxplot(data = df.loc[:, ['Body Fat']], notch = True)"
      ],
      "metadata": {
        "colab": {
          "base_uri": "https://localhost:8080/",
          "height": 282
        },
        "id": "yeZrKPLdmPj4",
        "outputId": "09f87fb1-335a-472c-e44f-e0296e109b9e"
      },
      "execution_count": 33,
      "outputs": [
        {
          "output_type": "execute_result",
          "data": {
            "text/plain": [
              "<matplotlib.axes._subplots.AxesSubplot at 0x7fac45b7d110>"
            ]
          },
          "metadata": {},
          "execution_count": 33
        },
        {
          "output_type": "display_data",
          "data": {
            "text/plain": [
              "<Figure size 432x288 with 1 Axes>"
            ],
            "image/png": "[encoded data removed]"
          },
          "metadata": {
            "needs_background": "light"
          }
        }
      ]
    },
    {
      "cell_type": "code",
      "source": [
        "plt.scatter(df.index,df['Hand (Length)'])\n",
        "plt.show"
      ],
      "metadata": {
        "colab": {
          "base_uri": "https://localhost:8080/",
          "height": 286
        },
        "id": "nAKRoVnTmWK3",
        "outputId": "b4948263-1242-4c44-e5fa-4fd9889a2056"
      },
      "execution_count": 34,
      "outputs": [
        {
          "output_type": "execute_result",
          "data": {
            "text/plain": [
              "<function matplotlib.pyplot.show>"
            ]
          },
          "metadata": {},
          "execution_count": 34
        },
        {
          "output_type": "display_data",
          "data": {
            "text/plain": [
              "<Figure size 432x288 with 1 Axes>"
            ],
            "image/png": "[encoded data removed]"
          },
          "metadata": {
            "needs_background": "light"
          }
        }
      ]
    },
    {
      "cell_type": "code",
      "source": [
        "plt.scatter(df.index,df['Hand (Width)'])\n",
        "plt.show"
      ],
      "metadata": {
        "colab": {
          "base_uri": "https://localhost:8080/",
          "height": 282
        },
        "id": "w5XCTNsHmkHq",
        "outputId": "4c7abc0f-f596-4532-b4b8-578e03351942"
      },
      "execution_count": 35,
      "outputs": [
        {
          "output_type": "execute_result",
          "data": {
            "text/plain": [
              "<function matplotlib.pyplot.show>"
            ]
          },
          "metadata": {},
          "execution_count": 35
        },
        {
          "output_type": "display_data",
          "data": {
            "text/plain": [
              "<Figure size 432x288 with 1 Axes>"
            ],
            "image/png": "[encoded data removed]"
          },
          "metadata": {
            "needs_background": "light"
          }
        }
      ]
    },
    {
      "cell_type": "code",
      "source": [
        "sns.boxplot(data = df.loc[:, ['Agility']], notch = True)"
      ],
      "metadata": {
        "colab": {
          "base_uri": "https://localhost:8080/",
          "height": 282
        },
        "id": "Jzqs8Uubmn23",
        "outputId": "5f61f384-ebd8-4d11-cf03-43490cf6630a"
      },
      "execution_count": 36,
      "outputs": [
        {
          "output_type": "execute_result",
          "data": {
            "text/plain": [
              "<matplotlib.axes._subplots.AxesSubplot at 0x7fac459d4090>"
            ]
          },
          "metadata": {},
          "execution_count": 36
        },
        {
          "output_type": "display_data",
          "data": {
            "text/plain": [
              "<Figure size 432x288 with 1 Axes>"
            ],
            "image/png": "[encoded data removed]"
          },
          "metadata": {
            "needs_background": "light"
          }
        }
      ]
    },
    {
      "cell_type": "code",
      "source": [
        "sns.boxplot(data = df.loc[:, ['Sprint']], notch = True)"
      ],
      "metadata": {
        "colab": {
          "base_uri": "https://localhost:8080/",
          "height": 282
        },
        "id": "2j61ju53mvV2",
        "outputId": "c02e7b8a-217d-4ddb-8266-2adeb5bd9c57"
      },
      "execution_count": 37,
      "outputs": [
        {
          "output_type": "execute_result",
          "data": {
            "text/plain": [
              "<matplotlib.axes._subplots.AxesSubplot at 0x7fac459b0310>"
            ]
          },
          "metadata": {},
          "execution_count": 37
        },
        {
          "output_type": "display_data",
          "data": {
            "text/plain": [
              "<Figure size 432x288 with 1 Axes>"
            ],
            "image/png": "[encoded data removed]"
          },
          "metadata": {
            "needs_background": "light"
          }
        }
      ]
    },
    {
      "cell_type": "markdown",
      "source": [
        "The First step I took was to drop import my dataset. I shortly followed that step with the decision to drop columns from my dataset that weren't relevant to my data including: Unnamed: 0, Year, Height (With Shoes) & Bench. I decided to use these imputers in my data because I didn't want these missing pieces of data to skew what I was working with. As I was going through my data visualizations, a couple of outliers stood out to me : Body Fat & Height with no shoes. It was interesting to see the variation of the plyer body types that were drafted in this data set."
      ],
      "metadata": {
        "id": "SRwOBElLfXaW"
      }
    },
    {
      "cell_type": "code",
      "source": [
        "plt.scatter(df.index,df['Vertical (Max)'])\n",
        "plt.scatter(df.index,df['Vertical (No Step)'])\n",
        "plt.scatter(df.index,df['Vertical (Max Reach)'])\n",
        "plt.show"
      ],
      "metadata": {
        "colab": {
          "base_uri": "https://localhost:8080/",
          "height": 282
        },
        "id": "On2FJodQbKEA",
        "outputId": "a8bd80c3-24db-42a2-fd67-7ea76d19ad72"
      },
      "execution_count": 38,
      "outputs": [
        {
          "output_type": "execute_result",
          "data": {
            "text/plain": [
              "<function matplotlib.pyplot.show>"
            ]
          },
          "metadata": {},
          "execution_count": 38
        },
        {
          "output_type": "display_data",
          "data": {
            "text/plain": [
              "<Figure size 432x288 with 1 Axes>"
            ],
            "image/png": "[encoded data removed]"
          },
          "metadata": {
            "needs_background": "light"
          }
        }
      ]
    },
    {
      "cell_type": "code",
      "source": [
        "plt.scatter(df.index,df['Hand (Length)'])\n",
        "plt.scatter(df.index,df['Hand (Width)'])\n",
        "plt.show"
      ],
      "metadata": {
        "colab": {
          "base_uri": "https://localhost:8080/",
          "height": 282
        },
        "id": "xyswcRFWeLhM",
        "outputId": "80d9c2e1-83ed-43ad-da17-cd23e5419d59"
      },
      "execution_count": 39,
      "outputs": [
        {
          "output_type": "execute_result",
          "data": {
            "text/plain": [
              "<function matplotlib.pyplot.show>"
            ]
          },
          "metadata": {},
          "execution_count": 39
        },
        {
          "output_type": "display_data",
          "data": {
            "text/plain": [
              "<Figure size 432x288 with 1 Axes>"
            ],
            "image/png": "[encoded data removed]"
          },
          "metadata": {
            "needs_background": "light"
          }
        }
      ]
    },
    {
      "cell_type": "code",
      "source": [
        "sns.scatterplot(df['Draft pick'], df['Wingspan'])\n",
        "plt.xlabel('Draft pick', fontsize = 16)\n",
        "plt.ylabel('Wingspan', fontsize = 16)\n",
        "plt.title('Draft Pick Wingspan', fontsize = 16)"
      ],
      "metadata": {
        "colab": {
          "base_uri": "https://localhost:8080/",
          "height": 374
        },
        "id": "sD5pUdYWkfVx",
        "outputId": "7f2d976b-9e66-43b6-ba81-05cd001f26d9"
      },
      "execution_count": 40,
      "outputs": [
        {
          "output_type": "stream",
          "name": "stderr",
          "text": [
            "/usr/local/lib/python3.7/dist-packages/seaborn/_decorators.py:43: FutureWarning: Pass the following variables as keyword args: x, y. From version 0.12, the only valid positional argument will be `data`, and passing other arguments without an explicit keyword will result in an error or misinterpretation.\n",
            "  FutureWarning\n"
          ]
        },
        {
          "output_type": "execute_result",
          "data": {
            "text/plain": [
              "Text(0.5, 1.0, 'Draft Pick Wingspan')"
            ]
          },
          "metadata": {},
          "execution_count": 40
        },
        {
          "output_type": "display_data",
          "data": {
            "text/plain": [
              "<Figure size 432x288 with 1 Axes>"
            ],
            "image/png": "[encoded data removed]"
          },
          "metadata": {
            "needs_background": "light"
          }
        }
      ]
    },
    {
      "cell_type": "markdown",
      "source": [
        "I wanted to do some research on how the wingspan of players effects their draft position. We can see from this model that most of the players drafted in the beginning portion of the draft have a wingspan of 80 or above besides 1 outlier. Once we cross the halfway point in the draft there is a much higher chance of a player's wingspan being below 80."
      ],
      "metadata": {
        "id": "_OwQukTCKL9Q"
      }
    },
    {
      "cell_type": "code",
      "source": [
        "sns.scatterplot(df['Draft pick'], df['Body Fat'])\n",
        "plt.xlabel('Draft pick', fontsize = 16)\n",
        "plt.ylabel('Body Fat', fontsize = 16)\n",
        "plt.title('Draft Pick Body Fat', fontsize = 16)"
      ],
      "metadata": {
        "colab": {
          "base_uri": "https://localhost:8080/",
          "height": 374
        },
        "id": "3uobUMl4JXEF",
        "outputId": "6635e09c-348b-4cf5-e19d-9e9617999e08"
      },
      "execution_count": 41,
      "outputs": [
        {
          "output_type": "stream",
          "name": "stderr",
          "text": [
            "/usr/local/lib/python3.7/dist-packages/seaborn/_decorators.py:43: FutureWarning: Pass the following variables as keyword args: x, y. From version 0.12, the only valid positional argument will be `data`, and passing other arguments without an explicit keyword will result in an error or misinterpretation.\n",
            "  FutureWarning\n"
          ]
        },
        {
          "output_type": "execute_result",
          "data": {
            "text/plain": [
              "Text(0.5, 1.0, 'Draft Pick Body Fat')"
            ]
          },
          "metadata": {},
          "execution_count": 41
        },
        {
          "output_type": "display_data",
          "data": {
            "text/plain": [
              "<Figure size 432x288 with 1 Axes>"
            ],
            "image/png": "[encoded data removed]"
          },
          "metadata": {
            "needs_background": "light"
          }
        }
      ]
    },
    {
      "cell_type": "markdown",
      "source": [
        "In this Chart we can see that there alot of player who were drafted had a low body fat percentage, and very few were actually above 10%"
      ],
      "metadata": {
        "id": "heRzBmp4NzUE"
      }
    },
    {
      "cell_type": "code",
      "source": [
        "X_train, X_test, y_train, y_test = train_test_split(X, y, random_state = 42)"
      ],
      "metadata": {
        "id": "Gq29Zld0h5Aa"
      },
      "execution_count": 42,
      "outputs": []
    },
    {
      "cell_type": "code",
      "source": [
        "encoder = OneHotEncoder(sparse=False, handle_unknown= 'ignore')"
      ],
      "metadata": {
        "id": "JXXSKlFYiQWb"
      },
      "execution_count": 43,
      "outputs": []
    },
    {
      "cell_type": "code",
      "source": [
        "scaler = StandardScaler()"
      ],
      "metadata": {
        "id": "VTK1467MsJi7"
      },
      "execution_count": 44,
      "outputs": []
    },
    {
      "cell_type": "code",
      "source": [
        "numeric_pipe = make_pipeline(mean_imputer, scaler)\n",
        "numeric_pipe"
      ],
      "metadata": {
        "id": "WEy_jK4biaBa",
        "outputId": "9cc731a7-d20c-4bd1-e8d1-d892717385fc",
        "colab": {
          "base_uri": "https://localhost:8080/",
          "height": 126
        }
      },
      "execution_count": 45,
      "outputs": [
        {
          "output_type": "execute_result",
          "data": {
            "text/plain": [
              "Pipeline(steps=[('simpleimputer', SimpleImputer()),\n",
              "                ('standardscaler', StandardScaler())])"
            ],
            "text/html": [
              "<style>#sk-fefc6942-1a48-4f92-b934-03e78198050f {color: black;background-color: white;}#sk-fefc6942-1a48-4f92-b934-03e78198050f pre{padding: 0;}#sk-fefc6942-1a48-4f92-b934-03e78198050f div.sk-toggleable {background-color: white;}#sk-fefc6942-1a48-4f92-b934-03e78198050f label.sk-toggleable__label {cursor: pointer;display: block;width: 100%;margin-bottom: 0;padding: 0.3em;box-sizing: border-box;text-align: center;}#sk-fefc6942-1a48-4f92-b934-03e78198050f label.sk-toggleable__label-arrow:before {content: \"▸\";float: left;margin-right: 0.25em;color: #696969;}#sk-fefc6942-1a48-4f92-b934-03e78198050f label.sk-toggleable__label-arrow:hover:before {color: black;}#sk-fefc6942-1a48-4f92-b934-03e78198050f div.sk-estimator:hover label.sk-toggleable__label-arrow:before {color: black;}#sk-fefc6942-1a48-4f92-b934-03e78198050f div.sk-toggleable__content {max-height: 0;max-width: 0;overflow: hidden;text-align: left;background-color: #f0f8ff;}#sk-fefc6942-1a48-4f92-b934-03e78198050f div.sk-toggleable__content pre {margin: 0.2em;color: black;border-radius: 0.25em;background-color: #f0f8ff;}#sk-fefc6942-1a48-4f92-b934-03e78198050f input.sk-toggleable__control:checked~div.sk-toggleable__content {max-height: 200px;max-width: 100%;overflow: auto;}#sk-fefc6942-1a48-4f92-b934-03e78198050f input.sk-toggleable__control:checked~label.sk-toggleable__label-arrow:before {content: \"▾\";}#sk-fefc6942-1a48-4f92-b934-03e78198050f div.sk-estimator input.sk-toggleable__control:checked~label.sk-toggleable__label {background-color: #d4ebff;}#sk-fefc6942-1a48-4f92-b934-03e78198050f div.sk-label input.sk-toggleable__control:checked~label.sk-toggleable__label {background-color: #d4ebff;}#sk-fefc6942-1a48-4f92-b934-03e78198050f input.sk-hidden--visually {border: 0;clip: rect(1px 1px 1px 1px);clip: rect(1px, 1px, 1px, 1px);height: 1px;margin: -1px;overflow: hidden;padding: 0;position: absolute;width: 1px;}#sk-fefc6942-1a48-4f92-b934-03e78198050f div.sk-estimator {font-family: monospace;background-color: #f0f8ff;border: 1px dotted black;border-radius: 0.25em;box-sizing: border-box;margin-bottom: 0.5em;}#sk-fefc6942-1a48-4f92-b934-03e78198050f div.sk-estimator:hover {background-color: #d4ebff;}#sk-fefc6942-1a48-4f92-b934-03e78198050f div.sk-parallel-item::after {content: \"\";width: 100%;border-bottom: 1px solid gray;flex-grow: 1;}#sk-fefc6942-1a48-4f92-b934-03e78198050f div.sk-label:hover label.sk-toggleable__label {background-color: #d4ebff;}#sk-fefc6942-1a48-4f92-b934-03e78198050f div.sk-serial::before {content: \"\";position: absolute;border-left: 1px solid gray;box-sizing: border-box;top: 2em;bottom: 0;left: 50%;}#sk-fefc6942-1a48-4f92-b934-03e78198050f div.sk-serial {display: flex;flex-direction: column;align-items: center;background-color: white;padding-right: 0.2em;padding-left: 0.2em;}#sk-fefc6942-1a48-4f92-b934-03e78198050f div.sk-item {z-index: 1;}#sk-fefc6942-1a48-4f92-b934-03e78198050f div.sk-parallel {display: flex;align-items: stretch;justify-content: center;background-color: white;}#sk-fefc6942-1a48-4f92-b934-03e78198050f div.sk-parallel::before {content: \"\";position: absolute;border-left: 1px solid gray;box-sizing: border-box;top: 2em;bottom: 0;left: 50%;}#sk-fefc6942-1a48-4f92-b934-03e78198050f div.sk-parallel-item {display: flex;flex-direction: column;position: relative;background-color: white;}#sk-fefc6942-1a48-4f92-b934-03e78198050f div.sk-parallel-item:first-child::after {align-self: flex-end;width: 50%;}#sk-fefc6942-1a48-4f92-b934-03e78198050f div.sk-parallel-item:last-child::after {align-self: flex-start;width: 50%;}#sk-fefc6942-1a48-4f92-b934-03e78198050f div.sk-parallel-item:only-child::after {width: 0;}#sk-fefc6942-1a48-4f92-b934-03e78198050f div.sk-dashed-wrapped {border: 1px dashed gray;margin: 0 0.4em 0.5em 0.4em;box-sizing: border-box;padding-bottom: 0.4em;background-color: white;position: relative;}#sk-fefc6942-1a48-4f92-b934-03e78198050f div.sk-label label {font-family: monospace;font-weight: bold;background-color: white;display: inline-block;line-height: 1.2em;}#sk-fefc6942-1a48-4f92-b934-03e78198050f div.sk-label-container {position: relative;z-index: 2;text-align: center;}#sk-fefc6942-1a48-4f92-b934-03e78198050f div.sk-container {/* jupyter's `normalize.less` sets `[hidden] { display: none; }` but bootstrap.min.css set `[hidden] { display: none !important; }` so we also need the `!important` here to be able to override the default hidden behavior on the sphinx rendered scikit-learn.org. See: https://github.com/scikit-learn/scikit-learn/issues/21755 */display: inline-block !important;position: relative;}#sk-fefc6942-1a48-4f92-b934-03e78198050f div.sk-text-repr-fallback {display: none;}</style><div id=\"sk-fefc6942-1a48-4f92-b934-03e78198050f\" class=\"sk-top-container\"><div class=\"sk-text-repr-fallback\"><pre>Pipeline(steps=[(&#x27;simpleimputer&#x27;, SimpleImputer()),\n",
              "                (&#x27;standardscaler&#x27;, StandardScaler())])</pre><b>Please rerun this cell to show the HTML repr or trust the notebook.</b></div><div class=\"sk-container\" hidden><div class=\"sk-item sk-dashed-wrapped\"><div class=\"sk-label-container\"><div class=\"sk-label sk-toggleable\"><input class=\"sk-toggleable__control sk-hidden--visually\" id=\"b4f110f7-53c8-4f49-8499-f55b6142903d\" type=\"checkbox\" ><label for=\"b4f110f7-53c8-4f49-8499-f55b6142903d\" class=\"sk-toggleable__label sk-toggleable__label-arrow\">Pipeline</label><div class=\"sk-toggleable__content\"><pre>Pipeline(steps=[(&#x27;simpleimputer&#x27;, SimpleImputer()),\n",
              "                (&#x27;standardscaler&#x27;, StandardScaler())])</pre></div></div></div><div class=\"sk-serial\"><div class=\"sk-item\"><div class=\"sk-estimator sk-toggleable\"><input class=\"sk-toggleable__control sk-hidden--visually\" id=\"5895f352-8239-4d5f-8b14-487279b50f10\" type=\"checkbox\" ><label for=\"5895f352-8239-4d5f-8b14-487279b50f10\" class=\"sk-toggleable__label sk-toggleable__label-arrow\">SimpleImputer</label><div class=\"sk-toggleable__content\"><pre>SimpleImputer()</pre></div></div></div><div class=\"sk-item\"><div class=\"sk-estimator sk-toggleable\"><input class=\"sk-toggleable__control sk-hidden--visually\" id=\"6563a346-29b4-442b-a859-223023f4bf40\" type=\"checkbox\" ><label for=\"6563a346-29b4-442b-a859-223023f4bf40\" class=\"sk-toggleable__label sk-toggleable__label-arrow\">StandardScaler</label><div class=\"sk-toggleable__content\"><pre>StandardScaler()</pre></div></div></div></div></div></div></div>"
            ]
          },
          "metadata": {},
          "execution_count": 45
        }
      ]
    },
    {
      "cell_type": "code",
      "source": [
        "categorical_pipe = make_pipeline(constant_imputer, encoder)\n",
        "categorical_pipe"
      ],
      "metadata": {
        "id": "dWqakU1kivAq",
        "outputId": "42ffd9e3-0c23-4400-c1d7-024609e8f3b7",
        "colab": {
          "base_uri": "https://localhost:8080/",
          "height": 126
        }
      },
      "execution_count": 46,
      "outputs": [
        {
          "output_type": "execute_result",
          "data": {
            "text/plain": [
              "Pipeline(steps=[('simpleimputer',\n",
              "                 SimpleImputer(fill_value='missing', strategy='constant')),\n",
              "                ('onehotencoder',\n",
              "                 OneHotEncoder(handle_unknown='ignore', sparse=False))])"
            ],
            "text/html": [
              "<style>#sk-0e412d2c-1eed-4555-bb31-92c6af1c1888 {color: black;background-color: white;}#sk-0e412d2c-1eed-4555-bb31-92c6af1c1888 pre{padding: 0;}#sk-0e412d2c-1eed-4555-bb31-92c6af1c1888 div.sk-toggleable {background-color: white;}#sk-0e412d2c-1eed-4555-bb31-92c6af1c1888 label.sk-toggleable__label {cursor: pointer;display: block;width: 100%;margin-bottom: 0;padding: 0.3em;box-sizing: border-box;text-align: center;}#sk-0e412d2c-1eed-4555-bb31-92c6af1c1888 label.sk-toggleable__label-arrow:before {content: \"▸\";float: left;margin-right: 0.25em;color: #696969;}#sk-0e412d2c-1eed-4555-bb31-92c6af1c1888 label.sk-toggleable__label-arrow:hover:before {color: black;}#sk-0e412d2c-1eed-4555-bb31-92c6af1c1888 div.sk-estimator:hover label.sk-toggleable__label-arrow:before {color: black;}#sk-0e412d2c-1eed-4555-bb31-92c6af1c1888 div.sk-toggleable__content {max-height: 0;max-width: 0;overflow: hidden;text-align: left;background-color: #f0f8ff;}#sk-0e412d2c-1eed-4555-bb31-92c6af1c1888 div.sk-toggleable__content pre {margin: 0.2em;color: black;border-radius: 0.25em;background-color: #f0f8ff;}#sk-0e412d2c-1eed-4555-bb31-92c6af1c1888 input.sk-toggleable__control:checked~div.sk-toggleable__content {max-height: 200px;max-width: 100%;overflow: auto;}#sk-0e412d2c-1eed-4555-bb31-92c6af1c1888 input.sk-toggleable__control:checked~label.sk-toggleable__label-arrow:before {content: \"▾\";}#sk-0e412d2c-1eed-4555-bb31-92c6af1c1888 div.sk-estimator input.sk-toggleable__control:checked~label.sk-toggleable__label {background-color: #d4ebff;}#sk-0e412d2c-1eed-4555-bb31-92c6af1c1888 div.sk-label input.sk-toggleable__control:checked~label.sk-toggleable__label {background-color: #d4ebff;}#sk-0e412d2c-1eed-4555-bb31-92c6af1c1888 input.sk-hidden--visually {border: 0;clip: rect(1px 1px 1px 1px);clip: rect(1px, 1px, 1px, 1px);height: 1px;margin: -1px;overflow: hidden;padding: 0;position: absolute;width: 1px;}#sk-0e412d2c-1eed-4555-bb31-92c6af1c1888 div.sk-estimator {font-family: monospace;background-color: #f0f8ff;border: 1px dotted black;border-radius: 0.25em;box-sizing: border-box;margin-bottom: 0.5em;}#sk-0e412d2c-1eed-4555-bb31-92c6af1c1888 div.sk-estimator:hover {background-color: #d4ebff;}#sk-0e412d2c-1eed-4555-bb31-92c6af1c1888 div.sk-parallel-item::after {content: \"\";width: 100%;border-bottom: 1px solid gray;flex-grow: 1;}#sk-0e412d2c-1eed-4555-bb31-92c6af1c1888 div.sk-label:hover label.sk-toggleable__label {background-color: #d4ebff;}#sk-0e412d2c-1eed-4555-bb31-92c6af1c1888 div.sk-serial::before {content: \"\";position: absolute;border-left: 1px solid gray;box-sizing: border-box;top: 2em;bottom: 0;left: 50%;}#sk-0e412d2c-1eed-4555-bb31-92c6af1c1888 div.sk-serial {display: flex;flex-direction: column;align-items: center;background-color: white;padding-right: 0.2em;padding-left: 0.2em;}#sk-0e412d2c-1eed-4555-bb31-92c6af1c1888 div.sk-item {z-index: 1;}#sk-0e412d2c-1eed-4555-bb31-92c6af1c1888 div.sk-parallel {display: flex;align-items: stretch;justify-content: center;background-color: white;}#sk-0e412d2c-1eed-4555-bb31-92c6af1c1888 div.sk-parallel::before {content: \"\";position: absolute;border-left: 1px solid gray;box-sizing: border-box;top: 2em;bottom: 0;left: 50%;}#sk-0e412d2c-1eed-4555-bb31-92c6af1c1888 div.sk-parallel-item {display: flex;flex-direction: column;position: relative;background-color: white;}#sk-0e412d2c-1eed-4555-bb31-92c6af1c1888 div.sk-parallel-item:first-child::after {align-self: flex-end;width: 50%;}#sk-0e412d2c-1eed-4555-bb31-92c6af1c1888 div.sk-parallel-item:last-child::after {align-self: flex-start;width: 50%;}#sk-0e412d2c-1eed-4555-bb31-92c6af1c1888 div.sk-parallel-item:only-child::after {width: 0;}#sk-0e412d2c-1eed-4555-bb31-92c6af1c1888 div.sk-dashed-wrapped {border: 1px dashed gray;margin: 0 0.4em 0.5em 0.4em;box-sizing: border-box;padding-bottom: 0.4em;background-color: white;position: relative;}#sk-0e412d2c-1eed-4555-bb31-92c6af1c1888 div.sk-label label {font-family: monospace;font-weight: bold;background-color: white;display: inline-block;line-height: 1.2em;}#sk-0e412d2c-1eed-4555-bb31-92c6af1c1888 div.sk-label-container {position: relative;z-index: 2;text-align: center;}#sk-0e412d2c-1eed-4555-bb31-92c6af1c1888 div.sk-container {/* jupyter's `normalize.less` sets `[hidden] { display: none; }` but bootstrap.min.css set `[hidden] { display: none !important; }` so we also need the `!important` here to be able to override the default hidden behavior on the sphinx rendered scikit-learn.org. See: https://github.com/scikit-learn/scikit-learn/issues/21755 */display: inline-block !important;position: relative;}#sk-0e412d2c-1eed-4555-bb31-92c6af1c1888 div.sk-text-repr-fallback {display: none;}</style><div id=\"sk-0e412d2c-1eed-4555-bb31-92c6af1c1888\" class=\"sk-top-container\"><div class=\"sk-text-repr-fallback\"><pre>Pipeline(steps=[(&#x27;simpleimputer&#x27;,\n",
              "                 SimpleImputer(fill_value=&#x27;missing&#x27;, strategy=&#x27;constant&#x27;)),\n",
              "                (&#x27;onehotencoder&#x27;,\n",
              "                 OneHotEncoder(handle_unknown=&#x27;ignore&#x27;, sparse=False))])</pre><b>Please rerun this cell to show the HTML repr or trust the notebook.</b></div><div class=\"sk-container\" hidden><div class=\"sk-item sk-dashed-wrapped\"><div class=\"sk-label-container\"><div class=\"sk-label sk-toggleable\"><input class=\"sk-toggleable__control sk-hidden--visually\" id=\"e6158774-a81a-440b-8a49-cb242977506b\" type=\"checkbox\" ><label for=\"e6158774-a81a-440b-8a49-cb242977506b\" class=\"sk-toggleable__label sk-toggleable__label-arrow\">Pipeline</label><div class=\"sk-toggleable__content\"><pre>Pipeline(steps=[(&#x27;simpleimputer&#x27;,\n",
              "                 SimpleImputer(fill_value=&#x27;missing&#x27;, strategy=&#x27;constant&#x27;)),\n",
              "                (&#x27;onehotencoder&#x27;,\n",
              "                 OneHotEncoder(handle_unknown=&#x27;ignore&#x27;, sparse=False))])</pre></div></div></div><div class=\"sk-serial\"><div class=\"sk-item\"><div class=\"sk-estimator sk-toggleable\"><input class=\"sk-toggleable__control sk-hidden--visually\" id=\"45f55734-690b-4368-8052-a65ca53be7ea\" type=\"checkbox\" ><label for=\"45f55734-690b-4368-8052-a65ca53be7ea\" class=\"sk-toggleable__label sk-toggleable__label-arrow\">SimpleImputer</label><div class=\"sk-toggleable__content\"><pre>SimpleImputer(fill_value=&#x27;missing&#x27;, strategy=&#x27;constant&#x27;)</pre></div></div></div><div class=\"sk-item\"><div class=\"sk-estimator sk-toggleable\"><input class=\"sk-toggleable__control sk-hidden--visually\" id=\"4638795b-ca6e-4ab3-868b-979a4d8a6dd0\" type=\"checkbox\" ><label for=\"4638795b-ca6e-4ab3-868b-979a4d8a6dd0\" class=\"sk-toggleable__label sk-toggleable__label-arrow\">OneHotEncoder</label><div class=\"sk-toggleable__content\"><pre>OneHotEncoder(handle_unknown=&#x27;ignore&#x27;, sparse=False)</pre></div></div></div></div></div></div></div>"
            ]
          },
          "metadata": {},
          "execution_count": 46
        }
      ]
    },
    {
      "cell_type": "code",
      "source": [
        "num_tuple = (numeric_pipe, num_selector)\n",
        "cat_tuple = (categorical_pipe, cat_selector)"
      ],
      "metadata": {
        "id": "WRD5TanUi4Nj"
      },
      "execution_count": 47,
      "outputs": []
    },
    {
      "cell_type": "code",
      "source": [
        "preprocessor = make_column_transformer(num_tuple, cat_tuple)\n",
        "preprocessor"
      ],
      "metadata": {
        "id": "T-Bqbsh4i7CM",
        "outputId": "1e5a301f-7b94-4af4-982a-8e969447799f",
        "colab": {
          "base_uri": "https://localhost:8080/",
          "height": 152
        }
      },
      "execution_count": 48,
      "outputs": [
        {
          "output_type": "execute_result",
          "data": {
            "text/plain": [
              "ColumnTransformer(transformers=[('pipeline-1',\n",
              "                                 Pipeline(steps=[('simpleimputer',\n",
              "                                                  SimpleImputer()),\n",
              "                                                 ('standardscaler',\n",
              "                                                  StandardScaler())]),\n",
              "                                 <sklearn.compose._column_transformer.make_column_selector object at 0x7fac463ee090>),\n",
              "                                ('pipeline-2',\n",
              "                                 Pipeline(steps=[('simpleimputer',\n",
              "                                                  SimpleImputer(fill_value='missing',\n",
              "                                                                strategy='constant')),\n",
              "                                                 ('onehotencoder',\n",
              "                                                  OneHotEncoder(handle_unknown='ignore',\n",
              "                                                                sparse=False))]),\n",
              "                                 <sklearn.compose._column_transformer.make_column_selector object at 0x7fac463eee10>)])"
            ],
            "text/html": [
              "<style>#sk-0621c947-59a6-43a1-bb06-635ffdc6f019 {color: black;background-color: white;}#sk-0621c947-59a6-43a1-bb06-635ffdc6f019 pre{padding: 0;}#sk-0621c947-59a6-43a1-bb06-635ffdc6f019 div.sk-toggleable {background-color: white;}#sk-0621c947-59a6-43a1-bb06-635ffdc6f019 label.sk-toggleable__label {cursor: pointer;display: block;width: 100%;margin-bottom: 0;padding: 0.3em;box-sizing: border-box;text-align: center;}#sk-0621c947-59a6-43a1-bb06-635ffdc6f019 label.sk-toggleable__label-arrow:before {content: \"▸\";float: left;margin-right: 0.25em;color: #696969;}#sk-0621c947-59a6-43a1-bb06-635ffdc6f019 label.sk-toggleable__label-arrow:hover:before {color: black;}#sk-0621c947-59a6-43a1-bb06-635ffdc6f019 div.sk-estimator:hover label.sk-toggleable__label-arrow:before {color: black;}#sk-0621c947-59a6-43a1-bb06-635ffdc6f019 div.sk-toggleable__content {max-height: 0;max-width: 0;overflow: hidden;text-align: left;background-color: #f0f8ff;}#sk-0621c947-59a6-43a1-bb06-635ffdc6f019 div.sk-toggleable__content pre {margin: 0.2em;color: black;border-radius: 0.25em;background-color: #f0f8ff;}#sk-0621c947-59a6-43a1-bb06-635ffdc6f019 input.sk-toggleable__control:checked~div.sk-toggleable__content {max-height: 200px;max-width: 100%;overflow: auto;}#sk-0621c947-59a6-43a1-bb06-635ffdc6f019 input.sk-toggleable__control:checked~label.sk-toggleable__label-arrow:before {content: \"▾\";}#sk-0621c947-59a6-43a1-bb06-635ffdc6f019 div.sk-estimator input.sk-toggleable__control:checked~label.sk-toggleable__label {background-color: #d4ebff;}#sk-0621c947-59a6-43a1-bb06-635ffdc6f019 div.sk-label input.sk-toggleable__control:checked~label.sk-toggleable__label {background-color: #d4ebff;}#sk-0621c947-59a6-43a1-bb06-635ffdc6f019 input.sk-hidden--visually {border: 0;clip: rect(1px 1px 1px 1px);clip: rect(1px, 1px, 1px, 1px);height: 1px;margin: -1px;overflow: hidden;padding: 0;position: absolute;width: 1px;}#sk-0621c947-59a6-43a1-bb06-635ffdc6f019 div.sk-estimator {font-family: monospace;background-color: #f0f8ff;border: 1px dotted black;border-radius: 0.25em;box-sizing: border-box;margin-bottom: 0.5em;}#sk-0621c947-59a6-43a1-bb06-635ffdc6f019 div.sk-estimator:hover {background-color: #d4ebff;}#sk-0621c947-59a6-43a1-bb06-635ffdc6f019 div.sk-parallel-item::after {content: \"\";width: 100%;border-bottom: 1px solid gray;flex-grow: 1;}#sk-0621c947-59a6-43a1-bb06-635ffdc6f019 div.sk-label:hover label.sk-toggleable__label {background-color: #d4ebff;}#sk-0621c947-59a6-43a1-bb06-635ffdc6f019 div.sk-serial::before {content: \"\";position: absolute;border-left: 1px solid gray;box-sizing: border-box;top: 2em;bottom: 0;left: 50%;}#sk-0621c947-59a6-43a1-bb06-635ffdc6f019 div.sk-serial {display: flex;flex-direction: column;align-items: center;background-color: white;padding-right: 0.2em;padding-left: 0.2em;}#sk-0621c947-59a6-43a1-bb06-635ffdc6f019 div.sk-item {z-index: 1;}#sk-0621c947-59a6-43a1-bb06-635ffdc6f019 div.sk-parallel {display: flex;align-items: stretch;justify-content: center;background-color: white;}#sk-0621c947-59a6-43a1-bb06-635ffdc6f019 div.sk-parallel::before {content: \"\";position: absolute;border-left: 1px solid gray;box-sizing: border-box;top: 2em;bottom: 0;left: 50%;}#sk-0621c947-59a6-43a1-bb06-635ffdc6f019 div.sk-parallel-item {display: flex;flex-direction: column;position: relative;background-color: white;}#sk-0621c947-59a6-43a1-bb06-635ffdc6f019 div.sk-parallel-item:first-child::after {align-self: flex-end;width: 50%;}#sk-0621c947-59a6-43a1-bb06-635ffdc6f019 div.sk-parallel-item:last-child::after {align-self: flex-start;width: 50%;}#sk-0621c947-59a6-43a1-bb06-635ffdc6f019 div.sk-parallel-item:only-child::after {width: 0;}#sk-0621c947-59a6-43a1-bb06-635ffdc6f019 div.sk-dashed-wrapped {border: 1px dashed gray;margin: 0 0.4em 0.5em 0.4em;box-sizing: border-box;padding-bottom: 0.4em;background-color: white;position: relative;}#sk-0621c947-59a6-43a1-bb06-635ffdc6f019 div.sk-label label {font-family: monospace;font-weight: bold;background-color: white;display: inline-block;line-height: 1.2em;}#sk-0621c947-59a6-43a1-bb06-635ffdc6f019 div.sk-label-container {position: relative;z-index: 2;text-align: center;}#sk-0621c947-59a6-43a1-bb06-635ffdc6f019 div.sk-container {/* jupyter's `normalize.less` sets `[hidden] { display: none; }` but bootstrap.min.css set `[hidden] { display: none !important; }` so we also need the `!important` here to be able to override the default hidden behavior on the sphinx rendered scikit-learn.org. See: https://github.com/scikit-learn/scikit-learn/issues/21755 */display: inline-block !important;position: relative;}#sk-0621c947-59a6-43a1-bb06-635ffdc6f019 div.sk-text-repr-fallback {display: none;}</style><div id=\"sk-0621c947-59a6-43a1-bb06-635ffdc6f019\" class=\"sk-top-container\"><div class=\"sk-text-repr-fallback\"><pre>ColumnTransformer(transformers=[(&#x27;pipeline-1&#x27;,\n",
              "                                 Pipeline(steps=[(&#x27;simpleimputer&#x27;,\n",
              "                                                  SimpleImputer()),\n",
              "                                                 (&#x27;standardscaler&#x27;,\n",
              "                                                  StandardScaler())]),\n",
              "                                 &lt;sklearn.compose._column_transformer.make_column_selector object at 0x7fac463ee090&gt;),\n",
              "                                (&#x27;pipeline-2&#x27;,\n",
              "                                 Pipeline(steps=[(&#x27;simpleimputer&#x27;,\n",
              "                                                  SimpleImputer(fill_value=&#x27;missing&#x27;,\n",
              "                                                                strategy=&#x27;constant&#x27;)),\n",
              "                                                 (&#x27;onehotencoder&#x27;,\n",
              "                                                  OneHotEncoder(handle_unknown=&#x27;ignore&#x27;,\n",
              "                                                                sparse=False))]),\n",
              "                                 &lt;sklearn.compose._column_transformer.make_column_selector object at 0x7fac463eee10&gt;)])</pre><b>Please rerun this cell to show the HTML repr or trust the notebook.</b></div><div class=\"sk-container\" hidden><div class=\"sk-item sk-dashed-wrapped\"><div class=\"sk-label-container\"><div class=\"sk-label sk-toggleable\"><input class=\"sk-toggleable__control sk-hidden--visually\" id=\"b8964907-a7fc-4139-8673-9bdf8809cb9b\" type=\"checkbox\" ><label for=\"b8964907-a7fc-4139-8673-9bdf8809cb9b\" class=\"sk-toggleable__label sk-toggleable__label-arrow\">ColumnTransformer</label><div class=\"sk-toggleable__content\"><pre>ColumnTransformer(transformers=[(&#x27;pipeline-1&#x27;,\n",
              "                                 Pipeline(steps=[(&#x27;simpleimputer&#x27;,\n",
              "                                                  SimpleImputer()),\n",
              "                                                 (&#x27;standardscaler&#x27;,\n",
              "                                                  StandardScaler())]),\n",
              "                                 &lt;sklearn.compose._column_transformer.make_column_selector object at 0x7fac463ee090&gt;),\n",
              "                                (&#x27;pipeline-2&#x27;,\n",
              "                                 Pipeline(steps=[(&#x27;simpleimputer&#x27;,\n",
              "                                                  SimpleImputer(fill_value=&#x27;missing&#x27;,\n",
              "                                                                strategy=&#x27;constant&#x27;)),\n",
              "                                                 (&#x27;onehotencoder&#x27;,\n",
              "                                                  OneHotEncoder(handle_unknown=&#x27;ignore&#x27;,\n",
              "                                                                sparse=False))]),\n",
              "                                 &lt;sklearn.compose._column_transformer.make_column_selector object at 0x7fac463eee10&gt;)])</pre></div></div></div><div class=\"sk-parallel\"><div class=\"sk-parallel-item\"><div class=\"sk-item\"><div class=\"sk-label-container\"><div class=\"sk-label sk-toggleable\"><input class=\"sk-toggleable__control sk-hidden--visually\" id=\"159fe2b7-deda-48ce-adb6-271c541d1254\" type=\"checkbox\" ><label for=\"159fe2b7-deda-48ce-adb6-271c541d1254\" class=\"sk-toggleable__label sk-toggleable__label-arrow\">pipeline-1</label><div class=\"sk-toggleable__content\"><pre>&lt;sklearn.compose._column_transformer.make_column_selector object at 0x7fac463ee090&gt;</pre></div></div></div><div class=\"sk-serial\"><div class=\"sk-item\"><div class=\"sk-serial\"><div class=\"sk-item\"><div class=\"sk-estimator sk-toggleable\"><input class=\"sk-toggleable__control sk-hidden--visually\" id=\"d6a947dc-650f-49d9-a190-c9b258f07851\" type=\"checkbox\" ><label for=\"d6a947dc-650f-49d9-a190-c9b258f07851\" class=\"sk-toggleable__label sk-toggleable__label-arrow\">SimpleImputer</label><div class=\"sk-toggleable__content\"><pre>SimpleImputer()</pre></div></div></div><div class=\"sk-item\"><div class=\"sk-estimator sk-toggleable\"><input class=\"sk-toggleable__control sk-hidden--visually\" id=\"029ea200-e1c9-4d3c-9139-ec94fe0224f9\" type=\"checkbox\" ><label for=\"029ea200-e1c9-4d3c-9139-ec94fe0224f9\" class=\"sk-toggleable__label sk-toggleable__label-arrow\">StandardScaler</label><div class=\"sk-toggleable__content\"><pre>StandardScaler()</pre></div></div></div></div></div></div></div></div><div class=\"sk-parallel-item\"><div class=\"sk-item\"><div class=\"sk-label-container\"><div class=\"sk-label sk-toggleable\"><input class=\"sk-toggleable__control sk-hidden--visually\" id=\"8d91aac2-3c34-410d-9092-a6365fdb07c5\" type=\"checkbox\" ><label for=\"8d91aac2-3c34-410d-9092-a6365fdb07c5\" class=\"sk-toggleable__label sk-toggleable__label-arrow\">pipeline-2</label><div class=\"sk-toggleable__content\"><pre>&lt;sklearn.compose._column_transformer.make_column_selector object at 0x7fac463eee10&gt;</pre></div></div></div><div class=\"sk-serial\"><div class=\"sk-item\"><div class=\"sk-serial\"><div class=\"sk-item\"><div class=\"sk-estimator sk-toggleable\"><input class=\"sk-toggleable__control sk-hidden--visually\" id=\"099f44b7-b62b-467f-a52a-5f404e5583ff\" type=\"checkbox\" ><label for=\"099f44b7-b62b-467f-a52a-5f404e5583ff\" class=\"sk-toggleable__label sk-toggleable__label-arrow\">SimpleImputer</label><div class=\"sk-toggleable__content\"><pre>SimpleImputer(fill_value=&#x27;missing&#x27;, strategy=&#x27;constant&#x27;)</pre></div></div></div><div class=\"sk-item\"><div class=\"sk-estimator sk-toggleable\"><input class=\"sk-toggleable__control sk-hidden--visually\" id=\"5d71909b-4533-49f6-823c-bd747a9034b8\" type=\"checkbox\" ><label for=\"5d71909b-4533-49f6-823c-bd747a9034b8\" class=\"sk-toggleable__label sk-toggleable__label-arrow\">OneHotEncoder</label><div class=\"sk-toggleable__content\"><pre>OneHotEncoder(handle_unknown=&#x27;ignore&#x27;, sparse=False)</pre></div></div></div></div></div></div></div></div></div></div></div></div>"
            ]
          },
          "metadata": {},
          "execution_count": 48
        }
      ]
    },
    {
      "cell_type": "code",
      "source": [
        "preprocessor.fit(X_train)"
      ],
      "metadata": {
        "id": "Ra3IOYl8i-XU",
        "outputId": "489d145b-910a-4f01-ab82-3baa27587840",
        "colab": {
          "base_uri": "https://localhost:8080/",
          "height": 152
        }
      },
      "execution_count": 49,
      "outputs": [
        {
          "output_type": "execute_result",
          "data": {
            "text/plain": [
              "ColumnTransformer(transformers=[('pipeline-1',\n",
              "                                 Pipeline(steps=[('simpleimputer',\n",
              "                                                  SimpleImputer()),\n",
              "                                                 ('standardscaler',\n",
              "                                                  StandardScaler())]),\n",
              "                                 <sklearn.compose._column_transformer.make_column_selector object at 0x7fac463ee090>),\n",
              "                                ('pipeline-2',\n",
              "                                 Pipeline(steps=[('simpleimputer',\n",
              "                                                  SimpleImputer(fill_value='missing',\n",
              "                                                                strategy='constant')),\n",
              "                                                 ('onehotencoder',\n",
              "                                                  OneHotEncoder(handle_unknown='ignore',\n",
              "                                                                sparse=False))]),\n",
              "                                 <sklearn.compose._column_transformer.make_column_selector object at 0x7fac463eee10>)])"
            ],
            "text/html": [
              "<style>#sk-33929f36-2b63-4871-990a-72a1b49d6c03 {color: black;background-color: white;}#sk-33929f36-2b63-4871-990a-72a1b49d6c03 pre{padding: 0;}#sk-33929f36-2b63-4871-990a-72a1b49d6c03 div.sk-toggleable {background-color: white;}#sk-33929f36-2b63-4871-990a-72a1b49d6c03 label.sk-toggleable__label {cursor: pointer;display: block;width: 100%;margin-bottom: 0;padding: 0.3em;box-sizing: border-box;text-align: center;}#sk-33929f36-2b63-4871-990a-72a1b49d6c03 label.sk-toggleable__label-arrow:before {content: \"▸\";float: left;margin-right: 0.25em;color: #696969;}#sk-33929f36-2b63-4871-990a-72a1b49d6c03 label.sk-toggleable__label-arrow:hover:before {color: black;}#sk-33929f36-2b63-4871-990a-72a1b49d6c03 div.sk-estimator:hover label.sk-toggleable__label-arrow:before {color: black;}#sk-33929f36-2b63-4871-990a-72a1b49d6c03 div.sk-toggleable__content {max-height: 0;max-width: 0;overflow: hidden;text-align: left;background-color: #f0f8ff;}#sk-33929f36-2b63-4871-990a-72a1b49d6c03 div.sk-toggleable__content pre {margin: 0.2em;color: black;border-radius: 0.25em;background-color: #f0f8ff;}#sk-33929f36-2b63-4871-990a-72a1b49d6c03 input.sk-toggleable__control:checked~div.sk-toggleable__content {max-height: 200px;max-width: 100%;overflow: auto;}#sk-33929f36-2b63-4871-990a-72a1b49d6c03 input.sk-toggleable__control:checked~label.sk-toggleable__label-arrow:before {content: \"▾\";}#sk-33929f36-2b63-4871-990a-72a1b49d6c03 div.sk-estimator input.sk-toggleable__control:checked~label.sk-toggleable__label {background-color: #d4ebff;}#sk-33929f36-2b63-4871-990a-72a1b49d6c03 div.sk-label input.sk-toggleable__control:checked~label.sk-toggleable__label {background-color: #d4ebff;}#sk-33929f36-2b63-4871-990a-72a1b49d6c03 input.sk-hidden--visually {border: 0;clip: rect(1px 1px 1px 1px);clip: rect(1px, 1px, 1px, 1px);height: 1px;margin: -1px;overflow: hidden;padding: 0;position: absolute;width: 1px;}#sk-33929f36-2b63-4871-990a-72a1b49d6c03 div.sk-estimator {font-family: monospace;background-color: #f0f8ff;border: 1px dotted black;border-radius: 0.25em;box-sizing: border-box;margin-bottom: 0.5em;}#sk-33929f36-2b63-4871-990a-72a1b49d6c03 div.sk-estimator:hover {background-color: #d4ebff;}#sk-33929f36-2b63-4871-990a-72a1b49d6c03 div.sk-parallel-item::after {content: \"\";width: 100%;border-bottom: 1px solid gray;flex-grow: 1;}#sk-33929f36-2b63-4871-990a-72a1b49d6c03 div.sk-label:hover label.sk-toggleable__label {background-color: #d4ebff;}#sk-33929f36-2b63-4871-990a-72a1b49d6c03 div.sk-serial::before {content: \"\";position: absolute;border-left: 1px solid gray;box-sizing: border-box;top: 2em;bottom: 0;left: 50%;}#sk-33929f36-2b63-4871-990a-72a1b49d6c03 div.sk-serial {display: flex;flex-direction: column;align-items: center;background-color: white;padding-right: 0.2em;padding-left: 0.2em;}#sk-33929f36-2b63-4871-990a-72a1b49d6c03 div.sk-item {z-index: 1;}#sk-33929f36-2b63-4871-990a-72a1b49d6c03 div.sk-parallel {display: flex;align-items: stretch;justify-content: center;background-color: white;}#sk-33929f36-2b63-4871-990a-72a1b49d6c03 div.sk-parallel::before {content: \"\";position: absolute;border-left: 1px solid gray;box-sizing: border-box;top: 2em;bottom: 0;left: 50%;}#sk-33929f36-2b63-4871-990a-72a1b49d6c03 div.sk-parallel-item {display: flex;flex-direction: column;position: relative;background-color: white;}#sk-33929f36-2b63-4871-990a-72a1b49d6c03 div.sk-parallel-item:first-child::after {align-self: flex-end;width: 50%;}#sk-33929f36-2b63-4871-990a-72a1b49d6c03 div.sk-parallel-item:last-child::after {align-self: flex-start;width: 50%;}#sk-33929f36-2b63-4871-990a-72a1b49d6c03 div.sk-parallel-item:only-child::after {width: 0;}#sk-33929f36-2b63-4871-990a-72a1b49d6c03 div.sk-dashed-wrapped {border: 1px dashed gray;margin: 0 0.4em 0.5em 0.4em;box-sizing: border-box;padding-bottom: 0.4em;background-color: white;position: relative;}#sk-33929f36-2b63-4871-990a-72a1b49d6c03 div.sk-label label {font-family: monospace;font-weight: bold;background-color: white;display: inline-block;line-height: 1.2em;}#sk-33929f36-2b63-4871-990a-72a1b49d6c03 div.sk-label-container {position: relative;z-index: 2;text-align: center;}#sk-33929f36-2b63-4871-990a-72a1b49d6c03 div.sk-container {/* jupyter's `normalize.less` sets `[hidden] { display: none; }` but bootstrap.min.css set `[hidden] { display: none !important; }` so we also need the `!important` here to be able to override the default hidden behavior on the sphinx rendered scikit-learn.org. See: https://github.com/scikit-learn/scikit-learn/issues/21755 */display: inline-block !important;position: relative;}#sk-33929f36-2b63-4871-990a-72a1b49d6c03 div.sk-text-repr-fallback {display: none;}</style><div id=\"sk-33929f36-2b63-4871-990a-72a1b49d6c03\" class=\"sk-top-container\"><div class=\"sk-text-repr-fallback\"><pre>ColumnTransformer(transformers=[(&#x27;pipeline-1&#x27;,\n",
              "                                 Pipeline(steps=[(&#x27;simpleimputer&#x27;,\n",
              "                                                  SimpleImputer()),\n",
              "                                                 (&#x27;standardscaler&#x27;,\n",
              "                                                  StandardScaler())]),\n",
              "                                 &lt;sklearn.compose._column_transformer.make_column_selector object at 0x7fac463ee090&gt;),\n",
              "                                (&#x27;pipeline-2&#x27;,\n",
              "                                 Pipeline(steps=[(&#x27;simpleimputer&#x27;,\n",
              "                                                  SimpleImputer(fill_value=&#x27;missing&#x27;,\n",
              "                                                                strategy=&#x27;constant&#x27;)),\n",
              "                                                 (&#x27;onehotencoder&#x27;,\n",
              "                                                  OneHotEncoder(handle_unknown=&#x27;ignore&#x27;,\n",
              "                                                                sparse=False))]),\n",
              "                                 &lt;sklearn.compose._column_transformer.make_column_selector object at 0x7fac463eee10&gt;)])</pre><b>Please rerun this cell to show the HTML repr or trust the notebook.</b></div><div class=\"sk-container\" hidden><div class=\"sk-item sk-dashed-wrapped\"><div class=\"sk-label-container\"><div class=\"sk-label sk-toggleable\"><input class=\"sk-toggleable__control sk-hidden--visually\" id=\"55edbbbd-9dc1-4ce3-8ec5-661b986a7fcd\" type=\"checkbox\" ><label for=\"55edbbbd-9dc1-4ce3-8ec5-661b986a7fcd\" class=\"sk-toggleable__label sk-toggleable__label-arrow\">ColumnTransformer</label><div class=\"sk-toggleable__content\"><pre>ColumnTransformer(transformers=[(&#x27;pipeline-1&#x27;,\n",
              "                                 Pipeline(steps=[(&#x27;simpleimputer&#x27;,\n",
              "                                                  SimpleImputer()),\n",
              "                                                 (&#x27;standardscaler&#x27;,\n",
              "                                                  StandardScaler())]),\n",
              "                                 &lt;sklearn.compose._column_transformer.make_column_selector object at 0x7fac463ee090&gt;),\n",
              "                                (&#x27;pipeline-2&#x27;,\n",
              "                                 Pipeline(steps=[(&#x27;simpleimputer&#x27;,\n",
              "                                                  SimpleImputer(fill_value=&#x27;missing&#x27;,\n",
              "                                                                strategy=&#x27;constant&#x27;)),\n",
              "                                                 (&#x27;onehotencoder&#x27;,\n",
              "                                                  OneHotEncoder(handle_unknown=&#x27;ignore&#x27;,\n",
              "                                                                sparse=False))]),\n",
              "                                 &lt;sklearn.compose._column_transformer.make_column_selector object at 0x7fac463eee10&gt;)])</pre></div></div></div><div class=\"sk-parallel\"><div class=\"sk-parallel-item\"><div class=\"sk-item\"><div class=\"sk-label-container\"><div class=\"sk-label sk-toggleable\"><input class=\"sk-toggleable__control sk-hidden--visually\" id=\"f06ac2fd-b616-4af2-90d7-7bcc09967b22\" type=\"checkbox\" ><label for=\"f06ac2fd-b616-4af2-90d7-7bcc09967b22\" class=\"sk-toggleable__label sk-toggleable__label-arrow\">pipeline-1</label><div class=\"sk-toggleable__content\"><pre>&lt;sklearn.compose._column_transformer.make_column_selector object at 0x7fac463ee090&gt;</pre></div></div></div><div class=\"sk-serial\"><div class=\"sk-item\"><div class=\"sk-serial\"><div class=\"sk-item\"><div class=\"sk-estimator sk-toggleable\"><input class=\"sk-toggleable__control sk-hidden--visually\" id=\"b347cc4e-cf23-493c-bbf2-9cd858f2167d\" type=\"checkbox\" ><label for=\"b347cc4e-cf23-493c-bbf2-9cd858f2167d\" class=\"sk-toggleable__label sk-toggleable__label-arrow\">SimpleImputer</label><div class=\"sk-toggleable__content\"><pre>SimpleImputer()</pre></div></div></div><div class=\"sk-item\"><div class=\"sk-estimator sk-toggleable\"><input class=\"sk-toggleable__control sk-hidden--visually\" id=\"ddfe1396-8757-4fc5-b4fe-eae7bdffa44b\" type=\"checkbox\" ><label for=\"ddfe1396-8757-4fc5-b4fe-eae7bdffa44b\" class=\"sk-toggleable__label sk-toggleable__label-arrow\">StandardScaler</label><div class=\"sk-toggleable__content\"><pre>StandardScaler()</pre></div></div></div></div></div></div></div></div><div class=\"sk-parallel-item\"><div class=\"sk-item\"><div class=\"sk-label-container\"><div class=\"sk-label sk-toggleable\"><input class=\"sk-toggleable__control sk-hidden--visually\" id=\"fe3609f6-be84-4197-90aa-2ecea10798a1\" type=\"checkbox\" ><label for=\"fe3609f6-be84-4197-90aa-2ecea10798a1\" class=\"sk-toggleable__label sk-toggleable__label-arrow\">pipeline-2</label><div class=\"sk-toggleable__content\"><pre>&lt;sklearn.compose._column_transformer.make_column_selector object at 0x7fac463eee10&gt;</pre></div></div></div><div class=\"sk-serial\"><div class=\"sk-item\"><div class=\"sk-serial\"><div class=\"sk-item\"><div class=\"sk-estimator sk-toggleable\"><input class=\"sk-toggleable__control sk-hidden--visually\" id=\"0ccf2c1a-f3fe-46b4-84da-ad40192c1387\" type=\"checkbox\" ><label for=\"0ccf2c1a-f3fe-46b4-84da-ad40192c1387\" class=\"sk-toggleable__label sk-toggleable__label-arrow\">SimpleImputer</label><div class=\"sk-toggleable__content\"><pre>SimpleImputer(fill_value=&#x27;missing&#x27;, strategy=&#x27;constant&#x27;)</pre></div></div></div><div class=\"sk-item\"><div class=\"sk-estimator sk-toggleable\"><input class=\"sk-toggleable__control sk-hidden--visually\" id=\"543a282f-9db9-42c1-998b-30cc5f780544\" type=\"checkbox\" ><label for=\"543a282f-9db9-42c1-998b-30cc5f780544\" class=\"sk-toggleable__label sk-toggleable__label-arrow\">OneHotEncoder</label><div class=\"sk-toggleable__content\"><pre>OneHotEncoder(handle_unknown=&#x27;ignore&#x27;, sparse=False)</pre></div></div></div></div></div></div></div></div></div></div></div></div>"
            ]
          },
          "metadata": {},
          "execution_count": 49
        }
      ]
    },
    {
      "cell_type": "code",
      "source": [
        "X_train_processed = preprocessor.transform(X_train)\n",
        "X_test_processed = preprocessor.transform(X_test)"
      ],
      "metadata": {
        "id": "HTN13O_BjBJN"
      },
      "execution_count": 50,
      "outputs": []
    },
    {
      "cell_type": "code",
      "source": [
        "print(np.isnan(X_train_processed).sum().sum(), 'missing values in training data')\n",
        "print(np.isnan(X_test_processed).sum().sum(), 'missing values in testing data')\n",
        "print('\\n')\n",
        "print('All data in X_train_processed are', X_train_processed.dtype)\n",
        "print('All data in X_test_processed are', X_test_processed.dtype)\n",
        "print('\\n')\n",
        "print('shape of data is', X_train_processed.shape)\n",
        "print('\\n')\n",
        "X_train_processed"
      ],
      "metadata": {
        "id": "e4BgnEBKjDwE",
        "outputId": "8787a012-967e-4809-faf5-c62bc395a22f",
        "colab": {
          "base_uri": "https://localhost:8080/"
        }
      },
      "execution_count": 51,
      "outputs": [
        {
          "output_type": "stream",
          "name": "stdout",
          "text": [
            "0 missing values in training data\n",
            "0 missing values in testing data\n",
            "\n",
            "\n",
            "All data in X_train_processed are float64\n",
            "All data in X_test_processed are float64\n",
            "\n",
            "\n",
            "shape of data is (45, 58)\n",
            "\n",
            "\n"
          ]
        },
        {
          "output_type": "execute_result",
          "data": {
            "text/plain": [
              "array([[ 3.63214387e-01,  9.50084044e-01,  1.33676033e+00, ...,\n",
              "         0.00000000e+00,  0.00000000e+00,  0.00000000e+00],\n",
              "       [-5.58529925e-16, -1.39902486e+00, -1.51727176e+00, ...,\n",
              "         0.00000000e+00,  0.00000000e+00,  0.00000000e+00],\n",
              "       [ 1.77812416e+00, -1.71223938e+00, -1.18796036e+00, ...,\n",
              "         0.00000000e+00,  0.00000000e+00,  0.00000000e+00],\n",
              "       ...,\n",
              "       [-5.58529925e-16,  7.93476784e-01,  3.48826143e-01, ...,\n",
              "         0.00000000e+00,  0.00000000e+00,  0.00000000e+00],\n",
              "       [-5.58529925e-16, -3.02774036e-01, -6.39108039e-01, ...,\n",
              "         0.00000000e+00,  0.00000000e+00,  0.00000000e+00],\n",
              "       [-1.05169539e+00, -7.72595816e-01, -4.19567109e-01, ...,\n",
              "         0.00000000e+00,  0.00000000e+00,  0.00000000e+00]])"
            ]
          },
          "metadata": {},
          "execution_count": 51
        }
      ]
    },
    {
      "cell_type": "code",
      "source": [
        "column_transformer = make_column_transformer(num_tuple, cat_tuple, remainder='passthrough')"
      ],
      "metadata": {
        "id": "BkjN7LTIiHuF"
      },
      "execution_count": 52,
      "outputs": []
    },
    {
      "cell_type": "code",
      "source": [
        "reg = LinearRegression()"
      ],
      "metadata": {
        "id": "joD1PIpdiAgj"
      },
      "execution_count": 53,
      "outputs": []
    },
    {
      "cell_type": "code",
      "source": [
        "reg_pipe = make_pipeline(column_transformer, reg)"
      ],
      "metadata": {
        "id": "uq0tBPR1jIWg"
      },
      "execution_count": 54,
      "outputs": []
    },
    {
      "cell_type": "code",
      "source": [
        "reg_pipe.fit(X_train, y_train)"
      ],
      "metadata": {
        "id": "byoamoTBjQsH",
        "outputId": "c546b8ec-979d-4bfc-8478-f2f140d9bc06",
        "colab": {
          "base_uri": "https://localhost:8080/",
          "height": 227
        }
      },
      "execution_count": 55,
      "outputs": [
        {
          "output_type": "execute_result",
          "data": {
            "text/plain": [
              "Pipeline(steps=[('columntransformer',\n",
              "                 ColumnTransformer(remainder='passthrough',\n",
              "                                   transformers=[('pipeline-1',\n",
              "                                                  Pipeline(steps=[('simpleimputer',\n",
              "                                                                   SimpleImputer()),\n",
              "                                                                  ('standardscaler',\n",
              "                                                                   StandardScaler())]),\n",
              "                                                  <sklearn.compose._column_transformer.make_column_selector object at 0x7fac463ee090>),\n",
              "                                                 ('pipeline-2',\n",
              "                                                  Pipeline(steps=[('simpleimputer',\n",
              "                                                                   SimpleImputer(fill_value='missing',\n",
              "                                                                                 strategy='constant')),\n",
              "                                                                  ('onehotencoder',\n",
              "                                                                   OneHotEncoder(handle_unknown='ignore',\n",
              "                                                                                 sparse=False))]),\n",
              "                                                  <sklearn.compose._column_transformer.make_column_selector object at 0x7fac463eee10>)])),\n",
              "                ('linearregression', LinearRegression())])"
            ],
            "text/html": [
              "<style>#sk-b80b19e5-ae7e-491c-be7b-09526d79284e {color: black;background-color: white;}#sk-b80b19e5-ae7e-491c-be7b-09526d79284e pre{padding: 0;}#sk-b80b19e5-ae7e-491c-be7b-09526d79284e div.sk-toggleable {background-color: white;}#sk-b80b19e5-ae7e-491c-be7b-09526d79284e label.sk-toggleable__label {cursor: pointer;display: block;width: 100%;margin-bottom: 0;padding: 0.3em;box-sizing: border-box;text-align: center;}#sk-b80b19e5-ae7e-491c-be7b-09526d79284e label.sk-toggleable__label-arrow:before {content: \"▸\";float: left;margin-right: 0.25em;color: #696969;}#sk-b80b19e5-ae7e-491c-be7b-09526d79284e label.sk-toggleable__label-arrow:hover:before {color: black;}#sk-b80b19e5-ae7e-491c-be7b-09526d79284e div.sk-estimator:hover label.sk-toggleable__label-arrow:before {color: black;}#sk-b80b19e5-ae7e-491c-be7b-09526d79284e div.sk-toggleable__content {max-height: 0;max-width: 0;overflow: hidden;text-align: left;background-color: #f0f8ff;}#sk-b80b19e5-ae7e-491c-be7b-09526d79284e div.sk-toggleable__content pre {margin: 0.2em;color: black;border-radius: 0.25em;background-color: #f0f8ff;}#sk-b80b19e5-ae7e-491c-be7b-09526d79284e input.sk-toggleable__control:checked~div.sk-toggleable__content {max-height: 200px;max-width: 100%;overflow: auto;}#sk-b80b19e5-ae7e-491c-be7b-09526d79284e input.sk-toggleable__control:checked~label.sk-toggleable__label-arrow:before {content: \"▾\";}#sk-b80b19e5-ae7e-491c-be7b-09526d79284e div.sk-estimator input.sk-toggleable__control:checked~label.sk-toggleable__label {background-color: #d4ebff;}#sk-b80b19e5-ae7e-491c-be7b-09526d79284e div.sk-label input.sk-toggleable__control:checked~label.sk-toggleable__label {background-color: #d4ebff;}#sk-b80b19e5-ae7e-491c-be7b-09526d79284e input.sk-hidden--visually {border: 0;clip: rect(1px 1px 1px 1px);clip: rect(1px, 1px, 1px, 1px);height: 1px;margin: -1px;overflow: hidden;padding: 0;position: absolute;width: 1px;}#sk-b80b19e5-ae7e-491c-be7b-09526d79284e div.sk-estimator {font-family: monospace;background-color: #f0f8ff;border: 1px dotted black;border-radius: 0.25em;box-sizing: border-box;margin-bottom: 0.5em;}#sk-b80b19e5-ae7e-491c-be7b-09526d79284e div.sk-estimator:hover {background-color: #d4ebff;}#sk-b80b19e5-ae7e-491c-be7b-09526d79284e div.sk-parallel-item::after {content: \"\";width: 100%;border-bottom: 1px solid gray;flex-grow: 1;}#sk-b80b19e5-ae7e-491c-be7b-09526d79284e div.sk-label:hover label.sk-toggleable__label {background-color: #d4ebff;}#sk-b80b19e5-ae7e-491c-be7b-09526d79284e div.sk-serial::before {content: \"\";position: absolute;border-left: 1px solid gray;box-sizing: border-box;top: 2em;bottom: 0;left: 50%;}#sk-b80b19e5-ae7e-491c-be7b-09526d79284e div.sk-serial {display: flex;flex-direction: column;align-items: center;background-color: white;padding-right: 0.2em;padding-left: 0.2em;}#sk-b80b19e5-ae7e-491c-be7b-09526d79284e div.sk-item {z-index: 1;}#sk-b80b19e5-ae7e-491c-be7b-09526d79284e div.sk-parallel {display: flex;align-items: stretch;justify-content: center;background-color: white;}#sk-b80b19e5-ae7e-491c-be7b-09526d79284e div.sk-parallel::before {content: \"\";position: absolute;border-left: 1px solid gray;box-sizing: border-box;top: 2em;bottom: 0;left: 50%;}#sk-b80b19e5-ae7e-491c-be7b-09526d79284e div.sk-parallel-item {display: flex;flex-direction: column;position: relative;background-color: white;}#sk-b80b19e5-ae7e-491c-be7b-09526d79284e div.sk-parallel-item:first-child::after {align-self: flex-end;width: 50%;}#sk-b80b19e5-ae7e-491c-be7b-09526d79284e div.sk-parallel-item:last-child::after {align-self: flex-start;width: 50%;}#sk-b80b19e5-ae7e-491c-be7b-09526d79284e div.sk-parallel-item:only-child::after {width: 0;}#sk-b80b19e5-ae7e-491c-be7b-09526d79284e div.sk-dashed-wrapped {border: 1px dashed gray;margin: 0 0.4em 0.5em 0.4em;box-sizing: border-box;padding-bottom: 0.4em;background-color: white;position: relative;}#sk-b80b19e5-ae7e-491c-be7b-09526d79284e div.sk-label label {font-family: monospace;font-weight: bold;background-color: white;display: inline-block;line-height: 1.2em;}#sk-b80b19e5-ae7e-491c-be7b-09526d79284e div.sk-label-container {position: relative;z-index: 2;text-align: center;}#sk-b80b19e5-ae7e-491c-be7b-09526d79284e div.sk-container {/* jupyter's `normalize.less` sets `[hidden] { display: none; }` but bootstrap.min.css set `[hidden] { display: none !important; }` so we also need the `!important` here to be able to override the default hidden behavior on the sphinx rendered scikit-learn.org. See: https://github.com/scikit-learn/scikit-learn/issues/21755 */display: inline-block !important;position: relative;}#sk-b80b19e5-ae7e-491c-be7b-09526d79284e div.sk-text-repr-fallback {display: none;}</style><div id=\"sk-b80b19e5-ae7e-491c-be7b-09526d79284e\" class=\"sk-top-container\"><div class=\"sk-text-repr-fallback\"><pre>Pipeline(steps=[(&#x27;columntransformer&#x27;,\n",
              "                 ColumnTransformer(remainder=&#x27;passthrough&#x27;,\n",
              "                                   transformers=[(&#x27;pipeline-1&#x27;,\n",
              "                                                  Pipeline(steps=[(&#x27;simpleimputer&#x27;,\n",
              "                                                                   SimpleImputer()),\n",
              "                                                                  (&#x27;standardscaler&#x27;,\n",
              "                                                                   StandardScaler())]),\n",
              "                                                  &lt;sklearn.compose._column_transformer.make_column_selector object at 0x7fac463ee090&gt;),\n",
              "                                                 (&#x27;pipeline-2&#x27;,\n",
              "                                                  Pipeline(steps=[(&#x27;simpleimputer&#x27;,\n",
              "                                                                   SimpleImputer(fill_value=&#x27;missing&#x27;,\n",
              "                                                                                 strategy=&#x27;constant&#x27;)),\n",
              "                                                                  (&#x27;onehotencoder&#x27;,\n",
              "                                                                   OneHotEncoder(handle_unknown=&#x27;ignore&#x27;,\n",
              "                                                                                 sparse=False))]),\n",
              "                                                  &lt;sklearn.compose._column_transformer.make_column_selector object at 0x7fac463eee10&gt;)])),\n",
              "                (&#x27;linearregression&#x27;, LinearRegression())])</pre><b>Please rerun this cell to show the HTML repr or trust the notebook.</b></div><div class=\"sk-container\" hidden><div class=\"sk-item sk-dashed-wrapped\"><div class=\"sk-label-container\"><div class=\"sk-label sk-toggleable\"><input class=\"sk-toggleable__control sk-hidden--visually\" id=\"ca668476-b2ee-4af4-ac0b-a2920dae8546\" type=\"checkbox\" ><label for=\"ca668476-b2ee-4af4-ac0b-a2920dae8546\" class=\"sk-toggleable__label sk-toggleable__label-arrow\">Pipeline</label><div class=\"sk-toggleable__content\"><pre>Pipeline(steps=[(&#x27;columntransformer&#x27;,\n",
              "                 ColumnTransformer(remainder=&#x27;passthrough&#x27;,\n",
              "                                   transformers=[(&#x27;pipeline-1&#x27;,\n",
              "                                                  Pipeline(steps=[(&#x27;simpleimputer&#x27;,\n",
              "                                                                   SimpleImputer()),\n",
              "                                                                  (&#x27;standardscaler&#x27;,\n",
              "                                                                   StandardScaler())]),\n",
              "                                                  &lt;sklearn.compose._column_transformer.make_column_selector object at 0x7fac463ee090&gt;),\n",
              "                                                 (&#x27;pipeline-2&#x27;,\n",
              "                                                  Pipeline(steps=[(&#x27;simpleimputer&#x27;,\n",
              "                                                                   SimpleImputer(fill_value=&#x27;missing&#x27;,\n",
              "                                                                                 strategy=&#x27;constant&#x27;)),\n",
              "                                                                  (&#x27;onehotencoder&#x27;,\n",
              "                                                                   OneHotEncoder(handle_unknown=&#x27;ignore&#x27;,\n",
              "                                                                                 sparse=False))]),\n",
              "                                                  &lt;sklearn.compose._column_transformer.make_column_selector object at 0x7fac463eee10&gt;)])),\n",
              "                (&#x27;linearregression&#x27;, LinearRegression())])</pre></div></div></div><div class=\"sk-serial\"><div class=\"sk-item sk-dashed-wrapped\"><div class=\"sk-label-container\"><div class=\"sk-label sk-toggleable\"><input class=\"sk-toggleable__control sk-hidden--visually\" id=\"15455bc0-14ab-4895-b9f1-8f2605d66606\" type=\"checkbox\" ><label for=\"15455bc0-14ab-4895-b9f1-8f2605d66606\" class=\"sk-toggleable__label sk-toggleable__label-arrow\">columntransformer: ColumnTransformer</label><div class=\"sk-toggleable__content\"><pre>ColumnTransformer(remainder=&#x27;passthrough&#x27;,\n",
              "                  transformers=[(&#x27;pipeline-1&#x27;,\n",
              "                                 Pipeline(steps=[(&#x27;simpleimputer&#x27;,\n",
              "                                                  SimpleImputer()),\n",
              "                                                 (&#x27;standardscaler&#x27;,\n",
              "                                                  StandardScaler())]),\n",
              "                                 &lt;sklearn.compose._column_transformer.make_column_selector object at 0x7fac463ee090&gt;),\n",
              "                                (&#x27;pipeline-2&#x27;,\n",
              "                                 Pipeline(steps=[(&#x27;simpleimputer&#x27;,\n",
              "                                                  SimpleImputer(fill_value=&#x27;missing&#x27;,\n",
              "                                                                strategy=&#x27;constant&#x27;)),\n",
              "                                                 (&#x27;onehotencoder&#x27;,\n",
              "                                                  OneHotEncoder(handle_unknown=&#x27;ignore&#x27;,\n",
              "                                                                sparse=False))]),\n",
              "                                 &lt;sklearn.compose._column_transformer.make_column_selector object at 0x7fac463eee10&gt;)])</pre></div></div></div><div class=\"sk-parallel\"><div class=\"sk-parallel-item\"><div class=\"sk-item\"><div class=\"sk-label-container\"><div class=\"sk-label sk-toggleable\"><input class=\"sk-toggleable__control sk-hidden--visually\" id=\"7ca18e84-2d91-4034-9555-4051bcf429e8\" type=\"checkbox\" ><label for=\"7ca18e84-2d91-4034-9555-4051bcf429e8\" class=\"sk-toggleable__label sk-toggleable__label-arrow\">pipeline-1</label><div class=\"sk-toggleable__content\"><pre>&lt;sklearn.compose._column_transformer.make_column_selector object at 0x7fac463ee090&gt;</pre></div></div></div><div class=\"sk-serial\"><div class=\"sk-item\"><div class=\"sk-serial\"><div class=\"sk-item\"><div class=\"sk-estimator sk-toggleable\"><input class=\"sk-toggleable__control sk-hidden--visually\" id=\"98d50cf0-9f94-4e5c-81b7-79106bc2d6bc\" type=\"checkbox\" ><label for=\"98d50cf0-9f94-4e5c-81b7-79106bc2d6bc\" class=\"sk-toggleable__label sk-toggleable__label-arrow\">SimpleImputer</label><div class=\"sk-toggleable__content\"><pre>SimpleImputer()</pre></div></div></div><div class=\"sk-item\"><div class=\"sk-estimator sk-toggleable\"><input class=\"sk-toggleable__control sk-hidden--visually\" id=\"b8592f1d-e535-4e13-940b-21870096bb60\" type=\"checkbox\" ><label for=\"b8592f1d-e535-4e13-940b-21870096bb60\" class=\"sk-toggleable__label sk-toggleable__label-arrow\">StandardScaler</label><div class=\"sk-toggleable__content\"><pre>StandardScaler()</pre></div></div></div></div></div></div></div></div><div class=\"sk-parallel-item\"><div class=\"sk-item\"><div class=\"sk-label-container\"><div class=\"sk-label sk-toggleable\"><input class=\"sk-toggleable__control sk-hidden--visually\" id=\"2a12c73b-8529-44c2-ac48-1304a9f29dcb\" type=\"checkbox\" ><label for=\"2a12c73b-8529-44c2-ac48-1304a9f29dcb\" class=\"sk-toggleable__label sk-toggleable__label-arrow\">pipeline-2</label><div class=\"sk-toggleable__content\"><pre>&lt;sklearn.compose._column_transformer.make_column_selector object at 0x7fac463eee10&gt;</pre></div></div></div><div class=\"sk-serial\"><div class=\"sk-item\"><div class=\"sk-serial\"><div class=\"sk-item\"><div class=\"sk-estimator sk-toggleable\"><input class=\"sk-toggleable__control sk-hidden--visually\" id=\"24e671df-869c-456c-9cf6-c41bea397892\" type=\"checkbox\" ><label for=\"24e671df-869c-456c-9cf6-c41bea397892\" class=\"sk-toggleable__label sk-toggleable__label-arrow\">SimpleImputer</label><div class=\"sk-toggleable__content\"><pre>SimpleImputer(fill_value=&#x27;missing&#x27;, strategy=&#x27;constant&#x27;)</pre></div></div></div><div class=\"sk-item\"><div class=\"sk-estimator sk-toggleable\"><input class=\"sk-toggleable__control sk-hidden--visually\" id=\"0485ce48-0590-4dc3-b7e7-a10eeb4546ff\" type=\"checkbox\" ><label for=\"0485ce48-0590-4dc3-b7e7-a10eeb4546ff\" class=\"sk-toggleable__label sk-toggleable__label-arrow\">OneHotEncoder</label><div class=\"sk-toggleable__content\"><pre>OneHotEncoder(handle_unknown=&#x27;ignore&#x27;, sparse=False)</pre></div></div></div></div></div></div></div></div><div class=\"sk-parallel-item\"><div class=\"sk-item\"><div class=\"sk-label-container\"><div class=\"sk-label sk-toggleable\"><input class=\"sk-toggleable__control sk-hidden--visually\" id=\"7c3d9321-6543-4d1b-9945-ccf48d531a78\" type=\"checkbox\" ><label for=\"7c3d9321-6543-4d1b-9945-ccf48d531a78\" class=\"sk-toggleable__label sk-toggleable__label-arrow\">remainder</label><div class=\"sk-toggleable__content\"><pre>[]</pre></div></div></div><div class=\"sk-serial\"><div class=\"sk-item\"><div class=\"sk-estimator sk-toggleable\"><input class=\"sk-toggleable__control sk-hidden--visually\" id=\"26f4d41d-a092-4daf-8a49-83364f3b760d\" type=\"checkbox\" ><label for=\"26f4d41d-a092-4daf-8a49-83364f3b760d\" class=\"sk-toggleable__label sk-toggleable__label-arrow\">passthrough</label><div class=\"sk-toggleable__content\"><pre>passthrough</pre></div></div></div></div></div></div></div></div><div class=\"sk-item\"><div class=\"sk-estimator sk-toggleable\"><input class=\"sk-toggleable__control sk-hidden--visually\" id=\"bdd4c313-054b-4b07-bad4-cf2f54f6907b\" type=\"checkbox\" ><label for=\"bdd4c313-054b-4b07-bad4-cf2f54f6907b\" class=\"sk-toggleable__label sk-toggleable__label-arrow\">LinearRegression</label><div class=\"sk-toggleable__content\"><pre>LinearRegression()</pre></div></div></div></div></div></div></div>"
            ]
          },
          "metadata": {},
          "execution_count": 55
        }
      ]
    },
    {
      "cell_type": "code",
      "source": [
        "reg_pipe.predict(X_test)"
      ],
      "metadata": {
        "id": "47eT-t2WjUty",
        "outputId": "99b91503-4408-4ce3-cf14-4c9303945207",
        "colab": {
          "base_uri": "https://localhost:8080/"
        }
      },
      "execution_count": 56,
      "outputs": [
        {
          "output_type": "execute_result",
          "data": {
            "text/plain": [
              "array([78.86052968, 81.38931995, 86.32027944, 79.47916059, 77.16215645,\n",
              "       87.58715438, 69.12141661, 85.35535445, 85.08398757, 84.36621637,\n",
              "       72.97596761, 82.53997656, 86.03782303, 81.85791391, 85.80724053,\n",
              "       85.27253062])"
            ]
          },
          "metadata": {},
          "execution_count": 56
        }
      ]
    },
    {
      "cell_type": "code",
      "source": [
        "train_score = reg_pipe.score(X_train, y_train)\n",
        "test_score = reg_pipe.score(X_test, y_test)\n",
        "print(train_score)\n",
        "print(test_score)"
      ],
      "metadata": {
        "id": "tAs-tLfEja_-",
        "outputId": "8ec3708b-d028-4754-84b6-25df49bd120b",
        "colab": {
          "base_uri": "https://localhost:8080/"
        }
      },
      "execution_count": 57,
      "outputs": [
        {
          "output_type": "stream",
          "name": "stdout",
          "text": [
            "1.0\n",
            "0.26967906594140667\n"
          ]
        }
      ]
    },
    {
      "cell_type": "code",
      "source": [
        "train_pred = reg_pipe.predict(X_train)\n",
        "test_pred = reg_pipe.predict(X_test)"
      ],
      "metadata": {
        "id": "jMg3Xsmalovk"
      },
      "execution_count": 58,
      "outputs": []
    },
    {
      "cell_type": "code",
      "source": [
        "train_MAE = mean_absolute_error(y_train, train_pred)\n",
        "test_MAE = mean_absolute_error(y_test, test_pred)"
      ],
      "metadata": {
        "id": "lLP2MtD8IGzj"
      },
      "execution_count": 59,
      "outputs": []
    },
    {
      "cell_type": "code",
      "source": [
        "print(f'Model Training MAE:{train_MAE}')\n",
        "print(f'Model Testing MAE: {test_MAE}')"
      ],
      "metadata": {
        "id": "abLr55uOJQVq",
        "outputId": "d5c377c6-124b-4132-dc1f-592cd9c03632",
        "colab": {
          "base_uri": "https://localhost:8080/"
        }
      },
      "execution_count": 87,
      "outputs": [
        {
          "output_type": "stream",
          "name": "stdout",
          "text": [
            "Model Training MAE:4.105358028836134e-15\n",
            "Model Testing MAE: 1.7936301346318686\n"
          ]
        }
      ]
    },
    {
      "cell_type": "code",
      "source": [
        "train_MSE = mean_squared_error(y_train, train_pred)\n",
        "test_MSE = mean_squared_error(y_test, test_pred)"
      ],
      "metadata": {
        "id": "uB8EfCn1KXpl"
      },
      "execution_count": 88,
      "outputs": []
    },
    {
      "cell_type": "code",
      "source": [
        "print(f'Model Training MSE:{train_MSE}')\n",
        "print(f'Model Testing MSE: {test_MSE}')"
      ],
      "metadata": {
        "id": "Y11monS6KftL",
        "outputId": "43c6c52c-298b-4ec0-c2c1-5a4b9d93255b",
        "colab": {
          "base_uri": "https://localhost:8080/"
        }
      },
      "execution_count": 89,
      "outputs": [
        {
          "output_type": "stream",
          "name": "stdout",
          "text": [
            "Model Training MSE:6.731613057885967e-29\n",
            "Model Testing MSE: 10.723735902836923\n"
          ]
        }
      ]
    },
    {
      "cell_type": "code",
      "source": [
        "train_RMSE = np.sqrt(train_MSE)\n",
        "test_RMSE = np.sqrt(test_MSE)"
      ],
      "metadata": {
        "id": "myfFA3t2KnV1"
      },
      "execution_count": 90,
      "outputs": []
    },
    {
      "cell_type": "code",
      "source": [
        "print(f'Model Training RMSE:{train_RMSE}')\n",
        "print(f'Model Testing RMSE: {test_RMSE}')"
      ],
      "metadata": {
        "id": "cQJgKHguK1W-",
        "outputId": "448558cb-4cf9-4794-be5c-33265a89ff76",
        "colab": {
          "base_uri": "https://localhost:8080/"
        }
      },
      "execution_count": 91,
      "outputs": [
        {
          "output_type": "stream",
          "name": "stdout",
          "text": [
            "Model Training RMSE:8.204640795236539e-15\n",
            "Model Testing RMSE: 3.2747115755188156\n"
          ]
        }
      ]
    },
    {
      "cell_type": "code",
      "source": [
        "train_r2 = r2_score(y_train, train_pred)\n",
        "test_r2 = r2_score(y_test, test_pred)"
      ],
      "metadata": {
        "id": "UKF4mK2vl6a8"
      },
      "execution_count": 60,
      "outputs": []
    },
    {
      "cell_type": "code",
      "source": [
        "print(f'Model Training R2: {train_r2}')\n",
        "print(f'Model Testing R2: {test_r2}')"
      ],
      "metadata": {
        "id": "QUPIvCv7miMl",
        "outputId": "7f2ef8fe-84c5-4b04-f8f5-4f2f31d06e59",
        "colab": {
          "base_uri": "https://localhost:8080/"
        }
      },
      "execution_count": 61,
      "outputs": [
        {
          "output_type": "stream",
          "name": "stdout",
          "text": [
            "Model Training R2: 1.0\n",
            "Model Testing R2: 0.26967906594140667\n"
          ]
        }
      ]
    },
    {
      "cell_type": "code",
      "source": [
        "dec_tree = DecisionTreeRegressor(random_state = 42)"
      ],
      "metadata": {
        "id": "dDIu5QSPpMEu"
      },
      "execution_count": 62,
      "outputs": []
    },
    {
      "cell_type": "code",
      "source": [
        "dec_tree_pipe = make_pipeline(column_transformer, dec_tree)"
      ],
      "metadata": {
        "id": "c--_Umf_pO3C"
      },
      "execution_count": 63,
      "outputs": []
    },
    {
      "cell_type": "code",
      "source": [
        "dec_tree_pipe.fit(X_train, y_train)"
      ],
      "metadata": {
        "id": "h0VxZx9NpVTz",
        "outputId": "12756d21-0de2-47e4-9c44-0d2e89db9d28",
        "colab": {
          "base_uri": "https://localhost:8080/",
          "height": 227
        }
      },
      "execution_count": 64,
      "outputs": [
        {
          "output_type": "execute_result",
          "data": {
            "text/plain": [
              "Pipeline(steps=[('columntransformer',\n",
              "                 ColumnTransformer(remainder='passthrough',\n",
              "                                   transformers=[('pipeline-1',\n",
              "                                                  Pipeline(steps=[('simpleimputer',\n",
              "                                                                   SimpleImputer()),\n",
              "                                                                  ('standardscaler',\n",
              "                                                                   StandardScaler())]),\n",
              "                                                  <sklearn.compose._column_transformer.make_column_selector object at 0x7fac463ee090>),\n",
              "                                                 ('pipeline-2',\n",
              "                                                  Pipeline(steps=[('simpleimputer',\n",
              "                                                                   SimpleImputer(fill_value='missing',\n",
              "                                                                                 strategy='constant')),\n",
              "                                                                  ('onehotencoder',\n",
              "                                                                   OneHotEncoder(handle_unknown='ignore',\n",
              "                                                                                 sparse=False))]),\n",
              "                                                  <sklearn.compose._column_transformer.make_column_selector object at 0x7fac463eee10>)])),\n",
              "                ('decisiontreeregressor',\n",
              "                 DecisionTreeRegressor(random_state=42))])"
            ],
            "text/html": [
              "<style>#sk-4887f8f6-25dc-4cbf-8a91-1bda2c73aa56 {color: black;background-color: white;}#sk-4887f8f6-25dc-4cbf-8a91-1bda2c73aa56 pre{padding: 0;}#sk-4887f8f6-25dc-4cbf-8a91-1bda2c73aa56 div.sk-toggleable {background-color: white;}#sk-4887f8f6-25dc-4cbf-8a91-1bda2c73aa56 label.sk-toggleable__label {cursor: pointer;display: block;width: 100%;margin-bottom: 0;padding: 0.3em;box-sizing: border-box;text-align: center;}#sk-4887f8f6-25dc-4cbf-8a91-1bda2c73aa56 label.sk-toggleable__label-arrow:before {content: \"▸\";float: left;margin-right: 0.25em;color: #696969;}#sk-4887f8f6-25dc-4cbf-8a91-1bda2c73aa56 label.sk-toggleable__label-arrow:hover:before {color: black;}#sk-4887f8f6-25dc-4cbf-8a91-1bda2c73aa56 div.sk-estimator:hover label.sk-toggleable__label-arrow:before {color: black;}#sk-4887f8f6-25dc-4cbf-8a91-1bda2c73aa56 div.sk-toggleable__content {max-height: 0;max-width: 0;overflow: hidden;text-align: left;background-color: #f0f8ff;}#sk-4887f8f6-25dc-4cbf-8a91-1bda2c73aa56 div.sk-toggleable__content pre {margin: 0.2em;color: black;border-radius: 0.25em;background-color: #f0f8ff;}#sk-4887f8f6-25dc-4cbf-8a91-1bda2c73aa56 input.sk-toggleable__control:checked~div.sk-toggleable__content {max-height: 200px;max-width: 100%;overflow: auto;}#sk-4887f8f6-25dc-4cbf-8a91-1bda2c73aa56 input.sk-toggleable__control:checked~label.sk-toggleable__label-arrow:before {content: \"▾\";}#sk-4887f8f6-25dc-4cbf-8a91-1bda2c73aa56 div.sk-estimator input.sk-toggleable__control:checked~label.sk-toggleable__label {background-color: #d4ebff;}#sk-4887f8f6-25dc-4cbf-8a91-1bda2c73aa56 div.sk-label input.sk-toggleable__control:checked~label.sk-toggleable__label {background-color: #d4ebff;}#sk-4887f8f6-25dc-4cbf-8a91-1bda2c73aa56 input.sk-hidden--visually {border: 0;clip: rect(1px 1px 1px 1px);clip: rect(1px, 1px, 1px, 1px);height: 1px;margin: -1px;overflow: hidden;padding: 0;position: absolute;width: 1px;}#sk-4887f8f6-25dc-4cbf-8a91-1bda2c73aa56 div.sk-estimator {font-family: monospace;background-color: #f0f8ff;border: 1px dotted black;border-radius: 0.25em;box-sizing: border-box;margin-bottom: 0.5em;}#sk-4887f8f6-25dc-4cbf-8a91-1bda2c73aa56 div.sk-estimator:hover {background-color: #d4ebff;}#sk-4887f8f6-25dc-4cbf-8a91-1bda2c73aa56 div.sk-parallel-item::after {content: \"\";width: 100%;border-bottom: 1px solid gray;flex-grow: 1;}#sk-4887f8f6-25dc-4cbf-8a91-1bda2c73aa56 div.sk-label:hover label.sk-toggleable__label {background-color: #d4ebff;}#sk-4887f8f6-25dc-4cbf-8a91-1bda2c73aa56 div.sk-serial::before {content: \"\";position: absolute;border-left: 1px solid gray;box-sizing: border-box;top: 2em;bottom: 0;left: 50%;}#sk-4887f8f6-25dc-4cbf-8a91-1bda2c73aa56 div.sk-serial {display: flex;flex-direction: column;align-items: center;background-color: white;padding-right: 0.2em;padding-left: 0.2em;}#sk-4887f8f6-25dc-4cbf-8a91-1bda2c73aa56 div.sk-item {z-index: 1;}#sk-4887f8f6-25dc-4cbf-8a91-1bda2c73aa56 div.sk-parallel {display: flex;align-items: stretch;justify-content: center;background-color: white;}#sk-4887f8f6-25dc-4cbf-8a91-1bda2c73aa56 div.sk-parallel::before {content: \"\";position: absolute;border-left: 1px solid gray;box-sizing: border-box;top: 2em;bottom: 0;left: 50%;}#sk-4887f8f6-25dc-4cbf-8a91-1bda2c73aa56 div.sk-parallel-item {display: flex;flex-direction: column;position: relative;background-color: white;}#sk-4887f8f6-25dc-4cbf-8a91-1bda2c73aa56 div.sk-parallel-item:first-child::after {align-self: flex-end;width: 50%;}#sk-4887f8f6-25dc-4cbf-8a91-1bda2c73aa56 div.sk-parallel-item:last-child::after {align-self: flex-start;width: 50%;}#sk-4887f8f6-25dc-4cbf-8a91-1bda2c73aa56 div.sk-parallel-item:only-child::after {width: 0;}#sk-4887f8f6-25dc-4cbf-8a91-1bda2c73aa56 div.sk-dashed-wrapped {border: 1px dashed gray;margin: 0 0.4em 0.5em 0.4em;box-sizing: border-box;padding-bottom: 0.4em;background-color: white;position: relative;}#sk-4887f8f6-25dc-4cbf-8a91-1bda2c73aa56 div.sk-label label {font-family: monospace;font-weight: bold;background-color: white;display: inline-block;line-height: 1.2em;}#sk-4887f8f6-25dc-4cbf-8a91-1bda2c73aa56 div.sk-label-container {position: relative;z-index: 2;text-align: center;}#sk-4887f8f6-25dc-4cbf-8a91-1bda2c73aa56 div.sk-container {/* jupyter's `normalize.less` sets `[hidden] { display: none; }` but bootstrap.min.css set `[hidden] { display: none !important; }` so we also need the `!important` here to be able to override the default hidden behavior on the sphinx rendered scikit-learn.org. See: https://github.com/scikit-learn/scikit-learn/issues/21755 */display: inline-block !important;position: relative;}#sk-4887f8f6-25dc-4cbf-8a91-1bda2c73aa56 div.sk-text-repr-fallback {display: none;}</style><div id=\"sk-4887f8f6-25dc-4cbf-8a91-1bda2c73aa56\" class=\"sk-top-container\"><div class=\"sk-text-repr-fallback\"><pre>Pipeline(steps=[(&#x27;columntransformer&#x27;,\n",
              "                 ColumnTransformer(remainder=&#x27;passthrough&#x27;,\n",
              "                                   transformers=[(&#x27;pipeline-1&#x27;,\n",
              "                                                  Pipeline(steps=[(&#x27;simpleimputer&#x27;,\n",
              "                                                                   SimpleImputer()),\n",
              "                                                                  (&#x27;standardscaler&#x27;,\n",
              "                                                                   StandardScaler())]),\n",
              "                                                  &lt;sklearn.compose._column_transformer.make_column_selector object at 0x7fac463ee090&gt;),\n",
              "                                                 (&#x27;pipeline-2&#x27;,\n",
              "                                                  Pipeline(steps=[(&#x27;simpleimputer&#x27;,\n",
              "                                                                   SimpleImputer(fill_value=&#x27;missing&#x27;,\n",
              "                                                                                 strategy=&#x27;constant&#x27;)),\n",
              "                                                                  (&#x27;onehotencoder&#x27;,\n",
              "                                                                   OneHotEncoder(handle_unknown=&#x27;ignore&#x27;,\n",
              "                                                                                 sparse=False))]),\n",
              "                                                  &lt;sklearn.compose._column_transformer.make_column_selector object at 0x7fac463eee10&gt;)])),\n",
              "                (&#x27;decisiontreeregressor&#x27;,\n",
              "                 DecisionTreeRegressor(random_state=42))])</pre><b>Please rerun this cell to show the HTML repr or trust the notebook.</b></div><div class=\"sk-container\" hidden><div class=\"sk-item sk-dashed-wrapped\"><div class=\"sk-label-container\"><div class=\"sk-label sk-toggleable\"><input class=\"sk-toggleable__control sk-hidden--visually\" id=\"e0dab097-acdd-4399-81ee-f9b4a0b03450\" type=\"checkbox\" ><label for=\"e0dab097-acdd-4399-81ee-f9b4a0b03450\" class=\"sk-toggleable__label sk-toggleable__label-arrow\">Pipeline</label><div class=\"sk-toggleable__content\"><pre>Pipeline(steps=[(&#x27;columntransformer&#x27;,\n",
              "                 ColumnTransformer(remainder=&#x27;passthrough&#x27;,\n",
              "                                   transformers=[(&#x27;pipeline-1&#x27;,\n",
              "                                                  Pipeline(steps=[(&#x27;simpleimputer&#x27;,\n",
              "                                                                   SimpleImputer()),\n",
              "                                                                  (&#x27;standardscaler&#x27;,\n",
              "                                                                   StandardScaler())]),\n",
              "                                                  &lt;sklearn.compose._column_transformer.make_column_selector object at 0x7fac463ee090&gt;),\n",
              "                                                 (&#x27;pipeline-2&#x27;,\n",
              "                                                  Pipeline(steps=[(&#x27;simpleimputer&#x27;,\n",
              "                                                                   SimpleImputer(fill_value=&#x27;missing&#x27;,\n",
              "                                                                                 strategy=&#x27;constant&#x27;)),\n",
              "                                                                  (&#x27;onehotencoder&#x27;,\n",
              "                                                                   OneHotEncoder(handle_unknown=&#x27;ignore&#x27;,\n",
              "                                                                                 sparse=False))]),\n",
              "                                                  &lt;sklearn.compose._column_transformer.make_column_selector object at 0x7fac463eee10&gt;)])),\n",
              "                (&#x27;decisiontreeregressor&#x27;,\n",
              "                 DecisionTreeRegressor(random_state=42))])</pre></div></div></div><div class=\"sk-serial\"><div class=\"sk-item sk-dashed-wrapped\"><div class=\"sk-label-container\"><div class=\"sk-label sk-toggleable\"><input class=\"sk-toggleable__control sk-hidden--visually\" id=\"c27e24ee-1208-4124-8318-a991a27b491c\" type=\"checkbox\" ><label for=\"c27e24ee-1208-4124-8318-a991a27b491c\" class=\"sk-toggleable__label sk-toggleable__label-arrow\">columntransformer: ColumnTransformer</label><div class=\"sk-toggleable__content\"><pre>ColumnTransformer(remainder=&#x27;passthrough&#x27;,\n",
              "                  transformers=[(&#x27;pipeline-1&#x27;,\n",
              "                                 Pipeline(steps=[(&#x27;simpleimputer&#x27;,\n",
              "                                                  SimpleImputer()),\n",
              "                                                 (&#x27;standardscaler&#x27;,\n",
              "                                                  StandardScaler())]),\n",
              "                                 &lt;sklearn.compose._column_transformer.make_column_selector object at 0x7fac463ee090&gt;),\n",
              "                                (&#x27;pipeline-2&#x27;,\n",
              "                                 Pipeline(steps=[(&#x27;simpleimputer&#x27;,\n",
              "                                                  SimpleImputer(fill_value=&#x27;missing&#x27;,\n",
              "                                                                strategy=&#x27;constant&#x27;)),\n",
              "                                                 (&#x27;onehotencoder&#x27;,\n",
              "                                                  OneHotEncoder(handle_unknown=&#x27;ignore&#x27;,\n",
              "                                                                sparse=False))]),\n",
              "                                 &lt;sklearn.compose._column_transformer.make_column_selector object at 0x7fac463eee10&gt;)])</pre></div></div></div><div class=\"sk-parallel\"><div class=\"sk-parallel-item\"><div class=\"sk-item\"><div class=\"sk-label-container\"><div class=\"sk-label sk-toggleable\"><input class=\"sk-toggleable__control sk-hidden--visually\" id=\"6e9fa0b6-9bde-4c2a-8301-dd9a8b0f56ea\" type=\"checkbox\" ><label for=\"6e9fa0b6-9bde-4c2a-8301-dd9a8b0f56ea\" class=\"sk-toggleable__label sk-toggleable__label-arrow\">pipeline-1</label><div class=\"sk-toggleable__content\"><pre>&lt;sklearn.compose._column_transformer.make_column_selector object at 0x7fac463ee090&gt;</pre></div></div></div><div class=\"sk-serial\"><div class=\"sk-item\"><div class=\"sk-serial\"><div class=\"sk-item\"><div class=\"sk-estimator sk-toggleable\"><input class=\"sk-toggleable__control sk-hidden--visually\" id=\"0a32b4a7-f759-42c2-a40f-8ac95d4d31d2\" type=\"checkbox\" ><label for=\"0a32b4a7-f759-42c2-a40f-8ac95d4d31d2\" class=\"sk-toggleable__label sk-toggleable__label-arrow\">SimpleImputer</label><div class=\"sk-toggleable__content\"><pre>SimpleImputer()</pre></div></div></div><div class=\"sk-item\"><div class=\"sk-estimator sk-toggleable\"><input class=\"sk-toggleable__control sk-hidden--visually\" id=\"18db5640-7389-4a94-9cbb-e656f91b7bf5\" type=\"checkbox\" ><label for=\"18db5640-7389-4a94-9cbb-e656f91b7bf5\" class=\"sk-toggleable__label sk-toggleable__label-arrow\">StandardScaler</label><div class=\"sk-toggleable__content\"><pre>StandardScaler()</pre></div></div></div></div></div></div></div></div><div class=\"sk-parallel-item\"><div class=\"sk-item\"><div class=\"sk-label-container\"><div class=\"sk-label sk-toggleable\"><input class=\"sk-toggleable__control sk-hidden--visually\" id=\"bf3cb4d5-d09d-4329-bbcd-6b175b930127\" type=\"checkbox\" ><label for=\"bf3cb4d5-d09d-4329-bbcd-6b175b930127\" class=\"sk-toggleable__label sk-toggleable__label-arrow\">pipeline-2</label><div class=\"sk-toggleable__content\"><pre>&lt;sklearn.compose._column_transformer.make_column_selector object at 0x7fac463eee10&gt;</pre></div></div></div><div class=\"sk-serial\"><div class=\"sk-item\"><div class=\"sk-serial\"><div class=\"sk-item\"><div class=\"sk-estimator sk-toggleable\"><input class=\"sk-toggleable__control sk-hidden--visually\" id=\"68a082c5-a265-4960-8c4e-afd83d50d8b5\" type=\"checkbox\" ><label for=\"68a082c5-a265-4960-8c4e-afd83d50d8b5\" class=\"sk-toggleable__label sk-toggleable__label-arrow\">SimpleImputer</label><div class=\"sk-toggleable__content\"><pre>SimpleImputer(fill_value=&#x27;missing&#x27;, strategy=&#x27;constant&#x27;)</pre></div></div></div><div class=\"sk-item\"><div class=\"sk-estimator sk-toggleable\"><input class=\"sk-toggleable__control sk-hidden--visually\" id=\"d3f91f50-a340-497d-b2c5-ee4328ee78fe\" type=\"checkbox\" ><label for=\"d3f91f50-a340-497d-b2c5-ee4328ee78fe\" class=\"sk-toggleable__label sk-toggleable__label-arrow\">OneHotEncoder</label><div class=\"sk-toggleable__content\"><pre>OneHotEncoder(handle_unknown=&#x27;ignore&#x27;, sparse=False)</pre></div></div></div></div></div></div></div></div><div class=\"sk-parallel-item\"><div class=\"sk-item\"><div class=\"sk-label-container\"><div class=\"sk-label sk-toggleable\"><input class=\"sk-toggleable__control sk-hidden--visually\" id=\"1bcaab35-0291-4d14-a412-0e7b2bc4f9d0\" type=\"checkbox\" ><label for=\"1bcaab35-0291-4d14-a412-0e7b2bc4f9d0\" class=\"sk-toggleable__label sk-toggleable__label-arrow\">remainder</label><div class=\"sk-toggleable__content\"><pre>[]</pre></div></div></div><div class=\"sk-serial\"><div class=\"sk-item\"><div class=\"sk-estimator sk-toggleable\"><input class=\"sk-toggleable__control sk-hidden--visually\" id=\"feb9e650-5fea-4f5e-90b2-6dd4f4379a30\" type=\"checkbox\" ><label for=\"feb9e650-5fea-4f5e-90b2-6dd4f4379a30\" class=\"sk-toggleable__label sk-toggleable__label-arrow\">passthrough</label><div class=\"sk-toggleable__content\"><pre>passthrough</pre></div></div></div></div></div></div></div></div><div class=\"sk-item\"><div class=\"sk-estimator sk-toggleable\"><input class=\"sk-toggleable__control sk-hidden--visually\" id=\"623b961f-fc7b-4a75-acf2-b72d374cfb7c\" type=\"checkbox\" ><label for=\"623b961f-fc7b-4a75-acf2-b72d374cfb7c\" class=\"sk-toggleable__label sk-toggleable__label-arrow\">DecisionTreeRegressor</label><div class=\"sk-toggleable__content\"><pre>DecisionTreeRegressor(random_state=42)</pre></div></div></div></div></div></div></div>"
            ]
          },
          "metadata": {},
          "execution_count": 64
        }
      ]
    },
    {
      "cell_type": "code",
      "source": [
        "dec_tree_pipe.predict(X_test)"
      ],
      "metadata": {
        "id": "XY8xCqMrpYCR",
        "outputId": "b53a1dc2-8806-4724-885b-f94659ef2530",
        "colab": {
          "base_uri": "https://localhost:8080/"
        }
      },
      "execution_count": 65,
      "outputs": [
        {
          "output_type": "execute_result",
          "data": {
            "text/plain": [
              "array([77., 79., 88., 79., 74., 86., 82., 87., 82., 88., 74., 83., 86.,\n",
              "       82., 84., 86.])"
            ]
          },
          "metadata": {},
          "execution_count": 65
        }
      ]
    },
    {
      "cell_type": "code",
      "source": [
        "train_score = dec_tree_pipe.score(X_train, y_train)\n",
        "test_score = dec_tree_pipe.score(X_test, y_test)\n",
        "print(train_score)\n",
        "print(test_score)"
      ],
      "metadata": {
        "id": "vJLIvsYIpbF4",
        "outputId": "5e2d3e1a-7db9-4a1f-8d46-f95f931b6a1a",
        "colab": {
          "base_uri": "https://localhost:8080/"
        }
      },
      "execution_count": 66,
      "outputs": [
        {
          "output_type": "stream",
          "name": "stdout",
          "text": [
            "1.0\n",
            "0.6424581005586592\n"
          ]
        }
      ]
    },
    {
      "cell_type": "code",
      "source": [
        "dec_tree_pipe.get_params()"
      ],
      "metadata": {
        "id": "Zsp_772spofM",
        "outputId": "487684bd-a840-4be7-cc48-f36c691b8042",
        "colab": {
          "base_uri": "https://localhost:8080/"
        }
      },
      "execution_count": 67,
      "outputs": [
        {
          "output_type": "execute_result",
          "data": {
            "text/plain": [
              "{'columntransformer': ColumnTransformer(remainder='passthrough',\n",
              "                   transformers=[('pipeline-1',\n",
              "                                  Pipeline(steps=[('simpleimputer',\n",
              "                                                   SimpleImputer()),\n",
              "                                                  ('standardscaler',\n",
              "                                                   StandardScaler())]),\n",
              "                                  <sklearn.compose._column_transformer.make_column_selector object at 0x7fac463ee090>),\n",
              "                                 ('pipeline-2',\n",
              "                                  Pipeline(steps=[('simpleimputer',\n",
              "                                                   SimpleImputer(fill_value='missing',\n",
              "                                                                 strategy='constant')),\n",
              "                                                  ('onehotencoder',\n",
              "                                                   OneHotEncoder(handle_unknown='ignore',\n",
              "                                                                 sparse=False))]),\n",
              "                                  <sklearn.compose._column_transformer.make_column_selector object at 0x7fac463eee10>)]),\n",
              " 'columntransformer__n_jobs': None,\n",
              " 'columntransformer__pipeline-1': Pipeline(steps=[('simpleimputer', SimpleImputer()),\n",
              "                 ('standardscaler', StandardScaler())]),\n",
              " 'columntransformer__pipeline-1__memory': None,\n",
              " 'columntransformer__pipeline-1__simpleimputer': SimpleImputer(),\n",
              " 'columntransformer__pipeline-1__simpleimputer__add_indicator': False,\n",
              " 'columntransformer__pipeline-1__simpleimputer__copy': True,\n",
              " 'columntransformer__pipeline-1__simpleimputer__fill_value': None,\n",
              " 'columntransformer__pipeline-1__simpleimputer__missing_values': nan,\n",
              " 'columntransformer__pipeline-1__simpleimputer__strategy': 'mean',\n",
              " 'columntransformer__pipeline-1__simpleimputer__verbose': 0,\n",
              " 'columntransformer__pipeline-1__standardscaler': StandardScaler(),\n",
              " 'columntransformer__pipeline-1__standardscaler__copy': True,\n",
              " 'columntransformer__pipeline-1__standardscaler__with_mean': True,\n",
              " 'columntransformer__pipeline-1__standardscaler__with_std': True,\n",
              " 'columntransformer__pipeline-1__steps': [('simpleimputer', SimpleImputer()),\n",
              "  ('standardscaler', StandardScaler())],\n",
              " 'columntransformer__pipeline-1__verbose': False,\n",
              " 'columntransformer__pipeline-2': Pipeline(steps=[('simpleimputer',\n",
              "                  SimpleImputer(fill_value='missing', strategy='constant')),\n",
              "                 ('onehotencoder',\n",
              "                  OneHotEncoder(handle_unknown='ignore', sparse=False))]),\n",
              " 'columntransformer__pipeline-2__memory': None,\n",
              " 'columntransformer__pipeline-2__onehotencoder': OneHotEncoder(handle_unknown='ignore', sparse=False),\n",
              " 'columntransformer__pipeline-2__onehotencoder__categories': 'auto',\n",
              " 'columntransformer__pipeline-2__onehotencoder__drop': None,\n",
              " 'columntransformer__pipeline-2__onehotencoder__dtype': numpy.float64,\n",
              " 'columntransformer__pipeline-2__onehotencoder__handle_unknown': 'ignore',\n",
              " 'columntransformer__pipeline-2__onehotencoder__sparse': False,\n",
              " 'columntransformer__pipeline-2__simpleimputer': SimpleImputer(fill_value='missing', strategy='constant'),\n",
              " 'columntransformer__pipeline-2__simpleimputer__add_indicator': False,\n",
              " 'columntransformer__pipeline-2__simpleimputer__copy': True,\n",
              " 'columntransformer__pipeline-2__simpleimputer__fill_value': 'missing',\n",
              " 'columntransformer__pipeline-2__simpleimputer__missing_values': nan,\n",
              " 'columntransformer__pipeline-2__simpleimputer__strategy': 'constant',\n",
              " 'columntransformer__pipeline-2__simpleimputer__verbose': 0,\n",
              " 'columntransformer__pipeline-2__steps': [('simpleimputer',\n",
              "   SimpleImputer(fill_value='missing', strategy='constant')),\n",
              "  ('onehotencoder', OneHotEncoder(handle_unknown='ignore', sparse=False))],\n",
              " 'columntransformer__pipeline-2__verbose': False,\n",
              " 'columntransformer__remainder': 'passthrough',\n",
              " 'columntransformer__sparse_threshold': 0.3,\n",
              " 'columntransformer__transformer_weights': None,\n",
              " 'columntransformer__transformers': [('pipeline-1',\n",
              "   Pipeline(steps=[('simpleimputer', SimpleImputer()),\n",
              "                   ('standardscaler', StandardScaler())]),\n",
              "   <sklearn.compose._column_transformer.make_column_selector at 0x7fac463ee090>),\n",
              "  ('pipeline-2', Pipeline(steps=[('simpleimputer',\n",
              "                    SimpleImputer(fill_value='missing', strategy='constant')),\n",
              "                   ('onehotencoder',\n",
              "                    OneHotEncoder(handle_unknown='ignore', sparse=False))]), <sklearn.compose._column_transformer.make_column_selector at 0x7fac463eee10>)],\n",
              " 'columntransformer__verbose': False,\n",
              " 'columntransformer__verbose_feature_names_out': True,\n",
              " 'decisiontreeregressor': DecisionTreeRegressor(random_state=42),\n",
              " 'decisiontreeregressor__ccp_alpha': 0.0,\n",
              " 'decisiontreeregressor__criterion': 'squared_error',\n",
              " 'decisiontreeregressor__max_depth': None,\n",
              " 'decisiontreeregressor__max_features': None,\n",
              " 'decisiontreeregressor__max_leaf_nodes': None,\n",
              " 'decisiontreeregressor__min_impurity_decrease': 0.0,\n",
              " 'decisiontreeregressor__min_samples_leaf': 1,\n",
              " 'decisiontreeregressor__min_samples_split': 2,\n",
              " 'decisiontreeregressor__min_weight_fraction_leaf': 0.0,\n",
              " 'decisiontreeregressor__random_state': 42,\n",
              " 'decisiontreeregressor__splitter': 'best',\n",
              " 'memory': None,\n",
              " 'steps': [('columntransformer', ColumnTransformer(remainder='passthrough',\n",
              "                     transformers=[('pipeline-1',\n",
              "                                    Pipeline(steps=[('simpleimputer',\n",
              "                                                     SimpleImputer()),\n",
              "                                                    ('standardscaler',\n",
              "                                                     StandardScaler())]),\n",
              "                                    <sklearn.compose._column_transformer.make_column_selector object at 0x7fac463ee090>),\n",
              "                                   ('pipeline-2',\n",
              "                                    Pipeline(steps=[('simpleimputer',\n",
              "                                                     SimpleImputer(fill_value='missing',\n",
              "                                                                   strategy='constant')),\n",
              "                                                    ('onehotencoder',\n",
              "                                                     OneHotEncoder(handle_unknown='ignore',\n",
              "                                                                   sparse=False))]),\n",
              "                                    <sklearn.compose._column_transformer.make_column_selector object at 0x7fac463eee10>)])),\n",
              "  ('decisiontreeregressor', DecisionTreeRegressor(random_state=42))],\n",
              " 'verbose': False}"
            ]
          },
          "metadata": {},
          "execution_count": 67
        }
      ]
    },
    {
      "cell_type": "code",
      "source": [
        "dec_tree.get_depth()"
      ],
      "metadata": {
        "id": "61Z167wYpsGZ",
        "outputId": "411ba255-6301-4fae-9592-8f36836c5a32",
        "colab": {
          "base_uri": "https://localhost:8080/"
        }
      },
      "execution_count": 68,
      "outputs": [
        {
          "output_type": "execute_result",
          "data": {
            "text/plain": [
              "7"
            ]
          },
          "metadata": {},
          "execution_count": 68
        }
      ]
    },
    {
      "cell_type": "code",
      "source": [
        "# How many leaf nodes?\n",
        "dec_tree.get_n_leaves()"
      ],
      "metadata": {
        "id": "uQ4wy9XJpyJq",
        "outputId": "bb9dd463-eaaf-47c7-f50f-5d014853d307",
        "colab": {
          "base_uri": "https://localhost:8080/"
        }
      },
      "execution_count": 69,
      "outputs": [
        {
          "output_type": "execute_result",
          "data": {
            "text/plain": [
              "24"
            ]
          },
          "metadata": {},
          "execution_count": 69
        }
      ]
    },
    {
      "cell_type": "code",
      "source": [
        "dec_tree_2 = DecisionTreeRegressor(max_depth = 22, random_state = 24)"
      ],
      "metadata": {
        "id": "_57sfxCKqfJN"
      },
      "execution_count": 70,
      "outputs": []
    },
    {
      "cell_type": "code",
      "source": [
        "dec_tree_pipe_2 = make_pipeline(column_transformer, dec_tree_2)"
      ],
      "metadata": {
        "id": "QBrArc9cqUoW"
      },
      "execution_count": 71,
      "outputs": []
    },
    {
      "cell_type": "code",
      "source": [
        "dec_tree_pipe_2.fit(X_train, y_train)\n",
        "train_2_score = dec_tree_pipe_2.score(X_train, y_train)\n",
        "test_2_score = dec_tree_pipe_2.score(X_test, y_test)\n",
        "print(train_2_score)\n",
        "print(test_2_score)"
      ],
      "metadata": {
        "id": "iVuiMEqVp1ow",
        "outputId": "5cc5cfa2-71b6-432a-88e8-9d124baccf35",
        "colab": {
          "base_uri": "https://localhost:8080/"
        }
      },
      "execution_count": 72,
      "outputs": [
        {
          "output_type": "stream",
          "name": "stdout",
          "text": [
            "1.0\n",
            "0.7275871242351689\n"
          ]
        }
      ]
    },
    {
      "cell_type": "code",
      "source": [
        "knn = KNeighborsRegressor(n_neighbors = 25)"
      ],
      "metadata": {
        "id": "NvsncE9jjqDK"
      },
      "execution_count": 73,
      "outputs": []
    },
    {
      "cell_type": "code",
      "source": [
        "knn_pipe = make_pipeline(column_transformer, knn)\n",
        "knn_pipe.fit(X_train, y_train)"
      ],
      "metadata": {
        "id": "SU4tKYBSjhLe",
        "outputId": "ddd8d429-3703-4ee1-a712-211541f9dafc",
        "colab": {
          "base_uri": "https://localhost:8080/",
          "height": 227
        }
      },
      "execution_count": 74,
      "outputs": [
        {
          "output_type": "execute_result",
          "data": {
            "text/plain": [
              "Pipeline(steps=[('columntransformer',\n",
              "                 ColumnTransformer(remainder='passthrough',\n",
              "                                   transformers=[('pipeline-1',\n",
              "                                                  Pipeline(steps=[('simpleimputer',\n",
              "                                                                   SimpleImputer()),\n",
              "                                                                  ('standardscaler',\n",
              "                                                                   StandardScaler())]),\n",
              "                                                  <sklearn.compose._column_transformer.make_column_selector object at 0x7fac463ee090>),\n",
              "                                                 ('pipeline-2',\n",
              "                                                  Pipeline(steps=[('simpleimputer',\n",
              "                                                                   SimpleImputer(fill_value='missing',\n",
              "                                                                                 strategy='constant')),\n",
              "                                                                  ('onehotencoder',\n",
              "                                                                   OneHotEncoder(handle_unknown='ignore',\n",
              "                                                                                 sparse=False))]),\n",
              "                                                  <sklearn.compose._column_transformer.make_column_selector object at 0x7fac463eee10>)])),\n",
              "                ('kneighborsregressor', KNeighborsRegressor(n_neighbors=25))])"
            ],
            "text/html": [
              "<style>#sk-6d59b872-8736-4266-b465-3394d45b38c2 {color: black;background-color: white;}#sk-6d59b872-8736-4266-b465-3394d45b38c2 pre{padding: 0;}#sk-6d59b872-8736-4266-b465-3394d45b38c2 div.sk-toggleable {background-color: white;}#sk-6d59b872-8736-4266-b465-3394d45b38c2 label.sk-toggleable__label {cursor: pointer;display: block;width: 100%;margin-bottom: 0;padding: 0.3em;box-sizing: border-box;text-align: center;}#sk-6d59b872-8736-4266-b465-3394d45b38c2 label.sk-toggleable__label-arrow:before {content: \"▸\";float: left;margin-right: 0.25em;color: #696969;}#sk-6d59b872-8736-4266-b465-3394d45b38c2 label.sk-toggleable__label-arrow:hover:before {color: black;}#sk-6d59b872-8736-4266-b465-3394d45b38c2 div.sk-estimator:hover label.sk-toggleable__label-arrow:before {color: black;}#sk-6d59b872-8736-4266-b465-3394d45b38c2 div.sk-toggleable__content {max-height: 0;max-width: 0;overflow: hidden;text-align: left;background-color: #f0f8ff;}#sk-6d59b872-8736-4266-b465-3394d45b38c2 div.sk-toggleable__content pre {margin: 0.2em;color: black;border-radius: 0.25em;background-color: #f0f8ff;}#sk-6d59b872-8736-4266-b465-3394d45b38c2 input.sk-toggleable__control:checked~div.sk-toggleable__content {max-height: 200px;max-width: 100%;overflow: auto;}#sk-6d59b872-8736-4266-b465-3394d45b38c2 input.sk-toggleable__control:checked~label.sk-toggleable__label-arrow:before {content: \"▾\";}#sk-6d59b872-8736-4266-b465-3394d45b38c2 div.sk-estimator input.sk-toggleable__control:checked~label.sk-toggleable__label {background-color: #d4ebff;}#sk-6d59b872-8736-4266-b465-3394d45b38c2 div.sk-label input.sk-toggleable__control:checked~label.sk-toggleable__label {background-color: #d4ebff;}#sk-6d59b872-8736-4266-b465-3394d45b38c2 input.sk-hidden--visually {border: 0;clip: rect(1px 1px 1px 1px);clip: rect(1px, 1px, 1px, 1px);height: 1px;margin: -1px;overflow: hidden;padding: 0;position: absolute;width: 1px;}#sk-6d59b872-8736-4266-b465-3394d45b38c2 div.sk-estimator {font-family: monospace;background-color: #f0f8ff;border: 1px dotted black;border-radius: 0.25em;box-sizing: border-box;margin-bottom: 0.5em;}#sk-6d59b872-8736-4266-b465-3394d45b38c2 div.sk-estimator:hover {background-color: #d4ebff;}#sk-6d59b872-8736-4266-b465-3394d45b38c2 div.sk-parallel-item::after {content: \"\";width: 100%;border-bottom: 1px solid gray;flex-grow: 1;}#sk-6d59b872-8736-4266-b465-3394d45b38c2 div.sk-label:hover label.sk-toggleable__label {background-color: #d4ebff;}#sk-6d59b872-8736-4266-b465-3394d45b38c2 div.sk-serial::before {content: \"\";position: absolute;border-left: 1px solid gray;box-sizing: border-box;top: 2em;bottom: 0;left: 50%;}#sk-6d59b872-8736-4266-b465-3394d45b38c2 div.sk-serial {display: flex;flex-direction: column;align-items: center;background-color: white;padding-right: 0.2em;padding-left: 0.2em;}#sk-6d59b872-8736-4266-b465-3394d45b38c2 div.sk-item {z-index: 1;}#sk-6d59b872-8736-4266-b465-3394d45b38c2 div.sk-parallel {display: flex;align-items: stretch;justify-content: center;background-color: white;}#sk-6d59b872-8736-4266-b465-3394d45b38c2 div.sk-parallel::before {content: \"\";position: absolute;border-left: 1px solid gray;box-sizing: border-box;top: 2em;bottom: 0;left: 50%;}#sk-6d59b872-8736-4266-b465-3394d45b38c2 div.sk-parallel-item {display: flex;flex-direction: column;position: relative;background-color: white;}#sk-6d59b872-8736-4266-b465-3394d45b38c2 div.sk-parallel-item:first-child::after {align-self: flex-end;width: 50%;}#sk-6d59b872-8736-4266-b465-3394d45b38c2 div.sk-parallel-item:last-child::after {align-self: flex-start;width: 50%;}#sk-6d59b872-8736-4266-b465-3394d45b38c2 div.sk-parallel-item:only-child::after {width: 0;}#sk-6d59b872-8736-4266-b465-3394d45b38c2 div.sk-dashed-wrapped {border: 1px dashed gray;margin: 0 0.4em 0.5em 0.4em;box-sizing: border-box;padding-bottom: 0.4em;background-color: white;position: relative;}#sk-6d59b872-8736-4266-b465-3394d45b38c2 div.sk-label label {font-family: monospace;font-weight: bold;background-color: white;display: inline-block;line-height: 1.2em;}#sk-6d59b872-8736-4266-b465-3394d45b38c2 div.sk-label-container {position: relative;z-index: 2;text-align: center;}#sk-6d59b872-8736-4266-b465-3394d45b38c2 div.sk-container {/* jupyter's `normalize.less` sets `[hidden] { display: none; }` but bootstrap.min.css set `[hidden] { display: none !important; }` so we also need the `!important` here to be able to override the default hidden behavior on the sphinx rendered scikit-learn.org. See: https://github.com/scikit-learn/scikit-learn/issues/21755 */display: inline-block !important;position: relative;}#sk-6d59b872-8736-4266-b465-3394d45b38c2 div.sk-text-repr-fallback {display: none;}</style><div id=\"sk-6d59b872-8736-4266-b465-3394d45b38c2\" class=\"sk-top-container\"><div class=\"sk-text-repr-fallback\"><pre>Pipeline(steps=[(&#x27;columntransformer&#x27;,\n",
              "                 ColumnTransformer(remainder=&#x27;passthrough&#x27;,\n",
              "                                   transformers=[(&#x27;pipeline-1&#x27;,\n",
              "                                                  Pipeline(steps=[(&#x27;simpleimputer&#x27;,\n",
              "                                                                   SimpleImputer()),\n",
              "                                                                  (&#x27;standardscaler&#x27;,\n",
              "                                                                   StandardScaler())]),\n",
              "                                                  &lt;sklearn.compose._column_transformer.make_column_selector object at 0x7fac463ee090&gt;),\n",
              "                                                 (&#x27;pipeline-2&#x27;,\n",
              "                                                  Pipeline(steps=[(&#x27;simpleimputer&#x27;,\n",
              "                                                                   SimpleImputer(fill_value=&#x27;missing&#x27;,\n",
              "                                                                                 strategy=&#x27;constant&#x27;)),\n",
              "                                                                  (&#x27;onehotencoder&#x27;,\n",
              "                                                                   OneHotEncoder(handle_unknown=&#x27;ignore&#x27;,\n",
              "                                                                                 sparse=False))]),\n",
              "                                                  &lt;sklearn.compose._column_transformer.make_column_selector object at 0x7fac463eee10&gt;)])),\n",
              "                (&#x27;kneighborsregressor&#x27;, KNeighborsRegressor(n_neighbors=25))])</pre><b>Please rerun this cell to show the HTML repr or trust the notebook.</b></div><div class=\"sk-container\" hidden><div class=\"sk-item sk-dashed-wrapped\"><div class=\"sk-label-container\"><div class=\"sk-label sk-toggleable\"><input class=\"sk-toggleable__control sk-hidden--visually\" id=\"ba67d7c4-6954-468c-840e-a85dced239bf\" type=\"checkbox\" ><label for=\"ba67d7c4-6954-468c-840e-a85dced239bf\" class=\"sk-toggleable__label sk-toggleable__label-arrow\">Pipeline</label><div class=\"sk-toggleable__content\"><pre>Pipeline(steps=[(&#x27;columntransformer&#x27;,\n",
              "                 ColumnTransformer(remainder=&#x27;passthrough&#x27;,\n",
              "                                   transformers=[(&#x27;pipeline-1&#x27;,\n",
              "                                                  Pipeline(steps=[(&#x27;simpleimputer&#x27;,\n",
              "                                                                   SimpleImputer()),\n",
              "                                                                  (&#x27;standardscaler&#x27;,\n",
              "                                                                   StandardScaler())]),\n",
              "                                                  &lt;sklearn.compose._column_transformer.make_column_selector object at 0x7fac463ee090&gt;),\n",
              "                                                 (&#x27;pipeline-2&#x27;,\n",
              "                                                  Pipeline(steps=[(&#x27;simpleimputer&#x27;,\n",
              "                                                                   SimpleImputer(fill_value=&#x27;missing&#x27;,\n",
              "                                                                                 strategy=&#x27;constant&#x27;)),\n",
              "                                                                  (&#x27;onehotencoder&#x27;,\n",
              "                                                                   OneHotEncoder(handle_unknown=&#x27;ignore&#x27;,\n",
              "                                                                                 sparse=False))]),\n",
              "                                                  &lt;sklearn.compose._column_transformer.make_column_selector object at 0x7fac463eee10&gt;)])),\n",
              "                (&#x27;kneighborsregressor&#x27;, KNeighborsRegressor(n_neighbors=25))])</pre></div></div></div><div class=\"sk-serial\"><div class=\"sk-item sk-dashed-wrapped\"><div class=\"sk-label-container\"><div class=\"sk-label sk-toggleable\"><input class=\"sk-toggleable__control sk-hidden--visually\" id=\"46b9a16f-50fc-4695-a014-a524819b972f\" type=\"checkbox\" ><label for=\"46b9a16f-50fc-4695-a014-a524819b972f\" class=\"sk-toggleable__label sk-toggleable__label-arrow\">columntransformer: ColumnTransformer</label><div class=\"sk-toggleable__content\"><pre>ColumnTransformer(remainder=&#x27;passthrough&#x27;,\n",
              "                  transformers=[(&#x27;pipeline-1&#x27;,\n",
              "                                 Pipeline(steps=[(&#x27;simpleimputer&#x27;,\n",
              "                                                  SimpleImputer()),\n",
              "                                                 (&#x27;standardscaler&#x27;,\n",
              "                                                  StandardScaler())]),\n",
              "                                 &lt;sklearn.compose._column_transformer.make_column_selector object at 0x7fac463ee090&gt;),\n",
              "                                (&#x27;pipeline-2&#x27;,\n",
              "                                 Pipeline(steps=[(&#x27;simpleimputer&#x27;,\n",
              "                                                  SimpleImputer(fill_value=&#x27;missing&#x27;,\n",
              "                                                                strategy=&#x27;constant&#x27;)),\n",
              "                                                 (&#x27;onehotencoder&#x27;,\n",
              "                                                  OneHotEncoder(handle_unknown=&#x27;ignore&#x27;,\n",
              "                                                                sparse=False))]),\n",
              "                                 &lt;sklearn.compose._column_transformer.make_column_selector object at 0x7fac463eee10&gt;)])</pre></div></div></div><div class=\"sk-parallel\"><div class=\"sk-parallel-item\"><div class=\"sk-item\"><div class=\"sk-label-container\"><div class=\"sk-label sk-toggleable\"><input class=\"sk-toggleable__control sk-hidden--visually\" id=\"5fe14c60-c37c-4b16-ad5d-63757cb750be\" type=\"checkbox\" ><label for=\"5fe14c60-c37c-4b16-ad5d-63757cb750be\" class=\"sk-toggleable__label sk-toggleable__label-arrow\">pipeline-1</label><div class=\"sk-toggleable__content\"><pre>&lt;sklearn.compose._column_transformer.make_column_selector object at 0x7fac463ee090&gt;</pre></div></div></div><div class=\"sk-serial\"><div class=\"sk-item\"><div class=\"sk-serial\"><div class=\"sk-item\"><div class=\"sk-estimator sk-toggleable\"><input class=\"sk-toggleable__control sk-hidden--visually\" id=\"c2396f4b-9ed2-4ee1-b264-a8322b9e9e81\" type=\"checkbox\" ><label for=\"c2396f4b-9ed2-4ee1-b264-a8322b9e9e81\" class=\"sk-toggleable__label sk-toggleable__label-arrow\">SimpleImputer</label><div class=\"sk-toggleable__content\"><pre>SimpleImputer()</pre></div></div></div><div class=\"sk-item\"><div class=\"sk-estimator sk-toggleable\"><input class=\"sk-toggleable__control sk-hidden--visually\" id=\"32fd7a14-d0af-4f96-962e-c33a7f2d1894\" type=\"checkbox\" ><label for=\"32fd7a14-d0af-4f96-962e-c33a7f2d1894\" class=\"sk-toggleable__label sk-toggleable__label-arrow\">StandardScaler</label><div class=\"sk-toggleable__content\"><pre>StandardScaler()</pre></div></div></div></div></div></div></div></div><div class=\"sk-parallel-item\"><div class=\"sk-item\"><div class=\"sk-label-container\"><div class=\"sk-label sk-toggleable\"><input class=\"sk-toggleable__control sk-hidden--visually\" id=\"8c9a2711-d984-4251-be89-5dbb8e3b882f\" type=\"checkbox\" ><label for=\"8c9a2711-d984-4251-be89-5dbb8e3b882f\" class=\"sk-toggleable__label sk-toggleable__label-arrow\">pipeline-2</label><div class=\"sk-toggleable__content\"><pre>&lt;sklearn.compose._column_transformer.make_column_selector object at 0x7fac463eee10&gt;</pre></div></div></div><div class=\"sk-serial\"><div class=\"sk-item\"><div class=\"sk-serial\"><div class=\"sk-item\"><div class=\"sk-estimator sk-toggleable\"><input class=\"sk-toggleable__control sk-hidden--visually\" id=\"202baee8-1a0e-4359-a51b-0f28fc7d7ece\" type=\"checkbox\" ><label for=\"202baee8-1a0e-4359-a51b-0f28fc7d7ece\" class=\"sk-toggleable__label sk-toggleable__label-arrow\">SimpleImputer</label><div class=\"sk-toggleable__content\"><pre>SimpleImputer(fill_value=&#x27;missing&#x27;, strategy=&#x27;constant&#x27;)</pre></div></div></div><div class=\"sk-item\"><div class=\"sk-estimator sk-toggleable\"><input class=\"sk-toggleable__control sk-hidden--visually\" id=\"7a70d905-19cd-484f-b7db-23ef1f868024\" type=\"checkbox\" ><label for=\"7a70d905-19cd-484f-b7db-23ef1f868024\" class=\"sk-toggleable__label sk-toggleable__label-arrow\">OneHotEncoder</label><div class=\"sk-toggleable__content\"><pre>OneHotEncoder(handle_unknown=&#x27;ignore&#x27;, sparse=False)</pre></div></div></div></div></div></div></div></div><div class=\"sk-parallel-item\"><div class=\"sk-item\"><div class=\"sk-label-container\"><div class=\"sk-label sk-toggleable\"><input class=\"sk-toggleable__control sk-hidden--visually\" id=\"7c7b7e7f-00d4-4797-bf30-b33126fc9c4d\" type=\"checkbox\" ><label for=\"7c7b7e7f-00d4-4797-bf30-b33126fc9c4d\" class=\"sk-toggleable__label sk-toggleable__label-arrow\">remainder</label><div class=\"sk-toggleable__content\"><pre>[]</pre></div></div></div><div class=\"sk-serial\"><div class=\"sk-item\"><div class=\"sk-estimator sk-toggleable\"><input class=\"sk-toggleable__control sk-hidden--visually\" id=\"53001788-f8e2-42dd-adf5-c04d0d3b3efb\" type=\"checkbox\" ><label for=\"53001788-f8e2-42dd-adf5-c04d0d3b3efb\" class=\"sk-toggleable__label sk-toggleable__label-arrow\">passthrough</label><div class=\"sk-toggleable__content\"><pre>passthrough</pre></div></div></div></div></div></div></div></div><div class=\"sk-item\"><div class=\"sk-estimator sk-toggleable\"><input class=\"sk-toggleable__control sk-hidden--visually\" id=\"7a0de693-987a-4f43-80ca-dd19fc22345e\" type=\"checkbox\" ><label for=\"7a0de693-987a-4f43-80ca-dd19fc22345e\" class=\"sk-toggleable__label sk-toggleable__label-arrow\">KNeighborsRegressor</label><div class=\"sk-toggleable__content\"><pre>KNeighborsRegressor(n_neighbors=25)</pre></div></div></div></div></div></div></div>"
            ]
          },
          "metadata": {},
          "execution_count": 74
        }
      ]
    },
    {
      "cell_type": "code",
      "source": [
        "predictions = knn_pipe.predict(X_test)\n",
        "predictions"
      ],
      "metadata": {
        "id": "o1fHPXLBjxA0",
        "outputId": "a7f3f411-8566-422d-a320-6094bcdc1a08",
        "colab": {
          "base_uri": "https://localhost:8080/"
        }
      },
      "execution_count": 75,
      "outputs": [
        {
          "output_type": "execute_result",
          "data": {
            "text/plain": [
              "array([81.04, 81.96, 83.88, 81.16, 80.56, 83.84, 80.88, 83.8 , 83.8 ,\n",
              "       83.52, 80.12, 82.4 , 83.72, 82.2 , 83.88, 83.12])"
            ]
          },
          "metadata": {},
          "execution_count": 75
        }
      ]
    },
    {
      "cell_type": "code",
      "source": [
        "acc_score = knn_pipe.score(X_test, y_test)\n",
        "acc_score"
      ],
      "metadata": {
        "id": "fYnIamkukCtN",
        "outputId": "2f28d6ce-cbee-4a0d-856d-804890f9f5ee",
        "colab": {
          "base_uri": "https://localhost:8080/"
        }
      },
      "execution_count": 76,
      "outputs": [
        {
          "output_type": "execute_result",
          "data": {
            "text/plain": [
              "0.5068101090715609"
            ]
          },
          "metadata": {},
          "execution_count": 76
        }
      ]
    },
    {
      "cell_type": "code",
      "source": [
        "df_2 = df[['Wingspan', 'Draft pick']]\n",
        "df_2.head()"
      ],
      "metadata": {
        "colab": {
          "base_uri": "https://localhost:8080/",
          "height": 206
        },
        "id": "GCjjyC45tObd",
        "outputId": "e3b80457-14d7-4eb8-d604-44c995ab6404"
      },
      "execution_count": 77,
      "outputs": [
        {
          "output_type": "execute_result",
          "data": {
            "text/plain": [
              "   Wingspan  Draft pick\n",
              "0        82         NaN\n",
              "1        85        51.0\n",
              "2        84        25.0\n",
              "3        81         6.0\n",
              "4        87         NaN"
            ],
            "text/html": [
              "\n",
              "  <div id=\"df-cbe1cc07-f10b-47d7-8f2e-00399cedd24f\">\n",
              "    <div class=\"colab-df-container\">\n",
              "      <div>\n",
              "<style scoped>\n",
              "    .dataframe tbody tr th:only-of-type {\n",
              "        vertical-align: middle;\n",
              "    }\n",
              "\n",
              "    .dataframe tbody tr th {\n",
              "        vertical-align: top;\n",
              "    }\n",
              "\n",
              "    .dataframe thead th {\n",
              "        text-align: right;\n",
              "    }\n",
              "</style>\n",
              "<table border=\"1\" class=\"dataframe\">\n",
              "  <thead>\n",
              "    <tr style=\"text-align: right;\">\n",
              "      <th></th>\n",
              "      <th>Wingspan</th>\n",
              "      <th>Draft pick</th>\n",
              "    </tr>\n",
              "  </thead>\n",
              "  <tbody>\n",
              "    <tr>\n",
              "      <th>0</th>\n",
              "      <td>82</td>\n",
              "      <td>NaN</td>\n",
              "    </tr>\n",
              "    <tr>\n",
              "      <th>1</th>\n",
              "      <td>85</td>\n",
              "      <td>51.0</td>\n",
              "    </tr>\n",
              "    <tr>\n",
              "      <th>2</th>\n",
              "      <td>84</td>\n",
              "      <td>25.0</td>\n",
              "    </tr>\n",
              "    <tr>\n",
              "      <th>3</th>\n",
              "      <td>81</td>\n",
              "      <td>6.0</td>\n",
              "    </tr>\n",
              "    <tr>\n",
              "      <th>4</th>\n",
              "      <td>87</td>\n",
              "      <td>NaN</td>\n",
              "    </tr>\n",
              "  </tbody>\n",
              "</table>\n",
              "</div>\n",
              "      <button class=\"colab-df-convert\" onclick=\"convertToInteractive('df-cbe1cc07-f10b-47d7-8f2e-00399cedd24f')\"\n",
              "              title=\"Convert this dataframe to an interactive table.\"\n",
              "              style=\"display:none;\">\n",
              "        \n",
              "  <svg xmlns=\"http://www.w3.org/2000/svg\" height=\"24px\"viewBox=\"0 0 24 24\"\n",
              "       width=\"24px\">\n",
              "    <path d=\"M0 0h24v24H0V0z\" fill=\"none\"/>\n",
              "    <path d=\"M18.56 5.44l.94 2.06.94-2.06 2.06-.94-2.06-.94-.94-2.06-.94 2.06-2.06.94zm-11 1L8.5 8.5l.94-2.06 2.06-.94-2.06-.94L8.5 2.5l-.94 2.06-2.06.94zm10 10l.94 2.06.94-2.06 2.06-.94-2.06-.94-.94-2.06-.94 2.06-2.06.94z\"/><path d=\"M17.41 7.96l-1.37-1.37c-.4-.4-.92-.59-1.43-.59-.52 0-1.04.2-1.43.59L10.3 9.45l-7.72 7.72c-.78.78-.78 2.05 0 2.83L4 21.41c.39.39.9.59 1.41.59.51 0 1.02-.2 1.41-.59l7.78-7.78 2.81-2.81c.8-.78.8-2.07 0-2.86zM5.41 20L4 18.59l7.72-7.72 1.47 1.35L5.41 20z\"/>\n",
              "  </svg>\n",
              "      </button>\n",
              "      \n",
              "  <style>\n",
              "    .colab-df-container {\n",
              "      display:flex;\n",
              "      flex-wrap:wrap;\n",
              "      gap: 12px;\n",
              "    }\n",
              "\n",
              "    .colab-df-convert {\n",
              "      background-color: #E8F0FE;\n",
              "      border: none;\n",
              "      border-radius: 50%;\n",
              "      cursor: pointer;\n",
              "      display: none;\n",
              "      fill: #1967D2;\n",
              "      height: 32px;\n",
              "      padding: 0 0 0 0;\n",
              "      width: 32px;\n",
              "    }\n",
              "\n",
              "    .colab-df-convert:hover {\n",
              "      background-color: #E2EBFA;\n",
              "      box-shadow: 0px 1px 2px rgba(60, 64, 67, 0.3), 0px 1px 3px 1px rgba(60, 64, 67, 0.15);\n",
              "      fill: #174EA6;\n",
              "    }\n",
              "\n",
              "    [theme=dark] .colab-df-convert {\n",
              "      background-color: #3B4455;\n",
              "      fill: #D2E3FC;\n",
              "    }\n",
              "\n",
              "    [theme=dark] .colab-df-convert:hover {\n",
              "      background-color: #434B5C;\n",
              "      box-shadow: 0px 1px 3px 1px rgba(0, 0, 0, 0.15);\n",
              "      filter: drop-shadow(0px 1px 2px rgba(0, 0, 0, 0.3));\n",
              "      fill: #FFFFFF;\n",
              "    }\n",
              "  </style>\n",
              "\n",
              "      <script>\n",
              "        const buttonEl =\n",
              "          document.querySelector('#df-cbe1cc07-f10b-47d7-8f2e-00399cedd24f button.colab-df-convert');\n",
              "        buttonEl.style.display =\n",
              "          google.colab.kernel.accessAllowed ? 'block' : 'none';\n",
              "\n",
              "        async function convertToInteractive(key) {\n",
              "          const element = document.querySelector('#df-cbe1cc07-f10b-47d7-8f2e-00399cedd24f');\n",
              "          const dataTable =\n",
              "            await google.colab.kernel.invokeFunction('convertToInteractive',\n",
              "                                                     [key], {});\n",
              "          if (!dataTable) return;\n",
              "\n",
              "          const docLinkHtml = 'Like what you see? Visit the ' +\n",
              "            '<a target=\"_blank\" href=https://colab.research.google.com/notebooks/data_table.ipynb>data table notebook</a>'\n",
              "            + ' to learn more about interactive tables.';\n",
              "          element.innerHTML = '';\n",
              "          dataTable['output_type'] = 'display_data';\n",
              "          await google.colab.output.renderOutput(dataTable, element);\n",
              "          const docLink = document.createElement('div');\n",
              "          docLink.innerHTML = docLinkHtml;\n",
              "          element.appendChild(docLink);\n",
              "        }\n",
              "      </script>\n",
              "    </div>\n",
              "  </div>\n",
              "  "
            ]
          },
          "metadata": {},
          "execution_count": 77
        }
      ]
    },
    {
      "cell_type": "code",
      "source": [
        "scaler = StandardScaler()\n",
        "scaled_df2 = scaler.fit_transform(df_2)"
      ],
      "metadata": {
        "id": "0tieaMS7tgW0"
      },
      "execution_count": 78,
      "outputs": []
    },
    {
      "cell_type": "code",
      "source": [
        "plt.scatter(df['Draft pick'], df['Wingspan'])\n",
        "plt.xlabel('Draft pick')\n",
        "plt.ylabel('Wingspan');"
      ],
      "metadata": {
        "colab": {
          "base_uri": "https://localhost:8080/",
          "height": 279
        },
        "id": "Xy_QmsIttv1u",
        "outputId": "a692a8f2-0d0d-4c43-9328-7b15bff2c1e6"
      },
      "execution_count": 79,
      "outputs": [
        {
          "output_type": "display_data",
          "data": {
            "text/plain": [
              "<Figure size 432x288 with 1 Axes>"
            ],
            "image/png": "[encoded data removed]"
          },
          "metadata": {
            "needs_background": "light"
          }
        }
      ]
    },
    {
      "cell_type": "code",
      "source": [
        "pca = PCA(n_components=.95)"
      ],
      "metadata": {
        "id": "TIjg50WU_H3V"
      },
      "execution_count": 80,
      "outputs": []
    },
    {
      "cell_type": "code",
      "source": [
        "PCA_pipe = make_pipeline(scaler, pca)\n",
        "PCA_pipe"
      ],
      "metadata": {
        "colab": {
          "base_uri": "https://localhost:8080/",
          "height": 126
        },
        "id": "u2JNNQ-9BL7p",
        "outputId": "446e736d-d3bb-4fbe-a06e-780d0c091535"
      },
      "execution_count": 81,
      "outputs": [
        {
          "output_type": "execute_result",
          "data": {
            "text/plain": [
              "Pipeline(steps=[('standardscaler', StandardScaler()),\n",
              "                ('pca', PCA(n_components=0.95))])"
            ],
            "text/html": [
              "<style>#sk-6e76825b-84ba-477f-9f15-9ea3ec791a07 {color: black;background-color: white;}#sk-6e76825b-84ba-477f-9f15-9ea3ec791a07 pre{padding: 0;}#sk-6e76825b-84ba-477f-9f15-9ea3ec791a07 div.sk-toggleable {background-color: white;}#sk-6e76825b-84ba-477f-9f15-9ea3ec791a07 label.sk-toggleable__label {cursor: pointer;display: block;width: 100%;margin-bottom: 0;padding: 0.3em;box-sizing: border-box;text-align: center;}#sk-6e76825b-84ba-477f-9f15-9ea3ec791a07 label.sk-toggleable__label-arrow:before {content: \"▸\";float: left;margin-right: 0.25em;color: #696969;}#sk-6e76825b-84ba-477f-9f15-9ea3ec791a07 label.sk-toggleable__label-arrow:hover:before {color: black;}#sk-6e76825b-84ba-477f-9f15-9ea3ec791a07 div.sk-estimator:hover label.sk-toggleable__label-arrow:before {color: black;}#sk-6e76825b-84ba-477f-9f15-9ea3ec791a07 div.sk-toggleable__content {max-height: 0;max-width: 0;overflow: hidden;text-align: left;background-color: #f0f8ff;}#sk-6e76825b-84ba-477f-9f15-9ea3ec791a07 div.sk-toggleable__content pre {margin: 0.2em;color: black;border-radius: 0.25em;background-color: #f0f8ff;}#sk-6e76825b-84ba-477f-9f15-9ea3ec791a07 input.sk-toggleable__control:checked~div.sk-toggleable__content {max-height: 200px;max-width: 100%;overflow: auto;}#sk-6e76825b-84ba-477f-9f15-9ea3ec791a07 input.sk-toggleable__control:checked~label.sk-toggleable__label-arrow:before {content: \"▾\";}#sk-6e76825b-84ba-477f-9f15-9ea3ec791a07 div.sk-estimator input.sk-toggleable__control:checked~label.sk-toggleable__label {background-color: #d4ebff;}#sk-6e76825b-84ba-477f-9f15-9ea3ec791a07 div.sk-label input.sk-toggleable__control:checked~label.sk-toggleable__label {background-color: #d4ebff;}#sk-6e76825b-84ba-477f-9f15-9ea3ec791a07 input.sk-hidden--visually {border: 0;clip: rect(1px 1px 1px 1px);clip: rect(1px, 1px, 1px, 1px);height: 1px;margin: -1px;overflow: hidden;padding: 0;position: absolute;width: 1px;}#sk-6e76825b-84ba-477f-9f15-9ea3ec791a07 div.sk-estimator {font-family: monospace;background-color: #f0f8ff;border: 1px dotted black;border-radius: 0.25em;box-sizing: border-box;margin-bottom: 0.5em;}#sk-6e76825b-84ba-477f-9f15-9ea3ec791a07 div.sk-estimator:hover {background-color: #d4ebff;}#sk-6e76825b-84ba-477f-9f15-9ea3ec791a07 div.sk-parallel-item::after {content: \"\";width: 100%;border-bottom: 1px solid gray;flex-grow: 1;}#sk-6e76825b-84ba-477f-9f15-9ea3ec791a07 div.sk-label:hover label.sk-toggleable__label {background-color: #d4ebff;}#sk-6e76825b-84ba-477f-9f15-9ea3ec791a07 div.sk-serial::before {content: \"\";position: absolute;border-left: 1px solid gray;box-sizing: border-box;top: 2em;bottom: 0;left: 50%;}#sk-6e76825b-84ba-477f-9f15-9ea3ec791a07 div.sk-serial {display: flex;flex-direction: column;align-items: center;background-color: white;padding-right: 0.2em;padding-left: 0.2em;}#sk-6e76825b-84ba-477f-9f15-9ea3ec791a07 div.sk-item {z-index: 1;}#sk-6e76825b-84ba-477f-9f15-9ea3ec791a07 div.sk-parallel {display: flex;align-items: stretch;justify-content: center;background-color: white;}#sk-6e76825b-84ba-477f-9f15-9ea3ec791a07 div.sk-parallel::before {content: \"\";position: absolute;border-left: 1px solid gray;box-sizing: border-box;top: 2em;bottom: 0;left: 50%;}#sk-6e76825b-84ba-477f-9f15-9ea3ec791a07 div.sk-parallel-item {display: flex;flex-direction: column;position: relative;background-color: white;}#sk-6e76825b-84ba-477f-9f15-9ea3ec791a07 div.sk-parallel-item:first-child::after {align-self: flex-end;width: 50%;}#sk-6e76825b-84ba-477f-9f15-9ea3ec791a07 div.sk-parallel-item:last-child::after {align-self: flex-start;width: 50%;}#sk-6e76825b-84ba-477f-9f15-9ea3ec791a07 div.sk-parallel-item:only-child::after {width: 0;}#sk-6e76825b-84ba-477f-9f15-9ea3ec791a07 div.sk-dashed-wrapped {border: 1px dashed gray;margin: 0 0.4em 0.5em 0.4em;box-sizing: border-box;padding-bottom: 0.4em;background-color: white;position: relative;}#sk-6e76825b-84ba-477f-9f15-9ea3ec791a07 div.sk-label label {font-family: monospace;font-weight: bold;background-color: white;display: inline-block;line-height: 1.2em;}#sk-6e76825b-84ba-477f-9f15-9ea3ec791a07 div.sk-label-container {position: relative;z-index: 2;text-align: center;}#sk-6e76825b-84ba-477f-9f15-9ea3ec791a07 div.sk-container {/* jupyter's `normalize.less` sets `[hidden] { display: none; }` but bootstrap.min.css set `[hidden] { display: none !important; }` so we also need the `!important` here to be able to override the default hidden behavior on the sphinx rendered scikit-learn.org. See: https://github.com/scikit-learn/scikit-learn/issues/21755 */display: inline-block !important;position: relative;}#sk-6e76825b-84ba-477f-9f15-9ea3ec791a07 div.sk-text-repr-fallback {display: none;}</style><div id=\"sk-6e76825b-84ba-477f-9f15-9ea3ec791a07\" class=\"sk-top-container\"><div class=\"sk-text-repr-fallback\"><pre>Pipeline(steps=[(&#x27;standardscaler&#x27;, StandardScaler()),\n",
              "                (&#x27;pca&#x27;, PCA(n_components=0.95))])</pre><b>Please rerun this cell to show the HTML repr or trust the notebook.</b></div><div class=\"sk-container\" hidden><div class=\"sk-item sk-dashed-wrapped\"><div class=\"sk-label-container\"><div class=\"sk-label sk-toggleable\"><input class=\"sk-toggleable__control sk-hidden--visually\" id=\"2441c491-c5e9-4fb5-9f12-12ad59046570\" type=\"checkbox\" ><label for=\"2441c491-c5e9-4fb5-9f12-12ad59046570\" class=\"sk-toggleable__label sk-toggleable__label-arrow\">Pipeline</label><div class=\"sk-toggleable__content\"><pre>Pipeline(steps=[(&#x27;standardscaler&#x27;, StandardScaler()),\n",
              "                (&#x27;pca&#x27;, PCA(n_components=0.95))])</pre></div></div></div><div class=\"sk-serial\"><div class=\"sk-item\"><div class=\"sk-estimator sk-toggleable\"><input class=\"sk-toggleable__control sk-hidden--visually\" id=\"186be539-3c0c-4a44-b745-e249b2119492\" type=\"checkbox\" ><label for=\"186be539-3c0c-4a44-b745-e249b2119492\" class=\"sk-toggleable__label sk-toggleable__label-arrow\">StandardScaler</label><div class=\"sk-toggleable__content\"><pre>StandardScaler()</pre></div></div></div><div class=\"sk-item\"><div class=\"sk-estimator sk-toggleable\"><input class=\"sk-toggleable__control sk-hidden--visually\" id=\"a5cc0722-b894-4f72-a1c7-292089b8990d\" type=\"checkbox\" ><label for=\"a5cc0722-b894-4f72-a1c7-292089b8990d\" class=\"sk-toggleable__label sk-toggleable__label-arrow\">PCA</label><div class=\"sk-toggleable__content\"><pre>PCA(n_components=0.95)</pre></div></div></div></div></div></div></div>"
            ]
          },
          "metadata": {},
          "execution_count": 81
        }
      ]
    },
    {
      "cell_type": "code",
      "source": [
        "knn = KNeighborsRegressor(n_neighbors=1)"
      ],
      "metadata": {
        "id": "gGe6sX5mBNiA"
      },
      "execution_count": 82,
      "outputs": []
    },
    {
      "cell_type": "code",
      "source": [
        "knn_pca_pipe = make_pipeline(preprocessor, pca, knn)\n",
        "knn_pca_pipe.fit(X_train, y_train)"
      ],
      "metadata": {
        "colab": {
          "base_uri": "https://localhost:8080/",
          "height": 262
        },
        "id": "gKTwW1yABaYR",
        "outputId": "1fa6b968-df54-4433-d1fc-de18e1ec7e3b"
      },
      "execution_count": 83,
      "outputs": [
        {
          "output_type": "execute_result",
          "data": {
            "text/plain": [
              "Pipeline(steps=[('columntransformer',\n",
              "                 ColumnTransformer(transformers=[('pipeline-1',\n",
              "                                                  Pipeline(steps=[('simpleimputer',\n",
              "                                                                   SimpleImputer()),\n",
              "                                                                  ('standardscaler',\n",
              "                                                                   StandardScaler())]),\n",
              "                                                  <sklearn.compose._column_transformer.make_column_selector object at 0x7fac463ee090>),\n",
              "                                                 ('pipeline-2',\n",
              "                                                  Pipeline(steps=[('simpleimputer',\n",
              "                                                                   SimpleImputer(fill_value='missing',\n",
              "                                                                                 strategy='constant')),\n",
              "                                                                  ('onehotencoder',\n",
              "                                                                   OneHotEncoder(handle_unknown='ignore',\n",
              "                                                                                 sparse=False))]),\n",
              "                                                  <sklearn.compose._column_transformer.make_column_selector object at 0x7fac463eee10>)])),\n",
              "                ('pca', PCA(n_components=0.95)),\n",
              "                ('kneighborsregressor', KNeighborsRegressor(n_neighbors=1))])"
            ],
            "text/html": [
              "<style>#sk-14a8d757-d3cb-4af3-b151-b9ec08992e3b {color: black;background-color: white;}#sk-14a8d757-d3cb-4af3-b151-b9ec08992e3b pre{padding: 0;}#sk-14a8d757-d3cb-4af3-b151-b9ec08992e3b div.sk-toggleable {background-color: white;}#sk-14a8d757-d3cb-4af3-b151-b9ec08992e3b label.sk-toggleable__label {cursor: pointer;display: block;width: 100%;margin-bottom: 0;padding: 0.3em;box-sizing: border-box;text-align: center;}#sk-14a8d757-d3cb-4af3-b151-b9ec08992e3b label.sk-toggleable__label-arrow:before {content: \"▸\";float: left;margin-right: 0.25em;color: #696969;}#sk-14a8d757-d3cb-4af3-b151-b9ec08992e3b label.sk-toggleable__label-arrow:hover:before {color: black;}#sk-14a8d757-d3cb-4af3-b151-b9ec08992e3b div.sk-estimator:hover label.sk-toggleable__label-arrow:before {color: black;}#sk-14a8d757-d3cb-4af3-b151-b9ec08992e3b div.sk-toggleable__content {max-height: 0;max-width: 0;overflow: hidden;text-align: left;background-color: #f0f8ff;}#sk-14a8d757-d3cb-4af3-b151-b9ec08992e3b div.sk-toggleable__content pre {margin: 0.2em;color: black;border-radius: 0.25em;background-color: #f0f8ff;}#sk-14a8d757-d3cb-4af3-b151-b9ec08992e3b input.sk-toggleable__control:checked~div.sk-toggleable__content {max-height: 200px;max-width: 100%;overflow: auto;}#sk-14a8d757-d3cb-4af3-b151-b9ec08992e3b input.sk-toggleable__control:checked~label.sk-toggleable__label-arrow:before {content: \"▾\";}#sk-14a8d757-d3cb-4af3-b151-b9ec08992e3b div.sk-estimator input.sk-toggleable__control:checked~label.sk-toggleable__label {background-color: #d4ebff;}#sk-14a8d757-d3cb-4af3-b151-b9ec08992e3b div.sk-label input.sk-toggleable__control:checked~label.sk-toggleable__label {background-color: #d4ebff;}#sk-14a8d757-d3cb-4af3-b151-b9ec08992e3b input.sk-hidden--visually {border: 0;clip: rect(1px 1px 1px 1px);clip: rect(1px, 1px, 1px, 1px);height: 1px;margin: -1px;overflow: hidden;padding: 0;position: absolute;width: 1px;}#sk-14a8d757-d3cb-4af3-b151-b9ec08992e3b div.sk-estimator {font-family: monospace;background-color: #f0f8ff;border: 1px dotted black;border-radius: 0.25em;box-sizing: border-box;margin-bottom: 0.5em;}#sk-14a8d757-d3cb-4af3-b151-b9ec08992e3b div.sk-estimator:hover {background-color: #d4ebff;}#sk-14a8d757-d3cb-4af3-b151-b9ec08992e3b div.sk-parallel-item::after {content: \"\";width: 100%;border-bottom: 1px solid gray;flex-grow: 1;}#sk-14a8d757-d3cb-4af3-b151-b9ec08992e3b div.sk-label:hover label.sk-toggleable__label {background-color: #d4ebff;}#sk-14a8d757-d3cb-4af3-b151-b9ec08992e3b div.sk-serial::before {content: \"\";position: absolute;border-left: 1px solid gray;box-sizing: border-box;top: 2em;bottom: 0;left: 50%;}#sk-14a8d757-d3cb-4af3-b151-b9ec08992e3b div.sk-serial {display: flex;flex-direction: column;align-items: center;background-color: white;padding-right: 0.2em;padding-left: 0.2em;}#sk-14a8d757-d3cb-4af3-b151-b9ec08992e3b div.sk-item {z-index: 1;}#sk-14a8d757-d3cb-4af3-b151-b9ec08992e3b div.sk-parallel {display: flex;align-items: stretch;justify-content: center;background-color: white;}#sk-14a8d757-d3cb-4af3-b151-b9ec08992e3b div.sk-parallel::before {content: \"\";position: absolute;border-left: 1px solid gray;box-sizing: border-box;top: 2em;bottom: 0;left: 50%;}#sk-14a8d757-d3cb-4af3-b151-b9ec08992e3b div.sk-parallel-item {display: flex;flex-direction: column;position: relative;background-color: white;}#sk-14a8d757-d3cb-4af3-b151-b9ec08992e3b div.sk-parallel-item:first-child::after {align-self: flex-end;width: 50%;}#sk-14a8d757-d3cb-4af3-b151-b9ec08992e3b div.sk-parallel-item:last-child::after {align-self: flex-start;width: 50%;}#sk-14a8d757-d3cb-4af3-b151-b9ec08992e3b div.sk-parallel-item:only-child::after {width: 0;}#sk-14a8d757-d3cb-4af3-b151-b9ec08992e3b div.sk-dashed-wrapped {border: 1px dashed gray;margin: 0 0.4em 0.5em 0.4em;box-sizing: border-box;padding-bottom: 0.4em;background-color: white;position: relative;}#sk-14a8d757-d3cb-4af3-b151-b9ec08992e3b div.sk-label label {font-family: monospace;font-weight: bold;background-color: white;display: inline-block;line-height: 1.2em;}#sk-14a8d757-d3cb-4af3-b151-b9ec08992e3b div.sk-label-container {position: relative;z-index: 2;text-align: center;}#sk-14a8d757-d3cb-4af3-b151-b9ec08992e3b div.sk-container {/* jupyter's `normalize.less` sets `[hidden] { display: none; }` but bootstrap.min.css set `[hidden] { display: none !important; }` so we also need the `!important` here to be able to override the default hidden behavior on the sphinx rendered scikit-learn.org. See: https://github.com/scikit-learn/scikit-learn/issues/21755 */display: inline-block !important;position: relative;}#sk-14a8d757-d3cb-4af3-b151-b9ec08992e3b div.sk-text-repr-fallback {display: none;}</style><div id=\"sk-14a8d757-d3cb-4af3-b151-b9ec08992e3b\" class=\"sk-top-container\"><div class=\"sk-text-repr-fallback\"><pre>Pipeline(steps=[(&#x27;columntransformer&#x27;,\n",
              "                 ColumnTransformer(transformers=[(&#x27;pipeline-1&#x27;,\n",
              "                                                  Pipeline(steps=[(&#x27;simpleimputer&#x27;,\n",
              "                                                                   SimpleImputer()),\n",
              "                                                                  (&#x27;standardscaler&#x27;,\n",
              "                                                                   StandardScaler())]),\n",
              "                                                  &lt;sklearn.compose._column_transformer.make_column_selector object at 0x7fac463ee090&gt;),\n",
              "                                                 (&#x27;pipeline-2&#x27;,\n",
              "                                                  Pipeline(steps=[(&#x27;simpleimputer&#x27;,\n",
              "                                                                   SimpleImputer(fill_value=&#x27;missing&#x27;,\n",
              "                                                                                 strategy=&#x27;constant&#x27;)),\n",
              "                                                                  (&#x27;onehotencoder&#x27;,\n",
              "                                                                   OneHotEncoder(handle_unknown=&#x27;ignore&#x27;,\n",
              "                                                                                 sparse=False))]),\n",
              "                                                  &lt;sklearn.compose._column_transformer.make_column_selector object at 0x7fac463eee10&gt;)])),\n",
              "                (&#x27;pca&#x27;, PCA(n_components=0.95)),\n",
              "                (&#x27;kneighborsregressor&#x27;, KNeighborsRegressor(n_neighbors=1))])</pre><b>Please rerun this cell to show the HTML repr or trust the notebook.</b></div><div class=\"sk-container\" hidden><div class=\"sk-item sk-dashed-wrapped\"><div class=\"sk-label-container\"><div class=\"sk-label sk-toggleable\"><input class=\"sk-toggleable__control sk-hidden--visually\" id=\"4803b052-336e-4479-8d94-b70ecd7be3ab\" type=\"checkbox\" ><label for=\"4803b052-336e-4479-8d94-b70ecd7be3ab\" class=\"sk-toggleable__label sk-toggleable__label-arrow\">Pipeline</label><div class=\"sk-toggleable__content\"><pre>Pipeline(steps=[(&#x27;columntransformer&#x27;,\n",
              "                 ColumnTransformer(transformers=[(&#x27;pipeline-1&#x27;,\n",
              "                                                  Pipeline(steps=[(&#x27;simpleimputer&#x27;,\n",
              "                                                                   SimpleImputer()),\n",
              "                                                                  (&#x27;standardscaler&#x27;,\n",
              "                                                                   StandardScaler())]),\n",
              "                                                  &lt;sklearn.compose._column_transformer.make_column_selector object at 0x7fac463ee090&gt;),\n",
              "                                                 (&#x27;pipeline-2&#x27;,\n",
              "                                                  Pipeline(steps=[(&#x27;simpleimputer&#x27;,\n",
              "                                                                   SimpleImputer(fill_value=&#x27;missing&#x27;,\n",
              "                                                                                 strategy=&#x27;constant&#x27;)),\n",
              "                                                                  (&#x27;onehotencoder&#x27;,\n",
              "                                                                   OneHotEncoder(handle_unknown=&#x27;ignore&#x27;,\n",
              "                                                                                 sparse=False))]),\n",
              "                                                  &lt;sklearn.compose._column_transformer.make_column_selector object at 0x7fac463eee10&gt;)])),\n",
              "                (&#x27;pca&#x27;, PCA(n_components=0.95)),\n",
              "                (&#x27;kneighborsregressor&#x27;, KNeighborsRegressor(n_neighbors=1))])</pre></div></div></div><div class=\"sk-serial\"><div class=\"sk-item sk-dashed-wrapped\"><div class=\"sk-label-container\"><div class=\"sk-label sk-toggleable\"><input class=\"sk-toggleable__control sk-hidden--visually\" id=\"743de5ed-1d92-4d76-ac80-eec4d6636f52\" type=\"checkbox\" ><label for=\"743de5ed-1d92-4d76-ac80-eec4d6636f52\" class=\"sk-toggleable__label sk-toggleable__label-arrow\">columntransformer: ColumnTransformer</label><div class=\"sk-toggleable__content\"><pre>ColumnTransformer(transformers=[(&#x27;pipeline-1&#x27;,\n",
              "                                 Pipeline(steps=[(&#x27;simpleimputer&#x27;,\n",
              "                                                  SimpleImputer()),\n",
              "                                                 (&#x27;standardscaler&#x27;,\n",
              "                                                  StandardScaler())]),\n",
              "                                 &lt;sklearn.compose._column_transformer.make_column_selector object at 0x7fac463ee090&gt;),\n",
              "                                (&#x27;pipeline-2&#x27;,\n",
              "                                 Pipeline(steps=[(&#x27;simpleimputer&#x27;,\n",
              "                                                  SimpleImputer(fill_value=&#x27;missing&#x27;,\n",
              "                                                                strategy=&#x27;constant&#x27;)),\n",
              "                                                 (&#x27;onehotencoder&#x27;,\n",
              "                                                  OneHotEncoder(handle_unknown=&#x27;ignore&#x27;,\n",
              "                                                                sparse=False))]),\n",
              "                                 &lt;sklearn.compose._column_transformer.make_column_selector object at 0x7fac463eee10&gt;)])</pre></div></div></div><div class=\"sk-parallel\"><div class=\"sk-parallel-item\"><div class=\"sk-item\"><div class=\"sk-label-container\"><div class=\"sk-label sk-toggleable\"><input class=\"sk-toggleable__control sk-hidden--visually\" id=\"01d0e174-be20-4384-bd76-10b4cae6f46b\" type=\"checkbox\" ><label for=\"01d0e174-be20-4384-bd76-10b4cae6f46b\" class=\"sk-toggleable__label sk-toggleable__label-arrow\">pipeline-1</label><div class=\"sk-toggleable__content\"><pre>&lt;sklearn.compose._column_transformer.make_column_selector object at 0x7fac463ee090&gt;</pre></div></div></div><div class=\"sk-serial\"><div class=\"sk-item\"><div class=\"sk-serial\"><div class=\"sk-item\"><div class=\"sk-estimator sk-toggleable\"><input class=\"sk-toggleable__control sk-hidden--visually\" id=\"e01c00cb-0134-4798-b198-fff26b874835\" type=\"checkbox\" ><label for=\"e01c00cb-0134-4798-b198-fff26b874835\" class=\"sk-toggleable__label sk-toggleable__label-arrow\">SimpleImputer</label><div class=\"sk-toggleable__content\"><pre>SimpleImputer()</pre></div></div></div><div class=\"sk-item\"><div class=\"sk-estimator sk-toggleable\"><input class=\"sk-toggleable__control sk-hidden--visually\" id=\"29a39664-ab4a-4e5c-8086-1a0188ce9d75\" type=\"checkbox\" ><label for=\"29a39664-ab4a-4e5c-8086-1a0188ce9d75\" class=\"sk-toggleable__label sk-toggleable__label-arrow\">StandardScaler</label><div class=\"sk-toggleable__content\"><pre>StandardScaler()</pre></div></div></div></div></div></div></div></div><div class=\"sk-parallel-item\"><div class=\"sk-item\"><div class=\"sk-label-container\"><div class=\"sk-label sk-toggleable\"><input class=\"sk-toggleable__control sk-hidden--visually\" id=\"5312e271-382a-46a1-ad7a-7c7cfb956211\" type=\"checkbox\" ><label for=\"5312e271-382a-46a1-ad7a-7c7cfb956211\" class=\"sk-toggleable__label sk-toggleable__label-arrow\">pipeline-2</label><div class=\"sk-toggleable__content\"><pre>&lt;sklearn.compose._column_transformer.make_column_selector object at 0x7fac463eee10&gt;</pre></div></div></div><div class=\"sk-serial\"><div class=\"sk-item\"><div class=\"sk-serial\"><div class=\"sk-item\"><div class=\"sk-estimator sk-toggleable\"><input class=\"sk-toggleable__control sk-hidden--visually\" id=\"1abbcdd1-6840-427f-8f15-9360fdffb1fb\" type=\"checkbox\" ><label for=\"1abbcdd1-6840-427f-8f15-9360fdffb1fb\" class=\"sk-toggleable__label sk-toggleable__label-arrow\">SimpleImputer</label><div class=\"sk-toggleable__content\"><pre>SimpleImputer(fill_value=&#x27;missing&#x27;, strategy=&#x27;constant&#x27;)</pre></div></div></div><div class=\"sk-item\"><div class=\"sk-estimator sk-toggleable\"><input class=\"sk-toggleable__control sk-hidden--visually\" id=\"e4fa0037-10fa-4ccc-b623-4163f7834f1d\" type=\"checkbox\" ><label for=\"e4fa0037-10fa-4ccc-b623-4163f7834f1d\" class=\"sk-toggleable__label sk-toggleable__label-arrow\">OneHotEncoder</label><div class=\"sk-toggleable__content\"><pre>OneHotEncoder(handle_unknown=&#x27;ignore&#x27;, sparse=False)</pre></div></div></div></div></div></div></div></div></div></div><div class=\"sk-item\"><div class=\"sk-estimator sk-toggleable\"><input class=\"sk-toggleable__control sk-hidden--visually\" id=\"577e9eb5-6486-4168-96d7-df15a354cd85\" type=\"checkbox\" ><label for=\"577e9eb5-6486-4168-96d7-df15a354cd85\" class=\"sk-toggleable__label sk-toggleable__label-arrow\">PCA</label><div class=\"sk-toggleable__content\"><pre>PCA(n_components=0.95)</pre></div></div></div><div class=\"sk-item\"><div class=\"sk-estimator sk-toggleable\"><input class=\"sk-toggleable__control sk-hidden--visually\" id=\"3bceb3f2-b214-419c-85fa-b650aea8fd75\" type=\"checkbox\" ><label for=\"3bceb3f2-b214-419c-85fa-b650aea8fd75\" class=\"sk-toggleable__label sk-toggleable__label-arrow\">KNeighborsRegressor</label><div class=\"sk-toggleable__content\"><pre>KNeighborsRegressor(n_neighbors=1)</pre></div></div></div></div></div></div></div>"
            ]
          },
          "metadata": {},
          "execution_count": 83
        }
      ]
    },
    {
      "cell_type": "code",
      "source": [
        "predictions_2 = knn_pca_pipe.predict(X_test)\n",
        "predictions_2"
      ],
      "metadata": {
        "id": "NTutnnmBFiXv",
        "outputId": "05197ae9-a6bf-4024-ee64-0f7c8447d1fd",
        "colab": {
          "base_uri": "https://localhost:8080/"
        }
      },
      "execution_count": 84,
      "outputs": [
        {
          "output_type": "execute_result",
          "data": {
            "text/plain": [
              "array([80., 79., 88., 80., 78., 88., 74., 82., 82., 88., 78., 82., 86.,\n",
              "       83., 82., 88.])"
            ]
          },
          "metadata": {},
          "execution_count": 84
        }
      ]
    },
    {
      "cell_type": "code",
      "source": [
        "acc_score_2 = knn_pca_pipe.score(X_test, y_test)\n",
        "acc_score_2"
      ],
      "metadata": {
        "id": "QTIRHg2WFvxE",
        "outputId": "7aa27828-b2cc-4247-bca0-7e4f381e0108",
        "colab": {
          "base_uri": "https://localhost:8080/"
        }
      },
      "execution_count": 85,
      "outputs": [
        {
          "output_type": "execute_result",
          "data": {
            "text/plain": [
              "0.24660814046288904"
            ]
          },
          "metadata": {},
          "execution_count": 85
        }
      ]
    }
  ]
}