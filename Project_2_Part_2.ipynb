{
  "nbformat": 4,
  "nbformat_minor": 0,
  "metadata": {
    "colab": {
      "name": "Project 2 - Part 2",
      "provenance": [],
      "authorship_tag": "ABX9TyO3P/a7BwX2jgfnRb716B7e",
      "include_colab_link": true
    },
    "kernelspec": {
      "name": "python3",
      "display_name": "Python 3"
    },
    "language_info": {
      "name": "python"
    }
  },
  "cells": [
    {
      "cell_type": "markdown",
      "metadata": {
        "id": "view-in-github",
        "colab_type": "text"
      },
      "source": [
        "<a href=\"https://colab.research.google.com/github/JDonahue44/Project-2---NBA-2016-Draft/blob/main/Project_2_Part_2.ipynb\" target=\"_parent\"><img src=\"https://colab.research.google.com/assets/colab-badge.svg\" alt=\"Open In Colab\"/></a>"
      ]
    },
    {
      "cell_type": "code",
      "source": [
        "from sklearn.model_selection import train_test_split\n",
        "import pandas as pd\n",
        "from sklearn.compose import make_column_transformer, make_column_selector\n",
        "from sklearn.impute import SimpleImputer\n",
        "from sklearn import set_config\n",
        "set_config(display='diagram')\n",
        "import seaborn as sns\n",
        "import matplotlib.pyplot as plt"
      ],
      "metadata": {
        "id": "xpAfgFyNQVs3"
      },
      "execution_count": 99,
      "outputs": []
    },
    {
      "cell_type": "code",
      "execution_count": 70,
      "metadata": {
        "id": "IJFBd17LNrIg"
      },
      "outputs": [],
      "source": [
        "filename = '/content/2016_nba_draft_combine.csv'"
      ]
    },
    {
      "cell_type": "code",
      "source": [
        "df = pd.read_csv(filename)\n",
        "df"
      ],
      "metadata": {
        "colab": {
          "base_uri": "https://localhost:8080/",
          "height": 661
        },
        "id": "JltJg-ION6XO",
        "outputId": "70cb8c80-429c-448b-a3c4-610dc59166c8"
      },
      "execution_count": 71,
      "outputs": [
        {
          "output_type": "execute_result",
          "data": {
            "text/plain": [
              "    Unnamed: 0          Player  Year  Draft pick  Height (No Shoes)  \\\n",
              "0            0    A.J. English  2016         NaN              74.00   \n",
              "1            1      Ben Bentil  2016        51.0              79.25   \n",
              "2            2   Brice Johnson  2016        25.0              81.00   \n",
              "3            3     Buddy Hield  2016         6.0              75.75   \n",
              "4            4  Caleb Swanigan  2016         NaN              79.50   \n",
              "..         ...             ...   ...         ...                ...   \n",
              "56          56   Troy Williams  2016         NaN              77.75   \n",
              "57          57      Tyler Ulis  2016        34.0              68.75   \n",
              "58          58    Wade Baldwin  2016        17.0              74.50   \n",
              "59          59    Wayne Selden  2016         NaN              76.25   \n",
              "60          60         Zhou Qi  2016        43.0              85.25   \n",
              "\n",
              "    Height (With Shoes)  Wingspan  Standing reach  Vertical (Max)  \\\n",
              "0                 75.00     82.00            98.5            35.5   \n",
              "1                 80.25     85.50           105.0            33.0   \n",
              "2                 82.50     84.50           106.5            38.0   \n",
              "3                 77.00     81.25           101.0             NaN   \n",
              "4                 80.50     87.50           107.0            29.0   \n",
              "..                  ...       ...             ...             ...   \n",
              "56                78.75     80.25           102.0            36.0   \n",
              "57                70.00     74.00            88.5            38.0   \n",
              "58                76.00     83.25           100.0            38.0   \n",
              "59                77.75     82.50           101.0             NaN   \n",
              "60                86.25     91.75           112.5            32.0   \n",
              "\n",
              "    Vertical (Max Reach)  Vertical (No Step)  Vertical (No Step Reach)  \\\n",
              "0                  134.0                29.5                     128.0   \n",
              "1                  138.0                29.0                     134.0   \n",
              "2                  144.5                33.5                     140.0   \n",
              "3                    NaN                 NaN                       NaN   \n",
              "4                  136.0                26.0                     133.0   \n",
              "..                   ...                 ...                       ...   \n",
              "56                 138.0                30.0                     132.0   \n",
              "57                 126.5                32.5                     121.0   \n",
              "58                 138.0                32.5                     132.5   \n",
              "59                   NaN                 NaN                       NaN   \n",
              "60                 144.5                31.5                     144.0   \n",
              "\n",
              "    Weight  Body Fat  Hand (Length)  Hand (Width)  Bench  Agility  Sprint  \n",
              "0    182.0       5.3           8.75          8.50    NaN    12.27    3.28  \n",
              "1    229.0       9.7           9.50         10.00    NaN    11.16    3.30  \n",
              "2    209.0       7.5           9.00          8.25    NaN    11.88    3.20  \n",
              "3    212.0       6.1           8.50          9.00    NaN      NaN     NaN  \n",
              "4    247.0      12.6           9.00         10.25    NaN    12.80     NaN  \n",
              "..     ...       ...            ...           ...    ...      ...     ...  \n",
              "56   218.0      10.0           8.25          9.25    NaN    10.72    3.35  \n",
              "57   149.0       5.2           7.50          7.50    NaN    10.80    3.20  \n",
              "58   202.0       5.2           9.00          9.75    NaN    10.45    3.19  \n",
              "59   232.0       7.3           9.00          9.25    NaN      NaN     NaN  \n",
              "60   218.0       4.9           9.25          9.50    NaN    11.27    3.46  \n",
              "\n",
              "[61 rows x 19 columns]"
            ],
            "text/html": [
              "\n",
              "  <div id=\"df-338e6689-3c7f-449b-9c09-dbab14a51de1\">\n",
              "    <div class=\"colab-df-container\">\n",
              "      <div>\n",
              "<style scoped>\n",
              "    .dataframe tbody tr th:only-of-type {\n",
              "        vertical-align: middle;\n",
              "    }\n",
              "\n",
              "    .dataframe tbody tr th {\n",
              "        vertical-align: top;\n",
              "    }\n",
              "\n",
              "    .dataframe thead th {\n",
              "        text-align: right;\n",
              "    }\n",
              "</style>\n",
              "<table border=\"1\" class=\"dataframe\">\n",
              "  <thead>\n",
              "    <tr style=\"text-align: right;\">\n",
              "      <th></th>\n",
              "      <th>Unnamed: 0</th>\n",
              "      <th>Player</th>\n",
              "      <th>Year</th>\n",
              "      <th>Draft pick</th>\n",
              "      <th>Height (No Shoes)</th>\n",
              "      <th>Height (With Shoes)</th>\n",
              "      <th>Wingspan</th>\n",
              "      <th>Standing reach</th>\n",
              "      <th>Vertical (Max)</th>\n",
              "      <th>Vertical (Max Reach)</th>\n",
              "      <th>Vertical (No Step)</th>\n",
              "      <th>Vertical (No Step Reach)</th>\n",
              "      <th>Weight</th>\n",
              "      <th>Body Fat</th>\n",
              "      <th>Hand (Length)</th>\n",
              "      <th>Hand (Width)</th>\n",
              "      <th>Bench</th>\n",
              "      <th>Agility</th>\n",
              "      <th>Sprint</th>\n",
              "    </tr>\n",
              "  </thead>\n",
              "  <tbody>\n",
              "    <tr>\n",
              "      <th>0</th>\n",
              "      <td>0</td>\n",
              "      <td>A.J. English</td>\n",
              "      <td>2016</td>\n",
              "      <td>NaN</td>\n",
              "      <td>74.00</td>\n",
              "      <td>75.00</td>\n",
              "      <td>82.00</td>\n",
              "      <td>98.5</td>\n",
              "      <td>35.5</td>\n",
              "      <td>134.0</td>\n",
              "      <td>29.5</td>\n",
              "      <td>128.0</td>\n",
              "      <td>182.0</td>\n",
              "      <td>5.3</td>\n",
              "      <td>8.75</td>\n",
              "      <td>8.50</td>\n",
              "      <td>NaN</td>\n",
              "      <td>12.27</td>\n",
              "      <td>3.28</td>\n",
              "    </tr>\n",
              "    <tr>\n",
              "      <th>1</th>\n",
              "      <td>1</td>\n",
              "      <td>Ben Bentil</td>\n",
              "      <td>2016</td>\n",
              "      <td>51.0</td>\n",
              "      <td>79.25</td>\n",
              "      <td>80.25</td>\n",
              "      <td>85.50</td>\n",
              "      <td>105.0</td>\n",
              "      <td>33.0</td>\n",
              "      <td>138.0</td>\n",
              "      <td>29.0</td>\n",
              "      <td>134.0</td>\n",
              "      <td>229.0</td>\n",
              "      <td>9.7</td>\n",
              "      <td>9.50</td>\n",
              "      <td>10.00</td>\n",
              "      <td>NaN</td>\n",
              "      <td>11.16</td>\n",
              "      <td>3.30</td>\n",
              "    </tr>\n",
              "    <tr>\n",
              "      <th>2</th>\n",
              "      <td>2</td>\n",
              "      <td>Brice Johnson</td>\n",
              "      <td>2016</td>\n",
              "      <td>25.0</td>\n",
              "      <td>81.00</td>\n",
              "      <td>82.50</td>\n",
              "      <td>84.50</td>\n",
              "      <td>106.5</td>\n",
              "      <td>38.0</td>\n",
              "      <td>144.5</td>\n",
              "      <td>33.5</td>\n",
              "      <td>140.0</td>\n",
              "      <td>209.0</td>\n",
              "      <td>7.5</td>\n",
              "      <td>9.00</td>\n",
              "      <td>8.25</td>\n",
              "      <td>NaN</td>\n",
              "      <td>11.88</td>\n",
              "      <td>3.20</td>\n",
              "    </tr>\n",
              "    <tr>\n",
              "      <th>3</th>\n",
              "      <td>3</td>\n",
              "      <td>Buddy Hield</td>\n",
              "      <td>2016</td>\n",
              "      <td>6.0</td>\n",
              "      <td>75.75</td>\n",
              "      <td>77.00</td>\n",
              "      <td>81.25</td>\n",
              "      <td>101.0</td>\n",
              "      <td>NaN</td>\n",
              "      <td>NaN</td>\n",
              "      <td>NaN</td>\n",
              "      <td>NaN</td>\n",
              "      <td>212.0</td>\n",
              "      <td>6.1</td>\n",
              "      <td>8.50</td>\n",
              "      <td>9.00</td>\n",
              "      <td>NaN</td>\n",
              "      <td>NaN</td>\n",
              "      <td>NaN</td>\n",
              "    </tr>\n",
              "    <tr>\n",
              "      <th>4</th>\n",
              "      <td>4</td>\n",
              "      <td>Caleb Swanigan</td>\n",
              "      <td>2016</td>\n",
              "      <td>NaN</td>\n",
              "      <td>79.50</td>\n",
              "      <td>80.50</td>\n",
              "      <td>87.50</td>\n",
              "      <td>107.0</td>\n",
              "      <td>29.0</td>\n",
              "      <td>136.0</td>\n",
              "      <td>26.0</td>\n",
              "      <td>133.0</td>\n",
              "      <td>247.0</td>\n",
              "      <td>12.6</td>\n",
              "      <td>9.00</td>\n",
              "      <td>10.25</td>\n",
              "      <td>NaN</td>\n",
              "      <td>12.80</td>\n",
              "      <td>NaN</td>\n",
              "    </tr>\n",
              "    <tr>\n",
              "      <th>...</th>\n",
              "      <td>...</td>\n",
              "      <td>...</td>\n",
              "      <td>...</td>\n",
              "      <td>...</td>\n",
              "      <td>...</td>\n",
              "      <td>...</td>\n",
              "      <td>...</td>\n",
              "      <td>...</td>\n",
              "      <td>...</td>\n",
              "      <td>...</td>\n",
              "      <td>...</td>\n",
              "      <td>...</td>\n",
              "      <td>...</td>\n",
              "      <td>...</td>\n",
              "      <td>...</td>\n",
              "      <td>...</td>\n",
              "      <td>...</td>\n",
              "      <td>...</td>\n",
              "      <td>...</td>\n",
              "    </tr>\n",
              "    <tr>\n",
              "      <th>56</th>\n",
              "      <td>56</td>\n",
              "      <td>Troy Williams</td>\n",
              "      <td>2016</td>\n",
              "      <td>NaN</td>\n",
              "      <td>77.75</td>\n",
              "      <td>78.75</td>\n",
              "      <td>80.25</td>\n",
              "      <td>102.0</td>\n",
              "      <td>36.0</td>\n",
              "      <td>138.0</td>\n",
              "      <td>30.0</td>\n",
              "      <td>132.0</td>\n",
              "      <td>218.0</td>\n",
              "      <td>10.0</td>\n",
              "      <td>8.25</td>\n",
              "      <td>9.25</td>\n",
              "      <td>NaN</td>\n",
              "      <td>10.72</td>\n",
              "      <td>3.35</td>\n",
              "    </tr>\n",
              "    <tr>\n",
              "      <th>57</th>\n",
              "      <td>57</td>\n",
              "      <td>Tyler Ulis</td>\n",
              "      <td>2016</td>\n",
              "      <td>34.0</td>\n",
              "      <td>68.75</td>\n",
              "      <td>70.00</td>\n",
              "      <td>74.00</td>\n",
              "      <td>88.5</td>\n",
              "      <td>38.0</td>\n",
              "      <td>126.5</td>\n",
              "      <td>32.5</td>\n",
              "      <td>121.0</td>\n",
              "      <td>149.0</td>\n",
              "      <td>5.2</td>\n",
              "      <td>7.50</td>\n",
              "      <td>7.50</td>\n",
              "      <td>NaN</td>\n",
              "      <td>10.80</td>\n",
              "      <td>3.20</td>\n",
              "    </tr>\n",
              "    <tr>\n",
              "      <th>58</th>\n",
              "      <td>58</td>\n",
              "      <td>Wade Baldwin</td>\n",
              "      <td>2016</td>\n",
              "      <td>17.0</td>\n",
              "      <td>74.50</td>\n",
              "      <td>76.00</td>\n",
              "      <td>83.25</td>\n",
              "      <td>100.0</td>\n",
              "      <td>38.0</td>\n",
              "      <td>138.0</td>\n",
              "      <td>32.5</td>\n",
              "      <td>132.5</td>\n",
              "      <td>202.0</td>\n",
              "      <td>5.2</td>\n",
              "      <td>9.00</td>\n",
              "      <td>9.75</td>\n",
              "      <td>NaN</td>\n",
              "      <td>10.45</td>\n",
              "      <td>3.19</td>\n",
              "    </tr>\n",
              "    <tr>\n",
              "      <th>59</th>\n",
              "      <td>59</td>\n",
              "      <td>Wayne Selden</td>\n",
              "      <td>2016</td>\n",
              "      <td>NaN</td>\n",
              "      <td>76.25</td>\n",
              "      <td>77.75</td>\n",
              "      <td>82.50</td>\n",
              "      <td>101.0</td>\n",
              "      <td>NaN</td>\n",
              "      <td>NaN</td>\n",
              "      <td>NaN</td>\n",
              "      <td>NaN</td>\n",
              "      <td>232.0</td>\n",
              "      <td>7.3</td>\n",
              "      <td>9.00</td>\n",
              "      <td>9.25</td>\n",
              "      <td>NaN</td>\n",
              "      <td>NaN</td>\n",
              "      <td>NaN</td>\n",
              "    </tr>\n",
              "    <tr>\n",
              "      <th>60</th>\n",
              "      <td>60</td>\n",
              "      <td>Zhou Qi</td>\n",
              "      <td>2016</td>\n",
              "      <td>43.0</td>\n",
              "      <td>85.25</td>\n",
              "      <td>86.25</td>\n",
              "      <td>91.75</td>\n",
              "      <td>112.5</td>\n",
              "      <td>32.0</td>\n",
              "      <td>144.5</td>\n",
              "      <td>31.5</td>\n",
              "      <td>144.0</td>\n",
              "      <td>218.0</td>\n",
              "      <td>4.9</td>\n",
              "      <td>9.25</td>\n",
              "      <td>9.50</td>\n",
              "      <td>NaN</td>\n",
              "      <td>11.27</td>\n",
              "      <td>3.46</td>\n",
              "    </tr>\n",
              "  </tbody>\n",
              "</table>\n",
              "<p>61 rows × 19 columns</p>\n",
              "</div>\n",
              "      <button class=\"colab-df-convert\" onclick=\"convertToInteractive('df-338e6689-3c7f-449b-9c09-dbab14a51de1')\"\n",
              "              title=\"Convert this dataframe to an interactive table.\"\n",
              "              style=\"display:none;\">\n",
              "        \n",
              "  <svg xmlns=\"http://www.w3.org/2000/svg\" height=\"24px\"viewBox=\"0 0 24 24\"\n",
              "       width=\"24px\">\n",
              "    <path d=\"M0 0h24v24H0V0z\" fill=\"none\"/>\n",
              "    <path d=\"M18.56 5.44l.94 2.06.94-2.06 2.06-.94-2.06-.94-.94-2.06-.94 2.06-2.06.94zm-11 1L8.5 8.5l.94-2.06 2.06-.94-2.06-.94L8.5 2.5l-.94 2.06-2.06.94zm10 10l.94 2.06.94-2.06 2.06-.94-2.06-.94-.94-2.06-.94 2.06-2.06.94z\"/><path d=\"M17.41 7.96l-1.37-1.37c-.4-.4-.92-.59-1.43-.59-.52 0-1.04.2-1.43.59L10.3 9.45l-7.72 7.72c-.78.78-.78 2.05 0 2.83L4 21.41c.39.39.9.59 1.41.59.51 0 1.02-.2 1.41-.59l7.78-7.78 2.81-2.81c.8-.78.8-2.07 0-2.86zM5.41 20L4 18.59l7.72-7.72 1.47 1.35L5.41 20z\"/>\n",
              "  </svg>\n",
              "      </button>\n",
              "      \n",
              "  <style>\n",
              "    .colab-df-container {\n",
              "      display:flex;\n",
              "      flex-wrap:wrap;\n",
              "      gap: 12px;\n",
              "    }\n",
              "\n",
              "    .colab-df-convert {\n",
              "      background-color: #E8F0FE;\n",
              "      border: none;\n",
              "      border-radius: 50%;\n",
              "      cursor: pointer;\n",
              "      display: none;\n",
              "      fill: #1967D2;\n",
              "      height: 32px;\n",
              "      padding: 0 0 0 0;\n",
              "      width: 32px;\n",
              "    }\n",
              "\n",
              "    .colab-df-convert:hover {\n",
              "      background-color: #E2EBFA;\n",
              "      box-shadow: 0px 1px 2px rgba(60, 64, 67, 0.3), 0px 1px 3px 1px rgba(60, 64, 67, 0.15);\n",
              "      fill: #174EA6;\n",
              "    }\n",
              "\n",
              "    [theme=dark] .colab-df-convert {\n",
              "      background-color: #3B4455;\n",
              "      fill: #D2E3FC;\n",
              "    }\n",
              "\n",
              "    [theme=dark] .colab-df-convert:hover {\n",
              "      background-color: #434B5C;\n",
              "      box-shadow: 0px 1px 3px 1px rgba(0, 0, 0, 0.15);\n",
              "      filter: drop-shadow(0px 1px 2px rgba(0, 0, 0, 0.3));\n",
              "      fill: #FFFFFF;\n",
              "    }\n",
              "  </style>\n",
              "\n",
              "      <script>\n",
              "        const buttonEl =\n",
              "          document.querySelector('#df-338e6689-3c7f-449b-9c09-dbab14a51de1 button.colab-df-convert');\n",
              "        buttonEl.style.display =\n",
              "          google.colab.kernel.accessAllowed ? 'block' : 'none';\n",
              "\n",
              "        async function convertToInteractive(key) {\n",
              "          const element = document.querySelector('#df-338e6689-3c7f-449b-9c09-dbab14a51de1');\n",
              "          const dataTable =\n",
              "            await google.colab.kernel.invokeFunction('convertToInteractive',\n",
              "                                                     [key], {});\n",
              "          if (!dataTable) return;\n",
              "\n",
              "          const docLinkHtml = 'Like what you see? Visit the ' +\n",
              "            '<a target=\"_blank\" href=https://colab.research.google.com/notebooks/data_table.ipynb>data table notebook</a>'\n",
              "            + ' to learn more about interactive tables.';\n",
              "          element.innerHTML = '';\n",
              "          dataTable['output_type'] = 'display_data';\n",
              "          await google.colab.output.renderOutput(dataTable, element);\n",
              "          const docLink = document.createElement('div');\n",
              "          docLink.innerHTML = docLinkHtml;\n",
              "          element.appendChild(docLink);\n",
              "        }\n",
              "      </script>\n",
              "    </div>\n",
              "  </div>\n",
              "  "
            ]
          },
          "metadata": {},
          "execution_count": 71
        }
      ]
    },
    {
      "cell_type": "code",
      "source": [
        "df.info()"
      ],
      "metadata": {
        "colab": {
          "base_uri": "https://localhost:8080/"
        },
        "id": "lI8vQta4OHN3",
        "outputId": "8d740c59-434e-484b-b8db-c637e66d9865"
      },
      "execution_count": 72,
      "outputs": [
        {
          "output_type": "stream",
          "name": "stdout",
          "text": [
            "<class 'pandas.core.frame.DataFrame'>\n",
            "RangeIndex: 61 entries, 0 to 60\n",
            "Data columns (total 19 columns):\n",
            " #   Column                    Non-Null Count  Dtype  \n",
            "---  ------                    --------------  -----  \n",
            " 0   Unnamed: 0                61 non-null     int64  \n",
            " 1   Player                    61 non-null     object \n",
            " 2   Year                      61 non-null     int64  \n",
            " 3   Draft pick                38 non-null     float64\n",
            " 4   Height (No Shoes)         61 non-null     float64\n",
            " 5   Height (With Shoes)       61 non-null     float64\n",
            " 6   Wingspan                  61 non-null     float64\n",
            " 7   Standing reach            61 non-null     float64\n",
            " 8   Vertical (Max)            49 non-null     float64\n",
            " 9   Vertical (Max Reach)      49 non-null     float64\n",
            " 10  Vertical (No Step)        49 non-null     float64\n",
            " 11  Vertical (No Step Reach)  49 non-null     float64\n",
            " 12  Weight                    60 non-null     float64\n",
            " 13  Body Fat                  60 non-null     float64\n",
            " 14  Hand (Length)             61 non-null     float64\n",
            " 15  Hand (Width)              61 non-null     float64\n",
            " 16  Bench                     0 non-null      float64\n",
            " 17  Agility                   49 non-null     float64\n",
            " 18  Sprint                    48 non-null     float64\n",
            "dtypes: float64(16), int64(2), object(1)\n",
            "memory usage: 9.2+ KB\n"
          ]
        }
      ]
    },
    {
      "cell_type": "code",
      "source": [
        "df.duplicated().sum()"
      ],
      "metadata": {
        "colab": {
          "base_uri": "https://localhost:8080/"
        },
        "id": "qYfqV-dZOJnL",
        "outputId": "42cd4f2d-fdf9-4933-c361-bc5f134dbee5"
      },
      "execution_count": 73,
      "outputs": [
        {
          "output_type": "execute_result",
          "data": {
            "text/plain": [
              "0"
            ]
          },
          "metadata": {},
          "execution_count": 73
        }
      ]
    },
    {
      "cell_type": "code",
      "source": [
        "df = df.drop('Unnamed: 0', axis = 1)\n",
        "print(df.head())"
      ],
      "metadata": {
        "colab": {
          "base_uri": "https://localhost:8080/"
        },
        "id": "KGGeoTv5OQPr",
        "outputId": "47cea2e0-8805-416a-9880-a4362bccabb6"
      },
      "execution_count": 74,
      "outputs": [
        {
          "output_type": "stream",
          "name": "stdout",
          "text": [
            "           Player  Year  Draft pick  Height (No Shoes)  Height (With Shoes)  \\\n",
            "0    A.J. English  2016         NaN              74.00                75.00   \n",
            "1      Ben Bentil  2016        51.0              79.25                80.25   \n",
            "2   Brice Johnson  2016        25.0              81.00                82.50   \n",
            "3     Buddy Hield  2016         6.0              75.75                77.00   \n",
            "4  Caleb Swanigan  2016         NaN              79.50                80.50   \n",
            "\n",
            "   Wingspan  Standing reach  Vertical (Max)  Vertical (Max Reach)  \\\n",
            "0     82.00            98.5            35.5                 134.0   \n",
            "1     85.50           105.0            33.0                 138.0   \n",
            "2     84.50           106.5            38.0                 144.5   \n",
            "3     81.25           101.0             NaN                   NaN   \n",
            "4     87.50           107.0            29.0                 136.0   \n",
            "\n",
            "   Vertical (No Step)  Vertical (No Step Reach)  Weight  Body Fat  \\\n",
            "0                29.5                     128.0   182.0       5.3   \n",
            "1                29.0                     134.0   229.0       9.7   \n",
            "2                33.5                     140.0   209.0       7.5   \n",
            "3                 NaN                       NaN   212.0       6.1   \n",
            "4                26.0                     133.0   247.0      12.6   \n",
            "\n",
            "   Hand (Length)  Hand (Width)  Bench  Agility  Sprint  \n",
            "0           8.75          8.50    NaN    12.27    3.28  \n",
            "1           9.50         10.00    NaN    11.16    3.30  \n",
            "2           9.00          8.25    NaN    11.88    3.20  \n",
            "3           8.50          9.00    NaN      NaN     NaN  \n",
            "4           9.00         10.25    NaN    12.80     NaN  \n"
          ]
        }
      ]
    },
    {
      "cell_type": "code",
      "source": [
        "df = df.drop('Year', axis = 1)\n",
        "print(df.head())"
      ],
      "metadata": {
        "colab": {
          "base_uri": "https://localhost:8080/"
        },
        "id": "CiGuLmMhPfR-",
        "outputId": "e3bde6a7-da01-4c9d-a83a-06773bfe0f3e"
      },
      "execution_count": 75,
      "outputs": [
        {
          "output_type": "stream",
          "name": "stdout",
          "text": [
            "           Player  Draft pick  Height (No Shoes)  Height (With Shoes)  \\\n",
            "0    A.J. English         NaN              74.00                75.00   \n",
            "1      Ben Bentil        51.0              79.25                80.25   \n",
            "2   Brice Johnson        25.0              81.00                82.50   \n",
            "3     Buddy Hield         6.0              75.75                77.00   \n",
            "4  Caleb Swanigan         NaN              79.50                80.50   \n",
            "\n",
            "   Wingspan  Standing reach  Vertical (Max)  Vertical (Max Reach)  \\\n",
            "0     82.00            98.5            35.5                 134.0   \n",
            "1     85.50           105.0            33.0                 138.0   \n",
            "2     84.50           106.5            38.0                 144.5   \n",
            "3     81.25           101.0             NaN                   NaN   \n",
            "4     87.50           107.0            29.0                 136.0   \n",
            "\n",
            "   Vertical (No Step)  Vertical (No Step Reach)  Weight  Body Fat  \\\n",
            "0                29.5                     128.0   182.0       5.3   \n",
            "1                29.0                     134.0   229.0       9.7   \n",
            "2                33.5                     140.0   209.0       7.5   \n",
            "3                 NaN                       NaN   212.0       6.1   \n",
            "4                26.0                     133.0   247.0      12.6   \n",
            "\n",
            "   Hand (Length)  Hand (Width)  Bench  Agility  Sprint  \n",
            "0           8.75          8.50    NaN    12.27    3.28  \n",
            "1           9.50         10.00    NaN    11.16    3.30  \n",
            "2           9.00          8.25    NaN    11.88    3.20  \n",
            "3           8.50          9.00    NaN      NaN     NaN  \n",
            "4           9.00         10.25    NaN    12.80     NaN  \n"
          ]
        }
      ]
    },
    {
      "cell_type": "code",
      "source": [
        "df = df.drop('Height (With Shoes)', axis = 1)\n",
        "print(df.head())"
      ],
      "metadata": {
        "colab": {
          "base_uri": "https://localhost:8080/"
        },
        "id": "hVLkzOqgPorf",
        "outputId": "a73e8c7c-246f-4780-8736-76d5b7a56a72"
      },
      "execution_count": 76,
      "outputs": [
        {
          "output_type": "stream",
          "name": "stdout",
          "text": [
            "           Player  Draft pick  Height (No Shoes)  Wingspan  Standing reach  \\\n",
            "0    A.J. English         NaN              74.00     82.00            98.5   \n",
            "1      Ben Bentil        51.0              79.25     85.50           105.0   \n",
            "2   Brice Johnson        25.0              81.00     84.50           106.5   \n",
            "3     Buddy Hield         6.0              75.75     81.25           101.0   \n",
            "4  Caleb Swanigan         NaN              79.50     87.50           107.0   \n",
            "\n",
            "   Vertical (Max)  Vertical (Max Reach)  Vertical (No Step)  \\\n",
            "0            35.5                 134.0                29.5   \n",
            "1            33.0                 138.0                29.0   \n",
            "2            38.0                 144.5                33.5   \n",
            "3             NaN                   NaN                 NaN   \n",
            "4            29.0                 136.0                26.0   \n",
            "\n",
            "   Vertical (No Step Reach)  Weight  Body Fat  Hand (Length)  Hand (Width)  \\\n",
            "0                     128.0   182.0       5.3           8.75          8.50   \n",
            "1                     134.0   229.0       9.7           9.50         10.00   \n",
            "2                     140.0   209.0       7.5           9.00          8.25   \n",
            "3                       NaN   212.0       6.1           8.50          9.00   \n",
            "4                     133.0   247.0      12.6           9.00         10.25   \n",
            "\n",
            "   Bench  Agility  Sprint  \n",
            "0    NaN    12.27    3.28  \n",
            "1    NaN    11.16    3.30  \n",
            "2    NaN    11.88    3.20  \n",
            "3    NaN      NaN     NaN  \n",
            "4    NaN    12.80     NaN  \n"
          ]
        }
      ]
    },
    {
      "cell_type": "code",
      "source": [
        "df = df.drop('Bench', axis = 1)\n",
        "print(df.head())"
      ],
      "metadata": {
        "colab": {
          "base_uri": "https://localhost:8080/"
        },
        "id": "Hsj0PT6lP-Uh",
        "outputId": "6fa6cfd2-7418-402a-a3a3-186ccf58a13d"
      },
      "execution_count": 77,
      "outputs": [
        {
          "output_type": "stream",
          "name": "stdout",
          "text": [
            "           Player  Draft pick  Height (No Shoes)  Wingspan  Standing reach  \\\n",
            "0    A.J. English         NaN              74.00     82.00            98.5   \n",
            "1      Ben Bentil        51.0              79.25     85.50           105.0   \n",
            "2   Brice Johnson        25.0              81.00     84.50           106.5   \n",
            "3     Buddy Hield         6.0              75.75     81.25           101.0   \n",
            "4  Caleb Swanigan         NaN              79.50     87.50           107.0   \n",
            "\n",
            "   Vertical (Max)  Vertical (Max Reach)  Vertical (No Step)  \\\n",
            "0            35.5                 134.0                29.5   \n",
            "1            33.0                 138.0                29.0   \n",
            "2            38.0                 144.5                33.5   \n",
            "3             NaN                   NaN                 NaN   \n",
            "4            29.0                 136.0                26.0   \n",
            "\n",
            "   Vertical (No Step Reach)  Weight  Body Fat  Hand (Length)  Hand (Width)  \\\n",
            "0                     128.0   182.0       5.3           8.75          8.50   \n",
            "1                     134.0   229.0       9.7           9.50         10.00   \n",
            "2                     140.0   209.0       7.5           9.00          8.25   \n",
            "3                       NaN   212.0       6.1           8.50          9.00   \n",
            "4                     133.0   247.0      12.6           9.00         10.25   \n",
            "\n",
            "   Agility  Sprint  \n",
            "0    12.27    3.28  \n",
            "1    11.16    3.30  \n",
            "2    11.88    3.20  \n",
            "3      NaN     NaN  \n",
            "4    12.80     NaN  \n"
          ]
        }
      ]
    },
    {
      "cell_type": "code",
      "source": [
        "df.isna().sum()"
      ],
      "metadata": {
        "id": "J9vCU2FTSy1R",
        "colab": {
          "base_uri": "https://localhost:8080/"
        },
        "outputId": "7ab8b7a6-5894-4211-e457-2c7829cfc83a"
      },
      "execution_count": 78,
      "outputs": [
        {
          "output_type": "execute_result",
          "data": {
            "text/plain": [
              "Player                       0\n",
              "Draft pick                  23\n",
              "Height (No Shoes)            0\n",
              "Wingspan                     0\n",
              "Standing reach               0\n",
              "Vertical (Max)              12\n",
              "Vertical (Max Reach)        12\n",
              "Vertical (No Step)          12\n",
              "Vertical (No Step Reach)    12\n",
              "Weight                       1\n",
              "Body Fat                     1\n",
              "Hand (Length)                0\n",
              "Hand (Width)                 0\n",
              "Agility                     12\n",
              "Sprint                      13\n",
              "dtype: int64"
            ]
          },
          "metadata": {},
          "execution_count": 78
        }
      ]
    },
    {
      "cell_type": "code",
      "source": [
        "X = df.drop(columns=['Wingspan'])\n",
        "y = df['Wingspan']"
      ],
      "metadata": {
        "id": "YdCu5KGAQFAm"
      },
      "execution_count": 79,
      "outputs": []
    },
    {
      "cell_type": "code",
      "source": [
        "X_train, X_test, y_train, y_test = train_test_split(X, y, random_state=42)"
      ],
      "metadata": {
        "id": "fRfL5eoRZj-d"
      },
      "execution_count": 80,
      "outputs": []
    },
    {
      "cell_type": "code",
      "source": [
        "num_selector = make_column_selector(dtype_include='number')\n",
        "cat_selector = make_column_selector(dtype_include='object')"
      ],
      "metadata": {
        "id": "NpdOQef9ZF9g"
      },
      "execution_count": 81,
      "outputs": []
    },
    {
      "cell_type": "code",
      "source": [
        "num_columns = num_selector(X_train)\n",
        "cat_columns = cat_selector(X_train)"
      ],
      "metadata": {
        "id": "dhcw-1PrZh4i"
      },
      "execution_count": 82,
      "outputs": []
    },
    {
      "cell_type": "code",
      "source": [
        "print('numeric columns are', num_columns)\n",
        "print('categorical columns are', cat_columns)"
      ],
      "metadata": {
        "colab": {
          "base_uri": "https://localhost:8080/"
        },
        "id": "eokfe2UtZnM-",
        "outputId": "eefe5c7b-4009-4e84-b8e9-3316a131a0ea"
      },
      "execution_count": 83,
      "outputs": [
        {
          "output_type": "stream",
          "name": "stdout",
          "text": [
            "numeric columns are ['Draft pick', 'Height (No Shoes)', 'Standing reach', 'Vertical (Max)', 'Vertical (Max Reach)', 'Vertical (No Step)', 'Vertical (No Step Reach)', 'Weight', 'Body Fat', 'Hand (Length)', 'Hand (Width)', 'Agility', 'Sprint']\n",
            "categorical columns are ['Player']\n"
          ]
        }
      ]
    },
    {
      "cell_type": "code",
      "source": [
        "mean_imputer = SimpleImputer(strategy = 'mean')\n",
        "mean_imputer.fit(X_train[num_columns])"
      ],
      "metadata": {
        "colab": {
          "base_uri": "https://localhost:8080/",
          "height": 75
        },
        "id": "dq30TTG7ZrWP",
        "outputId": "ef35f0b6-040f-4d28-e012-3a08af904c7a"
      },
      "execution_count": 94,
      "outputs": [
        {
          "output_type": "execute_result",
          "data": {
            "text/plain": [
              "SimpleImputer()"
            ],
            "text/html": [
              "<style>#sk-f92ff1e5-9f51-48a9-b701-24f124a2fcfb {color: black;background-color: white;}#sk-f92ff1e5-9f51-48a9-b701-24f124a2fcfb pre{padding: 0;}#sk-f92ff1e5-9f51-48a9-b701-24f124a2fcfb div.sk-toggleable {background-color: white;}#sk-f92ff1e5-9f51-48a9-b701-24f124a2fcfb label.sk-toggleable__label {cursor: pointer;display: block;width: 100%;margin-bottom: 0;padding: 0.3em;box-sizing: border-box;text-align: center;}#sk-f92ff1e5-9f51-48a9-b701-24f124a2fcfb label.sk-toggleable__label-arrow:before {content: \"▸\";float: left;margin-right: 0.25em;color: #696969;}#sk-f92ff1e5-9f51-48a9-b701-24f124a2fcfb label.sk-toggleable__label-arrow:hover:before {color: black;}#sk-f92ff1e5-9f51-48a9-b701-24f124a2fcfb div.sk-estimator:hover label.sk-toggleable__label-arrow:before {color: black;}#sk-f92ff1e5-9f51-48a9-b701-24f124a2fcfb div.sk-toggleable__content {max-height: 0;max-width: 0;overflow: hidden;text-align: left;background-color: #f0f8ff;}#sk-f92ff1e5-9f51-48a9-b701-24f124a2fcfb div.sk-toggleable__content pre {margin: 0.2em;color: black;border-radius: 0.25em;background-color: #f0f8ff;}#sk-f92ff1e5-9f51-48a9-b701-24f124a2fcfb input.sk-toggleable__control:checked~div.sk-toggleable__content {max-height: 200px;max-width: 100%;overflow: auto;}#sk-f92ff1e5-9f51-48a9-b701-24f124a2fcfb input.sk-toggleable__control:checked~label.sk-toggleable__label-arrow:before {content: \"▾\";}#sk-f92ff1e5-9f51-48a9-b701-24f124a2fcfb div.sk-estimator input.sk-toggleable__control:checked~label.sk-toggleable__label {background-color: #d4ebff;}#sk-f92ff1e5-9f51-48a9-b701-24f124a2fcfb div.sk-label input.sk-toggleable__control:checked~label.sk-toggleable__label {background-color: #d4ebff;}#sk-f92ff1e5-9f51-48a9-b701-24f124a2fcfb input.sk-hidden--visually {border: 0;clip: rect(1px 1px 1px 1px);clip: rect(1px, 1px, 1px, 1px);height: 1px;margin: -1px;overflow: hidden;padding: 0;position: absolute;width: 1px;}#sk-f92ff1e5-9f51-48a9-b701-24f124a2fcfb div.sk-estimator {font-family: monospace;background-color: #f0f8ff;border: 1px dotted black;border-radius: 0.25em;box-sizing: border-box;margin-bottom: 0.5em;}#sk-f92ff1e5-9f51-48a9-b701-24f124a2fcfb div.sk-estimator:hover {background-color: #d4ebff;}#sk-f92ff1e5-9f51-48a9-b701-24f124a2fcfb div.sk-parallel-item::after {content: \"\";width: 100%;border-bottom: 1px solid gray;flex-grow: 1;}#sk-f92ff1e5-9f51-48a9-b701-24f124a2fcfb div.sk-label:hover label.sk-toggleable__label {background-color: #d4ebff;}#sk-f92ff1e5-9f51-48a9-b701-24f124a2fcfb div.sk-serial::before {content: \"\";position: absolute;border-left: 1px solid gray;box-sizing: border-box;top: 2em;bottom: 0;left: 50%;}#sk-f92ff1e5-9f51-48a9-b701-24f124a2fcfb div.sk-serial {display: flex;flex-direction: column;align-items: center;background-color: white;padding-right: 0.2em;padding-left: 0.2em;}#sk-f92ff1e5-9f51-48a9-b701-24f124a2fcfb div.sk-item {z-index: 1;}#sk-f92ff1e5-9f51-48a9-b701-24f124a2fcfb div.sk-parallel {display: flex;align-items: stretch;justify-content: center;background-color: white;}#sk-f92ff1e5-9f51-48a9-b701-24f124a2fcfb div.sk-parallel::before {content: \"\";position: absolute;border-left: 1px solid gray;box-sizing: border-box;top: 2em;bottom: 0;left: 50%;}#sk-f92ff1e5-9f51-48a9-b701-24f124a2fcfb div.sk-parallel-item {display: flex;flex-direction: column;position: relative;background-color: white;}#sk-f92ff1e5-9f51-48a9-b701-24f124a2fcfb div.sk-parallel-item:first-child::after {align-self: flex-end;width: 50%;}#sk-f92ff1e5-9f51-48a9-b701-24f124a2fcfb div.sk-parallel-item:last-child::after {align-self: flex-start;width: 50%;}#sk-f92ff1e5-9f51-48a9-b701-24f124a2fcfb div.sk-parallel-item:only-child::after {width: 0;}#sk-f92ff1e5-9f51-48a9-b701-24f124a2fcfb div.sk-dashed-wrapped {border: 1px dashed gray;margin: 0 0.4em 0.5em 0.4em;box-sizing: border-box;padding-bottom: 0.4em;background-color: white;position: relative;}#sk-f92ff1e5-9f51-48a9-b701-24f124a2fcfb div.sk-label label {font-family: monospace;font-weight: bold;background-color: white;display: inline-block;line-height: 1.2em;}#sk-f92ff1e5-9f51-48a9-b701-24f124a2fcfb div.sk-label-container {position: relative;z-index: 2;text-align: center;}#sk-f92ff1e5-9f51-48a9-b701-24f124a2fcfb div.sk-container {/* jupyter's `normalize.less` sets `[hidden] { display: none; }` but bootstrap.min.css set `[hidden] { display: none !important; }` so we also need the `!important` here to be able to override the default hidden behavior on the sphinx rendered scikit-learn.org. See: https://github.com/scikit-learn/scikit-learn/issues/21755 */display: inline-block !important;position: relative;}#sk-f92ff1e5-9f51-48a9-b701-24f124a2fcfb div.sk-text-repr-fallback {display: none;}</style><div id=\"sk-f92ff1e5-9f51-48a9-b701-24f124a2fcfb\" class=\"sk-top-container\"><div class=\"sk-text-repr-fallback\"><pre>SimpleImputer()</pre><b>Please rerun this cell to show the HTML repr or trust the notebook.</b></div><div class=\"sk-container\" hidden><div class=\"sk-item\"><div class=\"sk-estimator sk-toggleable\"><input class=\"sk-toggleable__control sk-hidden--visually\" id=\"19ab909d-05f8-40dc-a95f-1b88299df584\" type=\"checkbox\" checked><label for=\"19ab909d-05f8-40dc-a95f-1b88299df584\" class=\"sk-toggleable__label sk-toggleable__label-arrow\">SimpleImputer</label><div class=\"sk-toggleable__content\"><pre>SimpleImputer()</pre></div></div></div></div></div>"
            ]
          },
          "metadata": {},
          "execution_count": 94
        }
      ]
    },
    {
      "cell_type": "code",
      "source": [
        "X_train.loc[:, num_columns] = mean_imputer.transform(X_train[num_columns])\n",
        "X_test.loc[:, num_columns] = mean_imputer.transform(X_test[num_columns])"
      ],
      "metadata": {
        "id": "RxCLlH8AgNcX"
      },
      "execution_count": 95,
      "outputs": []
    },
    {
      "cell_type": "code",
      "source": [
        "constant_imputer = SimpleImputer(strategy='constant', fill_value = 'missing')\n",
        "constant_imputer.fit(X_train[cat_columns])"
      ],
      "metadata": {
        "colab": {
          "base_uri": "https://localhost:8080/",
          "height": 75
        },
        "id": "ycCYoj7qgQ0p",
        "outputId": "c75483d2-0e39-4b20-d078-47cf6bb1c040"
      },
      "execution_count": 96,
      "outputs": [
        {
          "output_type": "execute_result",
          "data": {
            "text/plain": [
              "SimpleImputer(fill_value='missing', strategy='constant')"
            ],
            "text/html": [
              "<style>#sk-75fd65aa-894a-4191-9a0c-701c6fd52136 {color: black;background-color: white;}#sk-75fd65aa-894a-4191-9a0c-701c6fd52136 pre{padding: 0;}#sk-75fd65aa-894a-4191-9a0c-701c6fd52136 div.sk-toggleable {background-color: white;}#sk-75fd65aa-894a-4191-9a0c-701c6fd52136 label.sk-toggleable__label {cursor: pointer;display: block;width: 100%;margin-bottom: 0;padding: 0.3em;box-sizing: border-box;text-align: center;}#sk-75fd65aa-894a-4191-9a0c-701c6fd52136 label.sk-toggleable__label-arrow:before {content: \"▸\";float: left;margin-right: 0.25em;color: #696969;}#sk-75fd65aa-894a-4191-9a0c-701c6fd52136 label.sk-toggleable__label-arrow:hover:before {color: black;}#sk-75fd65aa-894a-4191-9a0c-701c6fd52136 div.sk-estimator:hover label.sk-toggleable__label-arrow:before {color: black;}#sk-75fd65aa-894a-4191-9a0c-701c6fd52136 div.sk-toggleable__content {max-height: 0;max-width: 0;overflow: hidden;text-align: left;background-color: #f0f8ff;}#sk-75fd65aa-894a-4191-9a0c-701c6fd52136 div.sk-toggleable__content pre {margin: 0.2em;color: black;border-radius: 0.25em;background-color: #f0f8ff;}#sk-75fd65aa-894a-4191-9a0c-701c6fd52136 input.sk-toggleable__control:checked~div.sk-toggleable__content {max-height: 200px;max-width: 100%;overflow: auto;}#sk-75fd65aa-894a-4191-9a0c-701c6fd52136 input.sk-toggleable__control:checked~label.sk-toggleable__label-arrow:before {content: \"▾\";}#sk-75fd65aa-894a-4191-9a0c-701c6fd52136 div.sk-estimator input.sk-toggleable__control:checked~label.sk-toggleable__label {background-color: #d4ebff;}#sk-75fd65aa-894a-4191-9a0c-701c6fd52136 div.sk-label input.sk-toggleable__control:checked~label.sk-toggleable__label {background-color: #d4ebff;}#sk-75fd65aa-894a-4191-9a0c-701c6fd52136 input.sk-hidden--visually {border: 0;clip: rect(1px 1px 1px 1px);clip: rect(1px, 1px, 1px, 1px);height: 1px;margin: -1px;overflow: hidden;padding: 0;position: absolute;width: 1px;}#sk-75fd65aa-894a-4191-9a0c-701c6fd52136 div.sk-estimator {font-family: monospace;background-color: #f0f8ff;border: 1px dotted black;border-radius: 0.25em;box-sizing: border-box;margin-bottom: 0.5em;}#sk-75fd65aa-894a-4191-9a0c-701c6fd52136 div.sk-estimator:hover {background-color: #d4ebff;}#sk-75fd65aa-894a-4191-9a0c-701c6fd52136 div.sk-parallel-item::after {content: \"\";width: 100%;border-bottom: 1px solid gray;flex-grow: 1;}#sk-75fd65aa-894a-4191-9a0c-701c6fd52136 div.sk-label:hover label.sk-toggleable__label {background-color: #d4ebff;}#sk-75fd65aa-894a-4191-9a0c-701c6fd52136 div.sk-serial::before {content: \"\";position: absolute;border-left: 1px solid gray;box-sizing: border-box;top: 2em;bottom: 0;left: 50%;}#sk-75fd65aa-894a-4191-9a0c-701c6fd52136 div.sk-serial {display: flex;flex-direction: column;align-items: center;background-color: white;padding-right: 0.2em;padding-left: 0.2em;}#sk-75fd65aa-894a-4191-9a0c-701c6fd52136 div.sk-item {z-index: 1;}#sk-75fd65aa-894a-4191-9a0c-701c6fd52136 div.sk-parallel {display: flex;align-items: stretch;justify-content: center;background-color: white;}#sk-75fd65aa-894a-4191-9a0c-701c6fd52136 div.sk-parallel::before {content: \"\";position: absolute;border-left: 1px solid gray;box-sizing: border-box;top: 2em;bottom: 0;left: 50%;}#sk-75fd65aa-894a-4191-9a0c-701c6fd52136 div.sk-parallel-item {display: flex;flex-direction: column;position: relative;background-color: white;}#sk-75fd65aa-894a-4191-9a0c-701c6fd52136 div.sk-parallel-item:first-child::after {align-self: flex-end;width: 50%;}#sk-75fd65aa-894a-4191-9a0c-701c6fd52136 div.sk-parallel-item:last-child::after {align-self: flex-start;width: 50%;}#sk-75fd65aa-894a-4191-9a0c-701c6fd52136 div.sk-parallel-item:only-child::after {width: 0;}#sk-75fd65aa-894a-4191-9a0c-701c6fd52136 div.sk-dashed-wrapped {border: 1px dashed gray;margin: 0 0.4em 0.5em 0.4em;box-sizing: border-box;padding-bottom: 0.4em;background-color: white;position: relative;}#sk-75fd65aa-894a-4191-9a0c-701c6fd52136 div.sk-label label {font-family: monospace;font-weight: bold;background-color: white;display: inline-block;line-height: 1.2em;}#sk-75fd65aa-894a-4191-9a0c-701c6fd52136 div.sk-label-container {position: relative;z-index: 2;text-align: center;}#sk-75fd65aa-894a-4191-9a0c-701c6fd52136 div.sk-container {/* jupyter's `normalize.less` sets `[hidden] { display: none; }` but bootstrap.min.css set `[hidden] { display: none !important; }` so we also need the `!important` here to be able to override the default hidden behavior on the sphinx rendered scikit-learn.org. See: https://github.com/scikit-learn/scikit-learn/issues/21755 */display: inline-block !important;position: relative;}#sk-75fd65aa-894a-4191-9a0c-701c6fd52136 div.sk-text-repr-fallback {display: none;}</style><div id=\"sk-75fd65aa-894a-4191-9a0c-701c6fd52136\" class=\"sk-top-container\"><div class=\"sk-text-repr-fallback\"><pre>SimpleImputer(fill_value=&#x27;missing&#x27;, strategy=&#x27;constant&#x27;)</pre><b>Please rerun this cell to show the HTML repr or trust the notebook.</b></div><div class=\"sk-container\" hidden><div class=\"sk-item\"><div class=\"sk-estimator sk-toggleable\"><input class=\"sk-toggleable__control sk-hidden--visually\" id=\"9b4cbe7c-3b2c-4e6b-92e7-c4ad0933de17\" type=\"checkbox\" checked><label for=\"9b4cbe7c-3b2c-4e6b-92e7-c4ad0933de17\" class=\"sk-toggleable__label sk-toggleable__label-arrow\">SimpleImputer</label><div class=\"sk-toggleable__content\"><pre>SimpleImputer(fill_value=&#x27;missing&#x27;, strategy=&#x27;constant&#x27;)</pre></div></div></div></div></div>"
            ]
          },
          "metadata": {},
          "execution_count": 96
        }
      ]
    },
    {
      "cell_type": "code",
      "source": [
        "X_train.loc[:, cat_columns] = constant_imputer.transform(X_train[cat_columns])\n",
        "X_test.loc[:, cat_columns] = constant_imputer.transform(X_test[cat_columns])"
      ],
      "metadata": {
        "id": "QBKvtNORh-YZ"
      },
      "execution_count": 97,
      "outputs": []
    },
    {
      "cell_type": "code",
      "source": [
        "sns.boxplot(data = df.loc[:, ['Height (No Shoes)']], notch = True)"
      ],
      "metadata": {
        "colab": {
          "base_uri": "https://localhost:8080/",
          "height": 282
        },
        "id": "sUgJ832mkDJx",
        "outputId": "30359ed4-31eb-4aa9-d2fd-b6e0f801a882"
      },
      "execution_count": 100,
      "outputs": [
        {
          "output_type": "execute_result",
          "data": {
            "text/plain": [
              "<matplotlib.axes._subplots.AxesSubplot at 0x7faa4a87a6d0>"
            ]
          },
          "metadata": {},
          "execution_count": 100
        },
        {
          "output_type": "display_data",
          "data": {
            "text/plain": [
              "<Figure size 432x288 with 1 Axes>"
            ],
            "image/png": "[encoded data removed]"
          },
          "metadata": {
            "needs_background": "light"
          }
        }
      ]
    },
    {
      "cell_type": "code",
      "source": [
        "sns.boxplot(data = df.loc[:, ['Wingspan']], notch = True)"
      ],
      "metadata": {
        "colab": {
          "base_uri": "https://localhost:8080/",
          "height": 285
        },
        "id": "nmKt6bvgkf4C",
        "outputId": "471fd39d-50dc-4fed-ba3a-13cd1dd0e90d"
      },
      "execution_count": 101,
      "outputs": [
        {
          "output_type": "execute_result",
          "data": {
            "text/plain": [
              "<matplotlib.axes._subplots.AxesSubplot at 0x7faa4a7a6f90>"
            ]
          },
          "metadata": {},
          "execution_count": 101
        },
        {
          "output_type": "display_data",
          "data": {
            "text/plain": [
              "<Figure size 432x288 with 1 Axes>"
            ],
            "image/png": "[encoded data removed]"
          },
          "metadata": {
            "needs_background": "light"
          }
        }
      ]
    },
    {
      "cell_type": "code",
      "source": [
        "sns.boxplot(data = df.loc[:, ['Standing reach']], notch = True)"
      ],
      "metadata": {
        "colab": {
          "base_uri": "https://localhost:8080/",
          "height": 282
        },
        "id": "qaROfDnjkpLv",
        "outputId": "82e30220-ee09-4189-ee07-6cc544dc601c"
      },
      "execution_count": 102,
      "outputs": [
        {
          "output_type": "execute_result",
          "data": {
            "text/plain": [
              "<matplotlib.axes._subplots.AxesSubplot at 0x7faa4a7ae4d0>"
            ]
          },
          "metadata": {},
          "execution_count": 102
        },
        {
          "output_type": "display_data",
          "data": {
            "text/plain": [
              "<Figure size 432x288 with 1 Axes>"
            ],
            "image/png": "[encoded data removed]"
          },
          "metadata": {
            "needs_background": "light"
          }
        }
      ]
    },
    {
      "cell_type": "code",
      "source": [
        "plt.scatter(df.index,df['Vertical (Max)'])\n",
        "plt.show"
      ],
      "metadata": {
        "colab": {
          "base_uri": "https://localhost:8080/",
          "height": 282
        },
        "id": "8_BVnKgsk5w-",
        "outputId": "eab09a7a-1bf5-49e5-f355-19b8a243b2b1"
      },
      "execution_count": 105,
      "outputs": [
        {
          "output_type": "execute_result",
          "data": {
            "text/plain": [
              "<function matplotlib.pyplot.show>"
            ]
          },
          "metadata": {},
          "execution_count": 105
        },
        {
          "output_type": "display_data",
          "data": {
            "text/plain": [
              "<Figure size 432x288 with 1 Axes>"
            ],
            "image/png": "[encoded data removed]"
          },
          "metadata": {
            "needs_background": "light"
          }
        }
      ]
    },
    {
      "cell_type": "code",
      "source": [
        "plt.scatter(df.index,df['Vertical (Max Reach)'])\n",
        "plt.show"
      ],
      "metadata": {
        "colab": {
          "base_uri": "https://localhost:8080/",
          "height": 282
        },
        "id": "Vr-YRkJWlypZ",
        "outputId": "caa53c34-f8ea-4dd8-fe83-99f05c2591dd"
      },
      "execution_count": 106,
      "outputs": [
        {
          "output_type": "execute_result",
          "data": {
            "text/plain": [
              "<function matplotlib.pyplot.show>"
            ]
          },
          "metadata": {},
          "execution_count": 106
        },
        {
          "output_type": "display_data",
          "data": {
            "text/plain": [
              "<Figure size 432x288 with 1 Axes>"
            ],
            "image/png": "[encoded data removed]"
          },
          "metadata": {
            "needs_background": "light"
          }
        }
      ]
    },
    {
      "cell_type": "code",
      "source": [
        "plt.scatter(df.index,df['Vertical (No Step)'])\n",
        "plt.show"
      ],
      "metadata": {
        "colab": {
          "base_uri": "https://localhost:8080/",
          "height": 283
        },
        "id": "8YIXq4yxl3IH",
        "outputId": "850a9e40-215c-4dd2-f03e-1b14af1136bc"
      },
      "execution_count": 107,
      "outputs": [
        {
          "output_type": "execute_result",
          "data": {
            "text/plain": [
              "<function matplotlib.pyplot.show>"
            ]
          },
          "metadata": {},
          "execution_count": 107
        },
        {
          "output_type": "display_data",
          "data": {
            "text/plain": [
              "<Figure size 432x288 with 1 Axes>"
            ],
            "image/png": "[encoded data removed]"
          },
          "metadata": {
            "needs_background": "light"
          }
        }
      ]
    },
    {
      "cell_type": "code",
      "source": [
        "plt.scatter(df.index,df['Vertical (No Step Reach)'])\n",
        "plt.show"
      ],
      "metadata": {
        "colab": {
          "base_uri": "https://localhost:8080/",
          "height": 284
        },
        "id": "oFUB2xVSmAXH",
        "outputId": "b376e1a2-2d24-4a9b-aa20-15b37de3a5a0"
      },
      "execution_count": 108,
      "outputs": [
        {
          "output_type": "execute_result",
          "data": {
            "text/plain": [
              "<function matplotlib.pyplot.show>"
            ]
          },
          "metadata": {},
          "execution_count": 108
        },
        {
          "output_type": "display_data",
          "data": {
            "text/plain": [
              "<Figure size 432x288 with 1 Axes>"
            ],
            "image/png": "[encoded data removed]"
          },
          "metadata": {
            "needs_background": "light"
          }
        }
      ]
    },
    {
      "cell_type": "code",
      "source": [
        "sns.boxplot(data = df.loc[:, ['Weight']], notch = True)"
      ],
      "metadata": {
        "colab": {
          "base_uri": "https://localhost:8080/",
          "height": 282
        },
        "id": "bd2mYy-7mIAG",
        "outputId": "6462e7e6-ed6e-441e-8e5f-9b34b94db9a9"
      },
      "execution_count": 109,
      "outputs": [
        {
          "output_type": "execute_result",
          "data": {
            "text/plain": [
              "<matplotlib.axes._subplots.AxesSubplot at 0x7faa47b7d710>"
            ]
          },
          "metadata": {},
          "execution_count": 109
        },
        {
          "output_type": "display_data",
          "data": {
            "text/plain": [
              "<Figure size 432x288 with 1 Axes>"
            ],
            "image/png": "[encoded data removed]"
          },
          "metadata": {
            "needs_background": "light"
          }
        }
      ]
    },
    {
      "cell_type": "code",
      "source": [
        "sns.boxplot(data = df.loc[:, ['Body Fat']], notch = True)"
      ],
      "metadata": {
        "colab": {
          "base_uri": "https://localhost:8080/",
          "height": 282
        },
        "id": "yeZrKPLdmPj4",
        "outputId": "7271ed5c-1d13-4437-d716-159ba4496058"
      },
      "execution_count": 110,
      "outputs": [
        {
          "output_type": "execute_result",
          "data": {
            "text/plain": [
              "<matplotlib.axes._subplots.AxesSubplot at 0x7faa47b07650>"
            ]
          },
          "metadata": {},
          "execution_count": 110
        },
        {
          "output_type": "display_data",
          "data": {
            "text/plain": [
              "<Figure size 432x288 with 1 Axes>"
            ],
            "image/png": "[encoded data removed]"
          },
          "metadata": {
            "needs_background": "light"
          }
        }
      ]
    },
    {
      "cell_type": "code",
      "source": [
        "plt.scatter(df.index,df['Hand (Length)'])\n",
        "plt.show"
      ],
      "metadata": {
        "colab": {
          "base_uri": "https://localhost:8080/",
          "height": 286
        },
        "id": "nAKRoVnTmWK3",
        "outputId": "cbfec903-d77b-4b83-8f83-d2423902e49c"
      },
      "execution_count": 111,
      "outputs": [
        {
          "output_type": "execute_result",
          "data": {
            "text/plain": [
              "<function matplotlib.pyplot.show>"
            ]
          },
          "metadata": {},
          "execution_count": 111
        },
        {
          "output_type": "display_data",
          "data": {
            "text/plain": [
              "<Figure size 432x288 with 1 Axes>"
            ],
            "image/png": "[encoded data removed]"
          },
          "metadata": {
            "needs_background": "light"
          }
        }
      ]
    },
    {
      "cell_type": "code",
      "source": [
        "plt.scatter(df.index,df['Hand (Width)'])\n",
        "plt.show"
      ],
      "metadata": {
        "colab": {
          "base_uri": "https://localhost:8080/",
          "height": 282
        },
        "id": "w5XCTNsHmkHq",
        "outputId": "85f0d777-0d2b-4910-eb29-e8f88f37641a"
      },
      "execution_count": 112,
      "outputs": [
        {
          "output_type": "execute_result",
          "data": {
            "text/plain": [
              "<function matplotlib.pyplot.show>"
            ]
          },
          "metadata": {},
          "execution_count": 112
        },
        {
          "output_type": "display_data",
          "data": {
            "text/plain": [
              "<Figure size 432x288 with 1 Axes>"
            ],
            "image/png": "[encoded data removed]"
          },
          "metadata": {
            "needs_background": "light"
          }
        }
      ]
    },
    {
      "cell_type": "code",
      "source": [
        "sns.boxplot(data = df.loc[:, ['Agility']], notch = True)"
      ],
      "metadata": {
        "colab": {
          "base_uri": "https://localhost:8080/",
          "height": 282
        },
        "id": "Jzqs8Uubmn23",
        "outputId": "99eeb009-694e-4bba-b82d-51267c59dcf8"
      },
      "execution_count": 113,
      "outputs": [
        {
          "output_type": "execute_result",
          "data": {
            "text/plain": [
              "<matplotlib.axes._subplots.AxesSubplot at 0x7faa479da650>"
            ]
          },
          "metadata": {},
          "execution_count": 113
        },
        {
          "output_type": "display_data",
          "data": {
            "text/plain": [
              "<Figure size 432x288 with 1 Axes>"
            ],
            "image/png": "[encoded data removed]"
          },
          "metadata": {
            "needs_background": "light"
          }
        }
      ]
    },
    {
      "cell_type": "code",
      "source": [
        "sns.boxplot(data = df.loc[:, ['Sprint']], notch = True)"
      ],
      "metadata": {
        "colab": {
          "base_uri": "https://localhost:8080/",
          "height": 282
        },
        "id": "2j61ju53mvV2",
        "outputId": "d4c2cd9e-4f22-4368-ff24-f9791e9f9ffe"
      },
      "execution_count": 114,
      "outputs": [
        {
          "output_type": "execute_result",
          "data": {
            "text/plain": [
              "<matplotlib.axes._subplots.AxesSubplot at 0x7faa479ac710>"
            ]
          },
          "metadata": {},
          "execution_count": 114
        },
        {
          "output_type": "display_data",
          "data": {
            "text/plain": [
              "<Figure size 432x288 with 1 Axes>"
            ],
            "image/png": "[encoded data removed]"
          },
          "metadata": {
            "needs_background": "light"
          }
        }
      ]
    },
    {
      "cell_type": "markdown",
      "source": [
        "The First step I took was to drop import my dataset. I shortly followed that step with the decision to drop columns from my dataset that weren't relevant to my data including: Unnamed: 0, Year, Height (With Shoes) & Bench. I decided to use these imputers in my data because I didn't want these missing pieces of data to skew what I was working with. As I was going through my data visualizations, a couple of outliers stood out to me : Body Fat & Height with no shoes. It was interesting to see the variation of the plyer body types that were drafted in this data set."
      ],
      "metadata": {
        "id": "SRwOBElLfXaW"
      }
    }
  ]
}